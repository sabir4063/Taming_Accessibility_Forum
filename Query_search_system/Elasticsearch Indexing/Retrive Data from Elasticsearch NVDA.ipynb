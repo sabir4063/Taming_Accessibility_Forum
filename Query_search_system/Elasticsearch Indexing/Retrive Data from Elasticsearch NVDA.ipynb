{
 "cells": [
  {
   "cell_type": "code",
   "execution_count": 1,
   "metadata": {},
   "outputs": [],
   "source": [
    "from elasticsearch import Elasticsearch\n",
    "from datetime import datetime\n",
    "es = Elasticsearch()\n",
    "\n",
    "class tutorial:\n",
    "    # create an instance of elasticsearch and assign it to port 9200\n",
    "    ES_HOST = {\"host\": \"localhost\", \"port\": 9200}\n",
    "    es = Elasticsearch(hosts=[ES_HOST])\n",
    "\n",
    "\n",
    "    def create_index(index_name):\n",
    "        \"\"\"Functionality to create index.\"\"\"\n",
    "        resp = es.indices.create(index=index_name)\n",
    "        print(resp)\n",
    "\n",
    "\n",
    "    def document_add(index_name, doc_type, doc, doc_id=None):\n",
    "        \"\"\"Funtion to add a document by providing index_name,\n",
    "        document type, document contents as doc and document id.\"\"\"\n",
    "        resp = es.index(index=index_name, doc_type=doc_type, body=doc, id=doc_id)\n",
    "        #print(resp)\n",
    "\n",
    "\n",
    "    def document_view(index_name, doc_type, doc_id):\n",
    "        \"\"\"Function to view document.\"\"\"\n",
    "        resp = es.get(index=index_name, doc_type=doc_type, id=doc_id)\n",
    "        document = resp[\"_source\"]['Post']\n",
    "        print(document)\n",
    "\n",
    "\n",
    "    def document_update(index_name, doc_type, doc_id, doc=None, new=None):\n",
    "        \"\"\"Function to edit a document either updating existing fields or adding a new field.\"\"\"\n",
    "        if doc:\n",
    "            resp = es.index(index=index_name, doc_type=doc_type,\n",
    "                            id=doc_id, body=doc)\n",
    "            print(resp)\n",
    "        else:\n",
    "            resp = es.update(index=index_name, doc_type=doc_type,\n",
    "                             id=doc_id, body={\"doc\": new})\n",
    "\n",
    "\n",
    "    def document_delete(index_name, doc_type, doc_id):\n",
    "        \"\"\"Function to delete a specific document.\"\"\"\n",
    "        resp = es.delete(index=index_name, doc_type=doc_type, id=doc_id)\n",
    "        print(resp)\n",
    "\n",
    "\n",
    "    def delete_index(index_name):\n",
    "        \"\"\"Delete an index by specifying the index name\"\"\"\n",
    "        resp = es.indices.delete(index=index_name)\n",
    "        print(resp)"
   ]
  },
  {
   "cell_type": "code",
   "execution_count": 20,
   "metadata": {},
   "outputs": [
    {
     "name": "stdout",
     "output_type": "stream",
     "text": [
      "713 documents found\n",
      "QNDDLGoBSGrx7-wy1xrx) {'ID': '662', 'Title': 'accessing jaws homepage', 'Post': 'hello judith:           wat you call the jaws home page, is in fact, the  jaws window of jaws on your computer.           so, when you press, insert+j, from anywhere within  windows or any program, focus should be given to the jaws window of the  version of jfw you are using. when you use this command,   jaws should say:           jaws context menu, options submenu           home pages, are generally referred too as the  initial page of a web site.           hth           dave durber', 'Tag': 'Answer'}\n",
      "-9DELGoBSGrx7-wyBB7H) {'ID': '3160', 'Title': 'control, alt and j', 'Post': '               i also had this problem.               just now, i killed jaws 17, and  i tried the alt+ctrl+j and jaws        17 came up. i did this three times.              perhaps there is an improvement with the latest jaws 17.              i use the shift+ctrl+j to bring up the last version of jaws. this        is just in case the newest jaws has a problem, then it is easy        enough to bring up the last jaws version.              peter t.                 ', 'Tag': 'Answer'}\n",
      "4NDELGoBSGrx7-wyAx7I) {'ID': '3113', 'Title': 'continued jaws crashing', 'Post': '           it kills jaws and allows jaws to restart clean with nothing of jaws left in memory to make it crash again.          bill white    billwhite92701@...                  ', 'Tag': 'Answer'}\n",
      "DdDELGoBSGrx7-wyDiCF) {'ID': '3626', 'Title': 'cursors in jaws', 'Post': '                invisible is a toggle.  you tap the jaws cursor once and it says jaws, again and it says invisible, then back to jaws.           ted                     ', 'Tag': 'Answer'}\n",
      "utDDLGoBSGrx7-wy-B3_) {'ID': '2475', 'Title': 'changing jaws language', 'Post': '          hello listers     i m new to jaws. i migrated from window-eyes to jaws.  i want to change the jaws language from american english to british english. i go to jaws languages but it says  unavailable . is there a way to activate it?     regards  morne     ', 'Tag': 'Help'}\n",
      "PdDDLGoBSGrx7-wy9B0m) {'ID': '1774', 'Title': 'best way to regain speech if jaws is silent?', 'Post': 'just starting jaws may not be the solution if jaws has crashed and is displaying some error message. for the most part if you wait long enough jaws restarts by itself and by \"long enough\" i mean at least 30 or 40 seconds. after that you can try jaws key+alt+f4, this unloads and reloads jaws. if that doesn\\'t work you can definitely try to simply launch jaws either using the run command as described, windows+r then type jaws18 or jaws2018 and press enter or you can of course set a shortcut key combination like control+alt+j.', 'Tag': 'Answer'}\n",
      "9tDELGoBSGrx7-wyBB6V) {'ID': '3152', 'Title': 'control shift d for dictionary manager. fill in the fields.', 'Post': \" replacement word would be what you want jaws to echo.    for example, in the dictionary manager, i would tuype in jaws, and the replacement edit field, i would type jfw.  now everytime i come across jaws, it'll say jfw. it will still display jaws on the window but the pronounciation will be jfw.  respectfully,  kimsan song  kimsansong@... \", 'Tag': 'Answer'}\n",
      "QNDDLGoBSGrx7-wy9B1K) {'ID': '1777', 'Title': 'best way to regain speech if jaws is silent?', 'Post': 'hello. jawskey+windowskey+f4 doesn t work and jaws doesn t restart. if i start narrator and kill the jaws process i can restart jaws. the problem is narrator is too verbose in the task manager.', 'Tag': 'Answer'}\n",
      "XtDDLGoBSGrx7-wy6xzm) {'ID': '1376', 'Title': 'application key', 'Post': 'in jaws version 16, there used to be a way to assign a function to the print screen key (an otherwise useless key).  the function was \"send applications key,\" and it was available in the jaws keyboard manager.  alas!  along with stability, this feature died with jaws 17.  with the problems i\\'ve been reading about in jaws 18, it seems that the last stable jaws version is 16.  i try to use 17, but i find myself reverting back to 16 frequently.', 'Tag': 'Answer'}\n",
      "Q9DDLGoBSGrx7-wy9B1k) {'ID': '1780', 'Title': 'best way to regain speech if jaws is silent?', 'Post': 'hi, randy. i use jaws 2018, and for me, it is not a two-step process. if i use windows key plus jaws key plus f4, jaws unloads, then reloads in about 60 seconds.    bill white  billwhite92701@...', 'Tag': 'Answer'}\n"
     ]
    }
   ],
   "source": [
    "from elasticsearch import Elasticsearch\n",
    " \n",
    "es = Elasticsearch()\n",
    "\n",
    "search_qry = \"jaws\"\n",
    "\n",
    "res = es.search(index=\"test_v3\", body={\"query\": {\"match\": {'Post':search_qry}}})\n",
    "\n",
    "print(\"%d documents found\" % res['hits']['total'])\n",
    "for doc in res['hits']['hits']:\n",
    "    print(\"%s) %s\" % (doc['_id'], doc['_source']))"
   ]
  },
  {
   "cell_type": "code",
   "execution_count": 18,
   "metadata": {},
   "outputs": [],
   "source": [
    "from elasticsearch import Elasticsearch\n",
    "from itertools import chain\n",
    "from nltk.corpus import wordnet\n",
    "\n",
    "SW_LIST = ['firefox', 'chrome', 'microsoft edge', 'opera', 'internet explorer', 'waterfox', 'microsoft office',\n",
    "           'microsoft word', 'microsoft excel', 'microsoft powerpoint', 'browser']\n",
    "\n",
    "def return_conversions_for_query(query):\n",
    "    es = Elasticsearch()\n",
    "    \n",
    "#     sw_name = []\n",
    "#     other_words = []\n",
    "#     for word in query.split():\n",
    "#         if word in SW_LIST:\n",
    "#             sw_name.append(word)\n",
    "#         else:\n",
    "#             synonyms = wordnet.synsets(word)\n",
    "#             lemmas = list(set(chain.from_iterable([w.lemma_names() for w in synonyms])))[:5]\n",
    "#             other_words.extend(lemmas)\n",
    "#             #other_words.extend(word)\n",
    "    \n",
    "#     sw_name = ' '.join(sw_name)\n",
    "#     other_words = ' '.join(other_words)\n",
    "    #print(sw_name)\n",
    "    #print(other_words)\n",
    "    res = es.search(index=\"test_v2\", body={\"query\": {\"match\": {'Original_post': {\"query\": query,\n",
    "                                                    }}}})\n",
    "    \n",
    "#     res = es.search(index=\"test\", body={\"query\": {\n",
    "#                                     'bool': {\n",
    "#                                           'must': {\n",
    "#                                             'match': {'Post': sw_name}\n",
    "#                                           },\n",
    "#                                           'should': {\n",
    "#                                             'term': {'Post': other_words}\n",
    "#                                           }\n",
    "#                                         }}})\n",
    "    \n",
    "    print(\"%d documents found\" % res['hits']['total'])\n",
    "    \n",
    "    conversation =[]\n",
    "    \n",
    "    #for doc in res['hits']['hits']:\n",
    "    for doc in res['hits']['hits']:\n",
    "        print(\"%s) %s\" % (doc['_id'], doc['_source']))\n",
    "        conversation.append(doc['_source'])\n",
    "        \n",
    "    print(len(conversation))\n",
    "    return conversation"
   ]
  },
  {
   "cell_type": "code",
   "execution_count": 4,
   "metadata": {},
   "outputs": [
    {
     "ename": "NameError",
     "evalue": "name 'return_conversions_for_query' is not defined",
     "output_type": "error",
     "traceback": [
      "\u001b[1;31m---------------------------------------------------------------------------\u001b[0m",
      "\u001b[1;31mNameError\u001b[0m                                 Traceback (most recent call last)",
      "\u001b[1;32m<ipython-input-4-4c5ffbe91d81>\u001b[0m in \u001b[0;36m<module>\u001b[1;34m\u001b[0m\n\u001b[0;32m      2\u001b[0m \u001b[1;33m\u001b[0m\u001b[0m\n\u001b[0;32m      3\u001b[0m \u001b[0msearch_qry\u001b[0m \u001b[1;33m=\u001b[0m \u001b[1;34m\"microsoft word problem\"\u001b[0m\u001b[1;33m\u001b[0m\u001b[0m\n\u001b[1;32m----> 4\u001b[1;33m \u001b[0mres\u001b[0m \u001b[1;33m=\u001b[0m \u001b[0mreturn_conversions_for_query\u001b[0m\u001b[1;33m(\u001b[0m\u001b[0msearch_qry\u001b[0m\u001b[1;33m)\u001b[0m\u001b[1;33m\u001b[0m\u001b[0m\n\u001b[0m\u001b[0;32m      5\u001b[0m \u001b[0mprint\u001b[0m\u001b[1;33m(\u001b[0m\u001b[0mlen\u001b[0m\u001b[1;33m(\u001b[0m\u001b[0mres\u001b[0m\u001b[1;33m)\u001b[0m\u001b[1;33m)\u001b[0m\u001b[1;33m\u001b[0m\u001b[0m\n",
      "\u001b[1;31mNameError\u001b[0m: name 'return_conversions_for_query' is not defined"
     ]
    }
   ],
   "source": [
    "import pandas as pd\n",
    "\n",
    "search_qry = \"microsoft word problem\"\n",
    "res = return_conversions_for_query(search_qry)\n",
    "print(len(res))"
   ]
  },
  {
   "cell_type": "code",
   "execution_count": 58,
   "metadata": {},
   "outputs": [],
   "source": [
    "import collections\n",
    "from itertools import islice\n",
    "\n",
    "def take(n, iterable):\n",
    "    \"Return first n items of the iterable as a list\"\n",
    "    return list(islice(iterable, n))\n",
    "\n",
    "def to_json(query):\n",
    "    es = Elasticsearch()\n",
    "    res = es.search(index=\"test_v2\",  size=5000, body={\"query\": {\"match\": {'Original_post': {\"query\": query, }}}})\n",
    "    \n",
    "    conversation =[]\n",
    "    for doc in res['hits']['hits']:\n",
    "        conversation.append(doc['_source'])\n",
    "    \n",
    "    df_result = pd.DataFrame(conversation)\n",
    "    #df_result.columns = ['id', 'post', 'tag', 'title']\n",
    "    #df_result = df_result.sort_values(['title', 'tag'], ascending=[True, False])\n",
    "    d = collections.defaultdict(list)\n",
    "    o = collections.OrderedDict()\n",
    "    #print(df_result.head())\n",
    "    for index, row in df_result.iterrows():\n",
    "        ind = row[0]\n",
    "        post = row[1]\n",
    "        tag = row[2]\n",
    "        title = row[3]\n",
    "        \n",
    "        temp = {}\n",
    "        temp[\"id\"] = ind\n",
    "        temp['post'] = post\n",
    "        temp['tag'] = tag\n",
    "        #print(index, title,)\n",
    "        d[title].append(temp)\n",
    "        o[title] = True\n",
    "\n",
    "    n_items = collections.defaultdict(list)\n",
    "    for i,k in enumerate(o.keys()):\n",
    "        d[k] = sorted(d[k], key = lambda i: i['id'])\n",
    "        d[k] = sorted(d[k], key = lambda i: i['tag'], reverse=True)\n",
    "        n_items[k].append(d[k])\n",
    "        if i == 21:\n",
    "            break\n",
    "    print(n_items)"
   ]
  },
  {
   "cell_type": "code",
   "execution_count": 59,
   "metadata": {},
   "outputs": [
    {
     "name": "stdout",
     "output_type": "stream",
     "text": [
      "defaultdict(<class 'list'>, {'google hangouts on the computer using nvda': [[{'id': '12269', 'post': 'google hangouts on the computer using nvda \" hello guys. i need some advice on how to use nvda with google hangouts. i have a feeling that this won\\'t be easy. has anyone here used it successfully, more than once? if necessary, email me off list. @govsta thanks in advance for all assistance. \"', 'tag': 'Help'}, {'id': '12272', 'post': '\" yes, nvda+spacebar to to switch to focus mode and all of these keyboard commands will work. if in browse mode, use nvda+f2 to bypass next keypress. \"', 'tag': 'Answer'}, {'id': '12274', 'post': '\" if you use it with chrome and nvda, it\\'s actually quite easy. i\\'ve done it several times, and haven\\'t had any issue. in fact, if you google the phrase google hangout shortcut keys there is a whole list of commands you can use while in your browser using hangouts. another way to get there is to disable browse mode within nvda, then press shift slash, which will basically therefore be the questionh mark key. then, hit ctrl+end to scroll to the bottom of the screen, and go up from there. you should see a little window that popped up with all the keystrokes. i think they call this a mobile window in html5. note, that little trick works on most google based sites like docs, sheets, drive, gmail, etc. --- christopher gilland jaws certified, 2016. training instructor. clgilland07@... phone: (704) 256-8010 extension 401. \"', 'tag': 'Answer'}, {'id': '12285', 'post': '\" there seems to be an issue when attempting to use some of these shortcuts. i turn on focus mode, and try to use ctrl + d, for example. i get the favorites dialog. this is when using internet explorer. if i remember correctly, it even happens when i\\'m not using the pass through to applicaiton command, nvda + f2. any help is appreciated, and welcome. \"', 'tag': 'Answer'}, {'id': '12286', 'post': '\" control d is not a screen-reader command. it opens a save book mark dialog and it works in internet explorer, firefox, and chrome. it would make no sense to have a screen-reader have such a command, that has nothing to do with its purpose. i don\\'t know who is responsible for google hangouts development but i would suggest getting in touch with whomever it is and telling them that they need to look at and reassign one or more of their shortcut keys. gene \"', 'tag': 'Answer'}, {'id': '12288', 'post': \"it's not a screen reader command. it's a command for a shortcut in google hangouts. i think it is to mute or un-mute the microphone.\", 'tag': 'Answer'}]], 'gmail with standart view with nvda': [[{'id': '11795', 'post': 'gmail with standart view with nvda \" hi, i have email for work, that i have to connect via gmail to it. its not @gmail.com, but i use gmail web interface for it. my question is what the deffrences between the html view and the standart view? afik. , apple \\' : 08-8603311 \"', 'tag': 'Help'}, {'id': '11796', 'post': 'hello. the differents: 1/ in standard view nvda says unread for unread emails but in html views does not. 2/ html is simple but standard is graphical and needs more times to load and spends more internet charge. 3/ in html you dont have an uption for conversation but in standard you can use hangout if i am correct for conversation.', 'tag': 'Answer'}, {'id': '11797', 'post': \"i use gmail standard view to manage my emails. i've totally dropped the use of a mail client. gmail standard view is excellent and google have done a great job making it accessible. a lot of keyboard shortcuts is available. read the documentation and the how to use standard view with a screen reader available when logging in.\", 'tag': 'Answer'}, {'id': '11799', 'post': '\" if you have the option to use inbox.google.com i recommend it. it is simpler, more productive and considered the next generation tool for managing your e-mail. and, as the standard view of gmail, it supports aria, so, you can use it as you use the desktop mail client: navigating the interface with tab / shift + tab, and many other shortcuts are available. the link for gmail help for screen reader users: https://support.google.com/mail/answer/90559?hl=en it includes info on how to get to this page from within the main gmail interface. \"', 'tag': 'Answer'}]], 'turning off suggestions in search boxes using firefox and google': [[{'id': '35780', 'post': 'turning off suggestions in search boxes using firefox and google \" hi, can some one give me insight in doing this in firefox and google? \"', 'tag': 'Help'}, {'id': '35781', 'post': '\" hi, i don t know i fit is possible in the google search engine itself, because that is a choice of google inc. but i know that you can use the addressbar to search with google in firefox. that gives suggestions too. it is possible to stop this in the options of firefox. i don t know the address to go to the options, but with the menu it is as follows: extra &gt; opties in dutch, tools &gt; options (or preferences or anything else) in english. by the way, i think that if you have a google account, you can stop the suggestions on the website of google too! look in the google settings! and do not forget to press the link screen reader users, click here the stop google instant . i think this will help you much more on the google website! hth jordy d van: nvda@nvda.groups.io mailto:nvda@nvda.groups.io namens isaac verzonden: vrijdag 15 juli 2016 9:58 aan: nvda@nvda.groups.io onderwerp: nvda turning off suggestions in search boxes using firefox and google hi, can some one give me insight in doing this in firefox and google? \"', 'tag': 'Answer'}, {'id': '35782', 'post': '\" hi. in tools menu, find options, then advance and in the advance tab the first item is general which is for accessibility. uncheck the option search for text when i start typing and press enter to confirm the changes. then, in options and search, uncheck provide search suggestions and okay your settings. if you want to dont have search suggestions in google, when you want to search in google, instead of usuall address of google which is www.google.com type this adress and do your work with google normally!! www.google.com/webhp?complete=0 hope thats help. thanks for asking and god bless you. \"', 'tag': 'Answer'}, {'id': '35783', 'post': '\" even the normal google does give a link at the start suggesting you turn off google instant if you use a screenreader. of course also if you set up google as the default seeach then you can use the address bar for google seearches instead. brian bglists@... sent via blueyonder. please address personal email to:- briang1@..., putting \\'brian gaff\\' in the display name field. \"', 'tag': 'Answer'}]], 'google docs and nvda and chrome': [[{'id': '12177', 'post': 'google docs and nvda and chrome \" hi, i have had a document shared with me but i can\\'t seem to find a way to read it. i can only hear the first line which says \\'about:\\'. is it possible to access google docs with nvda and chrome? thanks. dan beaver \"', 'tag': 'Help'}, {'id': '12178', 'post': '\" hello dan, google docs works fine with chrome and nvda. you have to enable screen reader support in pressing ctrl+alt+z. sylvie le 18/04/2018 17:35, dan beaver a crit : \"', 'tag': 'Answer'}, {'id': '12182', 'post': '\" the first question, at least for me, who knows very little about google docs, (spelling) is whether images can be sent using it. if this is an image, some way of recognizing the text must be found. gene \"', 'tag': 'Answer'}, {'id': '12183', 'post': '\" hi gene! if you change the setting on the google docs web site to always upload as a google doc, images are always scanned by google, and even an image pdf is uploaded as a google doc. you can just press enter on the file, and open it up in the google docs window. i do that all the time, and it is so very powerful! david moore sent from mail for windows 10 \"', 'tag': 'Answer'}, {'id': '12184', 'post': '\" hi! i use it with chrome all the time. make sure that you have nvda in focus mode. you should be able to use all of the navigation commands like arrows, page up and down and so on to read the document. any type of document can be opened as a google doc. once a file opens in google docs, it is automatically changed into a google doc. there is no conversion you need to perform on your own, google does the conversion by itself. so, a pdf will open as a google doc, if it is in the google docs window! david moore sent from mail for windows 10 \"', 'tag': 'Answer'}, {'id': '12186', 'post': '\" i think i understood it that a picture needs to be sent knowing its got text before it gets ocred by google, but its not very clear from their info. i gave up on google docs since it seems very powerful but actually getting ones head around its interface seems alien to my brain! brian bglists@... sent via blueyonder. please address personal e-mail to:- briang1@..., putting \\'brian gaff\\' in the display name field. \"', 'tag': 'Answer'}]], 'google searches': [[{'id': '58858', 'post': 'google searches dear friends, i wonder if someone can tell me what is happening with my google searches and what i need to change. i use windows 10 and firefox. since last night, whenever i do a google search and click on a result to go to that web page, i get another google search page instead and with every follow-up click i get another google page. warmly, ralph ', 'tag': 'Help'}, {'id': '58864', 'post': \" well maybe, but sometimes you do find that their results are if you like a page to subdivide or tighten your search. i personally feel they have gone a little too far of late, and tend to use duckduck go or startpage instead as google itself is now getting cluttered. brian bglists@... sent via blueyonder. please address personal e-mail to:- briang1@..., putting 'brian gaff' in the display name field. \", 'tag': 'Answer'}, {'id': '58882', 'post': ' hey don t use google for search. you use start page. it s like google. but it is more private. i don t search with it o more for that reason! i ended up with mellwhere with my last windows 7 box. after that i quit using google as my search engine. sent from mail for windows 10 ', 'tag': 'Answer'}, {'id': '58883', 'post': \" you didn't get malware from google and google may have features the search engine you are using doesn't have. you may have gotten malware by following a link in a search but that can happen with any search result from any search engine. the site itself may be fine but the third party advertising on the site may be hacked. it's a serious enough problem that it has been reported on by national media. i don't search when signed into my google account, which makes it much harder for google to know who is searching. but aside from that precaution, with all the unending security breaches and all the other ways of collection information, do you use a smart phone? do you use loyalty cards at stores? do you use facebook? then why worry about doing google searches? gene \", 'tag': 'Answer'}, {'id': '58899', 'post': \" yes the problem is that by default the only filter in place i feel is for adult material, but not actually for dodgy web sites. i find most other search engines need a bit of personalisation and indeed you may also be able to do the same on google too, but as with many google things of late they seem to not understand usability very well. they seem to want to reinvent the wheel but square with a roller on each corner, if you get my analogy. brian bglists@... sent via blueyonder. please address personal e-mail to:- briang1@..., putting 'brian gaff' in the display name field. \", 'tag': 'Answer'}, {'id': '58900', 'post': \" that is rather defeatist though that is exactly what they want us to think. however not really on topic here. i personally only use google as a last resort these days. brian bglists@... sent via blueyonder. please address personal e-mail to:- briang1@..., putting 'brian gaff' in the display name field. \", 'tag': 'Answer'}, {'id': '58909', 'post': \" i strongly believe that this isn't something you just make an on/off judgment about. (it may be better to use one search engine for some purposes and another for others. google tailors search results to your interests so you may see articles reflecting your political point of view much more in the first many results, perhaps enough that you will miss variety you should be aware of. tailoring results in this way, encouraging entrapment in your own view is not a service and should be eliminated. if startpage doesn't do that, that's very good and a good reason to use it where such selection of results matters. but google has other advantages that are important and one that is especially important to blind users. i doubt that other search engines have the cache feature google has. i just checked startpage and it doesn't. with google, some sites aren't cached because they can request not to be. but this feature is far more useful than most, perhaps almost anyone, realizes. and it is particularly useful for blind people for the following reason: first, caching lets you see a page when the site is temporarily not available for some reason. but more than that, and of particular interest to blind users, if a pdf or some other format comes up in the results, such as a pdf article, if you use the cached version, you get the pdf shown as a web page, in html, converted by google. you don't have to do anything in terms of working with a browser plugin or converting it yourself. and i noticed when i was comparing that google has a similar link for each result. startpage doesn't. in short, it may be that results are the same or similar, when you are just looking at results, but caching isn't there and similar isn't there and they may be important at times, especially caching. i once was able to read an article in a format nothing on my machine handled. also, it isn't defeatist at all. as i said, i don't search when signed into my account, which makes matching me with my searches harder. i don't believe in tilting at windmills for no benefit. after the equifax data breach in the united states, and, if you follow technology news somewhat, you see that data breaches occur once or twice a week a lot of the time, i'm supposed to worry about whether advertising data collectors know that i bought a certain brand of shoes or looked at a certain book online and send me customized advertising? i use the tools that serve me best if there is no meaningful reason not to. and how many people use facebook who don't use google? gene ----- original message ----- \", 'tag': 'Answer'}]], 'hi friends my problem is about google docs': [[{'id': '56126', 'post': \"hi friends my problem is about google docs i will use google docs for my microsoft office work but i have a problem with google docs i can't able to read the current line using n v d a with that shortcut key nvidia + up arrow to read the current line i will use pressing appearance and down arrow can anyone tell me how to read current line using n v d a in google docs thank you all \", 'tag': 'Help'}]], 'problem signing in with google backu and sync': [[{'id': '28282', 'post': 'problem signing in with google backu and sync \" to all listers does anyone know an accessible way to sign in and use google backup and sync same as we did with google drive? i signed in, but the program take me to a web page with a lot of link to google services, but i didn\\'t find any link for closing that and use google drive, when i exit that window, i also logged out my account. using windows 10 pro 64 bit, and the latest version of nvda any help would be appreciated cuong virus-free. www.avg.com \"', 'tag': 'Help'}, {'id': '28288', 'post': '\" in my experience, gdrive is more accessible compared to dropbox, especially the web interface. i use onedrive as well, but not that often. they all have issues from time to time, far from being perfect, we do agree on that point. \"', 'tag': 'Answer'}, {'id': '28289', 'post': '\" i think the problem is that there are believe it or not many people asking me the question, i want a cloud storage that works on windows xp. from my recent tests on a pentium 3 machine running it all either fall over with an error oon install or claim they do not support it. google drive was working fine until just a few days ago in the pre back up and sync version but they have disabled it now. i\\'m guessing its security related not anything else. pity, as old windows xp machines do have usage left in them and it seems annoying to consign them to the great bin of progress for what are basically spurious reasons of no software support. brian bglists@... sent via blueyonder. please address personal e-mail to:- briang1@..., putting \\'brian gaff\\' in the display name field. \"', 'tag': 'Answer'}]], 'nvda and google docs sheets and slides': [[{'id': '48491', 'post': 'nvda and google docs sheets and slides hi, what wweb browser works best with google docs sheets and slides? freedom scientific said to use firefox, but that document came out 3 or so years ago, so it may be a little outdated. nvda and chrome seem to work good with google microsoft office, now. or is the latest firefox still best? josh sent from mail for windows 10 sent from mail for windows 10 ', 'tag': 'Help'}, {'id': '48502', 'post': \" i'd imagine it has to be chrome, but to be honest. i could not get on with google docs myself. too laggy and awkward, but then, that might just be me! brian bglists@... sent via blueyonder. please address personal e-mail to:- briang1@..., putting 'brian gaff' in the display name field. \", 'tag': 'Answer'}, {'id': '48526', 'post': \" hello all, i use google docs and sheets both with firefox and chrome and nvda without any difficulties. i had some language issues in chrome, that i reported to the google diasability accessibility team, and it was corrected with chrome's last version. best sylvie \", 'tag': 'Answer'}, {'id': '48912', 'post': ' hi sally! i use google docs a lot with nvda in chrome. the command you spoke of helps a lot in google apps. when you press nvda+shift+spacebar, the editing functions work so much better. also, the commands for spell checking work great! to get the correct formatting, though, i find that i have to press the google command to hear formatting. that is: holding the alt and control, and pressing a, then f. that gives better results than pressing nvda+f to get formatting details. great to talk to you sally. i am working on tutorials on using google apps with nvda and chrome. david moore sent from mail for windows 10 ', 'tag': 'Answer'}, {'id': '48940', 'post': \" hi david: thanks very much for the tips, our school exclusively uses google docs in chrome on windows 7 and it drives me absolutely bonkers because of it's slowness and different cursor navigation. i'll have to give nvda+shift+space a go, as well as that formatting command. thanks once again. mcb \", 'tag': 'Answer'}, {'id': '48942', 'post': ' hi michael! you are so welcome. when in google docs, you can press alt+shift+f to get to the files menu, and use arrow keys to get to the accessibility menu. if google docs has been set to use a screen reader by pressing alt+ctrl+z, then the accessible menu will be added. if you press enter on the accessibility menu, you will have categories of key commands for google docs. another powerful key command to bring up all of the google commands in docs, is to press ctrl+slash. a table of all of the google commands will come up.! i should do a tutorial for google docs! david moore sent from mail for windows 10 ', 'tag': 'Answer'}]], 'reading google drive for desktop settings and upload status with nvda': [[{'id': '30010', 'post': 'reading google drive for desktop settings and upload status with nvda \" hello, how can i read the google drive for desktop settings using nvda? also, does anyone know how to check the status of uploading to google drive? i like to use google drive as if it was dropbox. thanks, brandon keith biggs \"', 'tag': 'Help'}, {'id': '30012', 'post': '\" hi, you can check the status on your google drive up loads by pressing windows+b to get to your notification area, and then down arrow until you hear the status of your up loads. nvda will tell you how much has up loaded to google drive, and how much is left. take care. \"', 'tag': 'Answer'}, {'id': '30013', 'post': '\" hello, i have never seen a google drive icon in the notification area. this is where dropbox shows. thanks, brandon keith biggs \"', 'tag': 'Answer'}, {'id': '30014', 'post': 'my google drive shows up there just above dropbox. do you have google drive set up to launch at computer start up?', 'tag': 'Answer'}, {'id': '30015', 'post': '\" hello, going to start, clicking on google drive, then looking at the system tray works. i was able to do everything then, thanks! i just wish google drive would show up there when i clicked and open google drive, rather than on startup. thanks, brandon keith biggs \"', 'tag': 'Answer'}]], 'setting headings on google sheets': [[{'id': '31665', 'post': 'setting headings on google sheets \" hello, i use ctrl shift c and r to add collomn and row headings in microsoft excel but i couldn\\'t figure out a way to do it with google sheets. is there any way? i use nvda 18.1 best regards \"', 'tag': 'Help'}]], 'using google calendar   web or computer app?': [[{'id': '59464', 'post': 'using google calender web or computer app? dear all, i am presently looking for a calender app to set reminders about activities i need to be doing on certain dates in the future. as an android and gmail user, i have instinctually turned to google calendra. 1 is google calendra even accessible with nvda? 2 if so, which would you recommend i use - google calendra on the web (if so, on firefox or on chrome?) or download the google calendra application on my computer for better usability? 3 if google calender is not particularly screen reader friendly, which other free and accessible calender programs would you recommend for use with nvda? note: i am looking at google calender with particular emphasis because i imagine that i would be able to sync google calender which i control on my computer with its corresponding aandroid app which i have installed on my smartphone. i would truly appreciate any assistance. thanks. -- best regards bhavya shah blogger at hiking across horizons: https://bhavyashah125.wordpress.com/ e-mail address: bhavya.shah125@... linkedin: https://www.linkedin.com/in/bhavyashah125/ ', 'tag': 'Help'}]], 'accessible spreadsheet program using nvda': [[{'id': '1793', 'post': 'hi! you can use libre microsoft office without need to purchase! its open source and accessible. there website is www.libre microsoft office.org thanks for asking and god bless you.', 'tag': 'Answer'}, {'id': '1797', 'post': \"i have been trying to use libre microsoft office and have found that spreadsheets are not that accessible. i can't read the contents of cells without hittingh f2 and putting the cell in edit mode. i wouldn't exactly call that accessible. there are other accessibility issues too but i'll not go through all of them at this time. thanks. dan beaver\", 'tag': 'Answer'}, {'id': '1801', 'post': 'why not use google docs.', 'tag': 'Answer'}]], 'new user': [[{'id': '20269', 'post': '\" hi steven: the only exception to that is if you plan to use google docs. if you are using google docs then you may want to change the key combination from control-alt-n to something else,, because control-altt-n will conflict with some of the google docs key combinations. kevin huber \"', 'tag': 'Answer'}]], 'translation add on': [[{'id': '35522', 'post': 'translation add on \" hi, i used to use the instant translate nvda addon to translate the occasional work in a foreign into english when using nvda. this addon does not seem to work any more. can anyone tell me what i can use to translate foreign words when in nvda. thank you. \"', 'tag': 'Help'}, {'id': '35526', 'post': \"hi! yes you are right! the addon has stopped working because of following reason: the instant translate addon uses google translate api to translate text across language. now google has changed the api and the addon can't use it. the addon can't work until google change the api again or the addon author find another translate api. i don't think that there is an alternative addon available at this time. i suggest you to use other translation software such as qtranslate. hope that will help! best regards!\", 'tag': 'Answer'}, {'id': '35528', 'post': \"you can use qtranslate i have it installed but don't often find i need it. so not the best person for instruction.\", 'tag': 'Answer'}, {'id': '35529', 'post': '\" as a temperary solution go to blindaudiogames.com ian reed has written the jgt addon which works for japanese games, you will need a username and password on his site as he is paying for the translations for these games and the translations are cached on his server. he eventually hopes to have all the translated japanese games at least on his server making as little requests to google as he can. its not an official nvda addon but it works, another unofficial addon which is on the jeff.tdrealms.com nvda site with all the others is if interpriters by nick stockman or is it stockton. this handles glulx and a few other interpriters this one is not official and has not had updates for a while but its good. the only thing one needs to do with winfrotz is to start the program first before opening a game with glulx this is fine. sadly google translate will not work by addon but you should still be able to translate webpages, there is a user limit on it to. \"', 'tag': 'Answer'}]], 'google docs': [[{'id': '12169', 'post': 'google docs \" using google docs in chrome with nvda for me is frustrating for one simple reason, and it\\'s not nvda\\'s fault either. simply put, irrespective of your keyboard echo settings, i hear characters i type echo back to me. i\\'ve had this in certain places on other sites too, my guess, although i cannot confirm this, is that they\\'re using some resource in aria to do this. i don\\'t like it at all. i don\\'t want to hear characters as i type, it slows me down. my question is, can anything be done about this, either on the google docs side, or from an addon prospective. i did look into the accessibility on google docs, yes, screen reader mode is active, and i found nothing related to this. it kind of bothers me that they would force this on users, it\\'s that well we\\'re a big corporation so we know what\\'s best for you type of thing. not much different from a sighted person grabbing you on the street, or just coming right up to you and intruding on your space yelling about how you need help, etc. \"', 'tag': 'Help'}, {'id': '12170', 'post': '\" hello. in google docs, there is no such option to do this. it\\'s not the only issue with chrome and google docs, it\\'s issue of google docs in every browser. i don\\'t know, if anything can be done with add-on. i think, google should do something with it. \"', 'tag': 'Answer'}, {'id': '12171', 'post': \"i don't know if anything can be done but just use the stop speech command before typing and then turn speech back on when finished. gene\", 'tag': 'Answer'}, {'id': '12172', 'post': '\" also i can\\'t read many panctuation symbols. google should do something about it. &lt;div id=\\'dab4fad8-2dd7-40bb-a1b8-4e2aa1f9fdf2\\'&gt;&lt;br /&gt; &lt;table style=\\'border-top: 1px solid #d3d4de;\\'&gt; &lt;tr&gt; &lt;td style=\\'width: 55px; padding-top: 18px;\\'&gt;&lt;a href=\\' https://www.avast.com/sig-email?utm_medium=email&amp;utm_source=link&amp;utm_campaign=sig-email&amp;utm_content=webmail\\' target=\\'_blank\\'&gt;&lt;img src=\\' https://ipmcdn.avast.com/images/icons/icon-envelope-tick-round-orange-animated-no-repeat-v1.gif\\' width=\\'46\\' height=\\'29\\' style=\\'width: 46px; height: 29px;\\' /&gt;&lt;/a&gt;&lt;/td&gt; &lt;td style=\\'width: 470px; padding-top: 17px; color: #41424e; font-size: 13px; font-family: arial, helvetica, sans-serif; line-height: 18px;\\'&gt;vir s bulunmuyor. &lt;a href=\\' https://www.avast.com/sig-email?utm_medium=email&amp;utm_source=link&amp;utm_campaign=sig-email&amp;utm_content=webmail\\' target=\\'_blank\\' style=\\'color: #4453ea;\\'&gt;www.avast.com&lt;/a&gt; &lt;/td&gt; &lt;/tr&gt; &lt;/table&gt; &lt;a href=\\'#dab4fad8-2dd7-40bb-a1b8-4e2aa1f9fdf2\\' width=\\'1\\' height=\\'1\\'&gt;&lt;/a&gt;&lt;/div&gt; 2017-03-05 18:09 gmt+03:00, gene &lt;gsasner@...&gt;: \"', 'tag': 'Answer'}, {'id': '12173', 'post': '\" if you want to read some punctuation symbols, use insert p to set it to all punctuation. then, try to move with arrow keys. actually, i don\\'t quite understand, why should we use insert key, or turn off to access the google docs editor. i think, that that is the disadvantage of google docs versus microsoft microsoft office microsoft word. \"', 'tag': 'Answer'}, {'id': '12174', 'post': '\" brandon, i realize it\\'s a work-around, but have you considered downloading google drive sync for your pc? it gives you access to your google drive in a way that\\'s much more \\'native windows\\' rather than web-based. it\\'s worth a shot trying it since it\\'s free. -- brian i don\\'t find an uninformed hatred a \\'principled position\\' that i need to respect in any way. ~ ellen evans , soc.motss , 11/6/2004 \"', 'tag': 'Answer'}, {'id': '12176', 'post': '\" on sun, mar 5, 2017 at 04:00 pm, brandon cross wrote: hmm, might have to try that google drive sync if you do, please do report back on how it worked out and with your impressions with regard to accessibility of that access method in general. my gut tells me that it will be significantly easier from an accessibility angle than the web-based interface is, but i have not played with this with a screen reader to actually make that determination. -- brian i don\\'t find an uninformed hatred a \\'principled position\\' that i need to respect in any way. ~ ellen evans , soc.motss , 11/6/2004 \"', 'tag': 'Answer'}]], 'attempting to instal the google hangouts plugin to firefox': [[{'id': '3617', 'post': 'attempting to instal the google hangouts plugin to firefox \" i\\'ve tried to do this multiple times. it doesn\\'t seem to work. how do i know this, you ask? i try to make a video call, and it keeps tkaing me to the plugin install page. i install it, and it sits there saying it needs to be verified. while i\\'m at it, it appears webvisum is now disabled. i can\\'t remember why they say it is. i\\'m running the latest version of firefox. any help, ideas, or whatever would be welcome. thanks in advance. \"', 'tag': 'Help'}, {'id': '3622', 'post': '\" hi i first installed the hangouts software with the fire fox browser closed. it\\'s called google voice and video setup. i downloaded it and installed it. next open fire fox and go to google hangouts the address is: https://hangouts.google.com/ this is a page wear one can log in start a voice or video call. i was trying to download the hangouts for desktop application, it apparently does not exist. got sent to google voice and video setup program when i clicked on it. i need to sign up with google before i can use hangouts. i have the google voice and video program zipped to gvavs.zip and uploaded to send space if any one wants it for fire fox. the password is google and the link is below: gvavs.zip pete \"', 'tag': 'Answer'}, {'id': '3624', 'post': 'hi every one this might help: 10 tricks to master google hangouts lifehacker australia pete', 'tag': 'Answer'}, {'id': '3625', 'post': '\" could you open about:addons then go to the plugins tab, then switch the dropdowns for all the google plugins to \\'always activate\\'? \"', 'tag': 'Answer'}, {'id': '3626', 'post': '\" i could, for what reason? i disabled shockwave flash and adobe reader plugins because of the lowed flash things that would come up on some pages. i have google update always activate and google talk and google video ask to activate. if i can\\'t have access to it i don\\'t want it running or activating. pete \"', 'tag': 'Answer'}, {'id': '3628', 'post': '\" the plugin installed easy, i had difficulty installing the desktop app for hang outs. there was a link to it and when i clicked on that one it took me to the plugin installer. apparently google needs some work on there links or titles of links. do you have the desktop app for google handouts? \"', 'tag': 'Answer'}, {'id': '3630', 'post': '\" it\\'s on google, but the link takes you to the browser plugin page, unless nvda didn\\'t read it properly. \"', 'tag': 'Answer'}, {'id': '3631', 'post': '\" i do not attempt to use hangouts with firefox, only with chrome, and the desktop app is pretty much an extension to chrome that keeps running when chrome has no window open and is running in the background. this is the direct link to the chrome desktop app in the chrome store. if you click through in any browser other than chrome you will be notified at the top of the store\\'s webpage, \\'you will need chrome to install most apps, extensions and themes,\\' and a link is presented to the download for the chrome browser itself. all of the add-ons in firefox (as opposed to extensions in chrome) related to hangouts are, as far as i can see, written by third parties. it\\'s not that i don\\'t use third-party add-ons, because i do, but have not done so for any of the google services in any browser. brian \"', 'tag': 'Answer'}]], 'speech recognition and deaf blind': [[{'id': '32959', 'post': '\" i saw a note on here that a development of nvda with ability to use that software might be being considered. i was quite impressed by the way 10 seems to, out of the box understand speech, but whether its good enough to use to type stuff i have not tried. brian bglists@... sent via blueyonder. please address personal email to:- briang1@..., putting \\'brian gaff\\' in the display name field. \"', 'tag': 'Answer'}, {'id': '32960', 'post': '\" hello: i am trialling the accessibility and \\'voice typing\\' functions available in google docs at the moment. google docs is the free online microsoft office provided by google to anyone with a google account. their voice typing function is only available if you use the chrome browser. i have never had to train the voice typing function but i have in the past few months used it extensively and it is about 90% accuracy. google docs is very accessible with nvda which is a great help. i am not deaf or blind myself but i work as part of a team of advisory teachers who support young people with visual impairments in schools. thanks, \"', 'tag': 'Answer'}, {'id': '32961', 'post': '\" just a general note: speech recognition technology has vastly improved over just the last several years and continues to do so. i dabbled in speech recognition when it was a new thing and found it almost useless. now google voice automatically creates a transcript of my incoming voicemail messages and, particularly for the sound quality involved via phone, does a very decent job. i haven\\'t tried the windows 10 built-in speech recognition, but would certainly recommend playing with that. dragon naturally speaking is a great product but certainly not alone out there in its basic speech recognition/speech-to-text arena anymore. speech recognition requires some getting used to no matter how good it may be, particularly making sure you mute your microphone when something else interferes with the work you\\'re doing. that, or turning off the function entirely. when you\\'re dictating a document it can be rather amusing to see what gets in there when the spouse, kids, or coworkers give you a holler for whatever and you respond, having forgotten to turn speech recognition off. one could change amusing to frustrating and the same applies. -- brian i worry a lot. . . i worry that no matter how cynical you become it\\'s never enough to keep up. ~ trudy, in jane wagner\\'s \\'search for signs of intelligent life in the universe\\' \"', 'tag': 'Answer'}]], 'google drive new version mystery': [[{'id': '12243', 'post': 'google drive new version mystery \" just in case this affects others, i\\'ve just installed an update for google drive and its now changed its name to google backup and store, but it has also seemingly gathered someone bugs. firstly, it randomly seems to ask you to log in to its account again, or it may suddenly crash out and present the usual messages about looking on line for a solution etc, or it decides if another window is open for a piece of software to bring up what appears to be an invisible window over the desk top when said application is closed, needing you to bring up the desktop again. the tray icon reflects the new name and tells you how long from the last sync it was. presumably this monitors the state all the time in case somebody else adds a file. seems pretty clunky and i see not real reason why it has been altered other than to do the usual google thing of change for changes sake and to create new bugs. grin. brian bglists@... sent via blueyonder. please address personal email to:- briang1@..., putting \\'brian gaff\\' in the display name field. \"', 'tag': 'Help'}, {'id': '12244', 'post': '\" backup and sync from google has stopped working argh... you seemingly cannot put the old one back in as the loader has just been a stub for some time now. this is windows 7. brian bglists@... sent via blueyonder. please address personal email to:- briang1@..., putting \\'brian gaff\\' in the display name field. \"', 'tag': 'Answer'}, {'id': '12245', 'post': 'yes its now called google backup and photos sync. saying that if you look for it you can still get drive.', 'tag': 'Answer'}, {'id': '12247', 'post': '\" hello, the reason for this update is that it has now become a full-featured backup solution which can backup and sync folders from the computer, not just within the google drive directory tree. once the dust settles this will be a good thing actually. kind regards, felix brian\\'s mail list account via groups.io &lt;bglists= blueyonder.co.uk@groups.io &gt; schrieb am so., 16. juli 2017 um 12:48 uhr: \"', 'tag': 'Answer'}, {'id': '12248', 'post': '\" hello all, the concept seems great, but unfortunately this app is totally not accessible, at least in my case. i couldn\\'t even install it to the end, since all dialogues weren\\'t read by any of my two screenreaders. and when i think that only two months ago i bought a one-year subscription to google drive. how disappointing! i\\'ll now have to look for another backup solution. vlad. \"', 'tag': 'Answer'}, {'id': '12256', 'post': '\" well i tried to install old google drive and old google drive may exist but its all that way now. i have this new drive photo sync on my aunt\\'s new system so she could use it, are you saying i should get rid of it. \"', 'tag': 'Answer'}, {'id': '12258', 'post': '\" no. simple answer but i do not use it like that myself. i just use it to move files to a remote machine which can be running windows xp which dropbox no longer supports. brian bglists@... sent via blueyonder. please address personal email to:- briang1@..., putting \\'brian gaff\\' in the display name field. \"', 'tag': 'Answer'}, {'id': '12259', 'post': '\" i realize i\\'m responding to an older thread but i\\'m wondering if the new google backup and sync app is more accessible during setup? david goldfield, assistive technology specialist feel free to visit my web site www.davidgoldfield.info \"', 'tag': 'Answer'}, {'id': '12261', 'post': '\" hello, the new client is not accessible, both with jaws and nvda. i\\'ve been battling with google support for almost one month, sending emails back and forth, i\\'ve got only promises. they are starting to believe that i am the problem, not their client. if any of you could contact them as well, that would be great. maybe if we put our efforts together, they will do something about this. i know it\\'s time consuming, but let\\'s try, who knows! best wishes, vlad. \"', 'tag': 'Answer'}, {'id': '12262', 'post': 'is that where you get google hangouts?', 'tag': 'Answer'}, {'id': '12263', 'post': '\" hangouts is part of gmail i think, i haven\\'t used it yet. the problem we are discussing is with google drive, which is a cloud service, like dropbox or onedrive. \"', 'tag': 'Answer'}, {'id': '12265', 'post': '\" i still use google drive on an old system and its never updated itself, i have accessed the new sync system but to be honest i had to install it on some other system with a mangled account, it works but there is a window and i can\\'t exactly change settings. i am so happy dispite all its issues that i have and use dropbox. to be honest if i didn\\'t have that, i\\'d probably have to go and buy ms or maybe google, i\\'d say icloud but you can only use it for icloud devices and i have never got all the interface working just the main settings. \"', 'tag': 'Answer'}]], 'accessibility google books': [[{'id': '1169', 'post': 'accessibility google books \" hello all, does anyone knows how the accessibility of google books is? can i use the platform with nvda (or another screenreader) on windows 10 in internet explorer 11 or firefox44? i hope that i can get an answer! thanks in advance! regards, jordy \"', 'tag': 'Help'}, {'id': '1170', 'post': 'yes google books is accessable however when downloading a book you will need to also get adobe reader digital additions to process the shortcut file. after it i think the site is jamesscholes.net go to projects and then click codex anyway codex should be able to get the drm off of the file and then convert it to the file of your choice. you will also need calibre for the convertion however if you get that loaded you should be ok.', 'tag': 'Answer'}, {'id': '1171', 'post': '\" hello! i use google play books on the web on a regular basis and find it accessible. haven\\'t downloaded anything yet, though. it would be wise not to discuss drm here. kind regards, felix gr tzmacher \"', 'tag': 'Answer'}]], 'google drive again': [[{'id': '12196', 'post': 'google drive again \" strangely this morning google drive has come back to windows xp again, using the old google drive software, not the new one which crashes with that wonderful \\'if you were in the middle of something\\' error so beloved of windows xp users! brian bglists@... sent via blueyonder. please address personal email to:- briang1@..., putting \\'brian gaff\\' in the display name field. \"', 'tag': 'Help'}, {'id': '12199', 'post': '\" try this one: https://www.dropbox.com/s/wp3ynb5jydpouie/gsync.msi?dl=1 however there is no guarantee that google will let you install an old version as new. that is up to them. brian bglists@... sent via blueyonder. please address personal email to:- briang1@..., putting \\'brian gaff\\' in the display name field. \"', 'tag': 'Answer'}, {'id': '12200', 'post': '\" hi. thanks so much for your link. but did you try the old version to see is it working now? for example: when using gmail, because i use basic html and disabled javascript, i can even use firefox to use my gmail! its very interesting and joyful for me to know, i can use any version of firefox to use gmail and all websites when disabling javascript! does it also have google docs? i wish that know for windows xp users is it possible to use google docs for ocr of pdf files? thanks again and god bless you! \"', 'tag': 'Answer'}]], 'end of the line for nvda skype group': [[{'id': '8863', 'post': '\" it looks like its not completely the end. it appears for 7 and 8 users we will have to just not install the skype classic update. for 10 users, it appears microsoft have left us alone. previded we can get the skype classic program, ms doesn\\'t ask us to switch over to the universal. so at least for the moment they are leaving us alone who knows how long that is but still. i have not as yet tried this. the nvda skype group didn\\'t have much traffic and i was thinking of pulling out anyway. skype isnot a real issue for me as i hardly use it. skype web via miranda ng works for text, now if i can use it to call skype then fine i guess. there is zello but i have never figured it out as such. on the other side those of us on android and ios devices will still be able to use skype,. this seems to effect desktops, that is windows, mac and linux only. for group chats there is teamtalk, and tthub.org are offering competitive rates right now. i am interested though in some kind of voip or sip app that is easy to use, accessible and can use as a protocol skype calls, messages, groups and file shares which are the only things i ever use. if that can be done and if i can login with my skype account then fine. right now skype classic still works. eventually that may die but who knows. the skype interface with miranda ng ng is a bit different, i will have to get used to it but right now well. i don\\'t use skype enough to justify upgrading to anything new, i barely use that much of skype\\'s power as it is. \"', 'tag': 'Answer'}, {'id': '8864', 'post': '\" on thu, jun 7, 2018 at 02:00 am, brian\\'s mail list account wrote: so what else is out there for desktop machines for good quality audio over the internet free? not quite certain as to what you mean by \\'for good quality audio,\\' but if you mean for conducting video and/or audio calls google hangouts is great if you have a google account. -- brian - windows 10 home, 64-bit, version 1803, build 17134 explanations exist; they have existed for all time; there is always a well-known solution to every human problem neat, plausible, and wrong. ~ h.l. mencken , aka the sage of baltimore \"', 'tag': 'Answer'}, {'id': '8871', 'post': '\" i don\\'t know, i don\\'t use windows 7. you will have to google for this. \"', 'tag': 'Answer'}, {'id': '8873', 'post': '\" on fri, jun 8, 2018 at 12:05 am, shaun everiss wrote: i don\\'t need skype, and to be honest i may end up abandoning it and calling the expensive but accessible way over the phone for those who have google accounts, it\\'s worth looking at google hangouts. however, in order to be able to send/receive text messages to phones you also need to get a phone number from google voice, which is available only within the usa. you can, however, make calls with hangouts no matter where you are, i believe. -- brian - windows 10 home, 64-bit, version 1803, build 17134 explanations exist; they have existed for all time; there is always a well-known solution to every human problem neat, plausible, and wrong. ~ h.l. mencken , aka the sage of baltimore \"', 'tag': 'Answer'}]], 'urgent google drive file download issue': [[{'id': '36535', 'post': 'urgent google drive file download issue \" dear all, for a model united nation named indian international mun, we are expected to prepare somewhat on the basis of specified instructions, agenda and a study guide that they have provided. now, i would like to download this file, for offline access. my file is iaea.docx as i am a delegate of china in the international atomic energy agency. when i click that link, both in internet explorer and in firefox firefox, the file is shown in a viewer, and even using internet download manager, i am unable to locate a .docx file to download by the same name. thus, could someone please instruct me as to how i could go about getting this document downloaded rather being displayed online itself in the browser? i f someone could do the process for me themselves and attach the file as an atttachment (should be a hopefully tiny document file), and explain what they did to download later, that would be extremely appreciated too. i have not more than a few days in hand, as the competition starts on thursday, and i have something else this weekend too for which i am absolutely busy, hence, it will be in school and at times when i will not have internet access when i will be able to best research about iimun through their study guide. will do further research online too, of course. i would sincerely appreciate any quick assistance you may able to provide! thanks. -- warm regards bhavya shah using nvda (non visual desktop access) free and open source screen reader for microsoft windows to download a copy of the free screen reader nvda, please visit http://www.nvaccess.org/ using google talkback on motorolla g second generation lollipop 5.0.2 reach me through the following means: mobile: +91 7506221750 e-mail id: bhavya.shah125@... skype id : bhavya.09 \"', 'tag': 'Help'}, {'id': '36540', 'post': '\" good grief, what a convoluted way to carry on. google where are your brains? brian bglists@... sent via blueyonder. please address personal email to:- briang1@..., putting \\'brian gaff\\' in the display name field. \"', 'tag': 'Answer'}, {'id': '36541', 'post': '\" brian, actually this isn\\'t google, per se, but the person who put the documents up on google drive. the settings to get this behavior exist to minimize (not eliminate) people having access to the original documents which can be helpful at times. it\\'s not often used, and given the nature of the documents in that folder i have no idea why it was used in this instance. i had never encountered this situation in all my years of using google drive (formerly google docs), so users really don\\'t use this combination of settings to create this behavior very often. brian v \"', 'tag': 'Answer'}, {'id': '36542', 'post': '\" i experimented and found that, in the absence of a download link or button, i could select text by starting at the top and repeatedly using shift down arrow. i don\\'t know if you can retain the original formatting using this technique but i was able to select the entire document of nineteen pages with perhaps four or five shift down arrows. i was using firefox and it may have its own viewer for google drive documents. i don\\'t use google drive so i\\'m not sure, but it worked. i found that i could easily tell when i had selected everything because continuing to use shift page down caused the same line of text to be spoken repeatedly. gene \"', 'tag': 'Answer'}]]})\n"
     ]
    }
   ],
   "source": [
    "to_json(\"google hangout use\")"
   ]
  },
  {
   "cell_type": "code",
   "execution_count": null,
   "metadata": {},
   "outputs": [],
   "source": [
    "df_result = pd.DataFrame(res)\n",
    "print(len(df_result))"
   ]
  },
  {
   "cell_type": "code",
   "execution_count": null,
   "metadata": {},
   "outputs": [],
   "source": [
    "df_result.head()"
   ]
  },
  {
   "cell_type": "code",
   "execution_count": null,
   "metadata": {},
   "outputs": [],
   "source": [
    "#df_result = df_result.sort_values(['Title', 'ID'], ascending=[True, True])"
   ]
  },
  {
   "cell_type": "code",
   "execution_count": null,
   "metadata": {},
   "outputs": [],
   "source": [
    "df_result.head()"
   ]
  },
  {
   "cell_type": "code",
   "execution_count": null,
   "metadata": {},
   "outputs": [],
   "source": [
    "from collections import defaultdict\n",
    "\n",
    "d = defaultdict(list)\n",
    "print(d)"
   ]
  },
  {
   "cell_type": "code",
   "execution_count": null,
   "metadata": {},
   "outputs": [],
   "source": [
    "def assign_to_dict(row):\n",
    "    title = row[5]\n",
    "    ind = row[2]\n",
    "    post = row[3]\n",
    "    tag = row[4]\n",
    "    \n",
    "    temp = {}\n",
    "    temp[\"id\"] = ind\n",
    "    temp['post'] = post\n",
    "    temp['tag'] = tag\n",
    "    \n",
    "    d[title].append(temp)"
   ]
  },
  {
   "cell_type": "code",
   "execution_count": null,
   "metadata": {},
   "outputs": [],
   "source": [
    "df_result.apply(assign_to_dict, axis = 1)\n",
    "\n",
    "print(d['about reading numbers in nvda 2017.2 and before nvdadevelopers and experts please help me.'])"
   ]
  },
  {
   "cell_type": "code",
   "execution_count": null,
   "metadata": {},
   "outputs": [],
   "source": [
    "import json\n",
    "with open('../FInal Version Code/Data/result.json', 'w') as fp:\n",
    "    json.dump(d, fp)"
   ]
  },
  {
   "cell_type": "code",
   "execution_count": null,
   "metadata": {},
   "outputs": [],
   "source": [
    "for k in d.keys():\n",
    "    print(d[k])\n",
    "    print('--')"
   ]
  },
  {
   "cell_type": "code",
   "execution_count": null,
   "metadata": {},
   "outputs": [],
   "source": [
    "from platform import python_version\n",
    "\n",
    "print(python_version())"
   ]
  }
 ],
 "metadata": {
  "kernelspec": {
   "display_name": "Python 3",
   "language": "python",
   "name": "python3"
  },
  "language_info": {
   "codemirror_mode": {
    "name": "ipython",
    "version": 3
   },
   "file_extension": ".py",
   "mimetype": "text/x-python",
   "name": "python",
   "nbconvert_exporter": "python",
   "pygments_lexer": "ipython3",
   "version": "3.6.4"
  }
 },
 "nbformat": 4,
 "nbformat_minor": 2
}
