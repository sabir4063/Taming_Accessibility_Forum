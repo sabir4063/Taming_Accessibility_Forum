{
 "cells": [
  {
   "cell_type": "code",
   "execution_count": 211,
   "metadata": {},
   "outputs": [],
   "source": [
    "from elasticsearch import Elasticsearch\n",
    "from datetime import datetime\n",
    "es = Elasticsearch()\n",
    "\n",
    "class tutorial:\n",
    "    # create an instance of elasticsearch and assign it to port 9200\n",
    "    ES_HOST = {\"host\": \"localhost\", \"port\": 9200}\n",
    "    es = Elasticsearch(hosts=[ES_HOST])\n",
    "\n",
    "\n",
    "    def create_index(index_name):\n",
    "        \"\"\"Functionality to create index.\"\"\"\n",
    "        resp = es.indices.create(index=index_name)\n",
    "        print(resp)\n",
    "\n",
    "\n",
    "    def document_add(index_name, doc_type, doc, doc_id=None):\n",
    "        \"\"\"Funtion to add a document by providing index_name,\n",
    "        document type, document contents as doc and document id.\"\"\"\n",
    "        resp = es.index(index=index_name, doc_type=doc_type, body=doc, id=doc_id)\n",
    "        #print(resp)\n",
    "\n",
    "\n",
    "    def document_view(index_name, doc_type, doc_id):\n",
    "        \"\"\"Function to view document.\"\"\"\n",
    "        resp = es.get(index=index_name, doc_type=doc_type, id=doc_id)\n",
    "        document = resp[\"_source\"]['Post']\n",
    "        print(document)\n",
    "\n",
    "\n",
    "    def document_update(index_name, doc_type, doc_id, doc=None, new=None):\n",
    "        \"\"\"Function to edit a document either updating existing fields or adding a new field.\"\"\"\n",
    "        if doc:\n",
    "            resp = es.index(index=index_name, doc_type=doc_type,\n",
    "                            id=doc_id, body=doc)\n",
    "            print(resp)\n",
    "        else:\n",
    "            resp = es.update(index=index_name, doc_type=doc_type,\n",
    "                             id=doc_id, body={\"doc\": new})\n",
    "\n",
    "\n",
    "    def document_delete(index_name, doc_type, doc_id):\n",
    "        \"\"\"Function to delete a specific document.\"\"\"\n",
    "        resp = es.delete(index=index_name, doc_type=doc_type, id=doc_id)\n",
    "        print(resp)\n",
    "\n",
    "\n",
    "    def delete_index(index_name):\n",
    "        \"\"\"Delete an index by specifying the index name\"\"\"\n",
    "        resp = es.indices.delete(index=index_name)\n",
    "        print(resp)"
   ]
  },
  {
   "cell_type": "code",
   "execution_count": 212,
   "metadata": {},
   "outputs": [
    {
     "name": "stdout",
     "output_type": "stream",
     "text": [
      "1594 documents found\n",
      "_0OLGmoBS2JQIYXrOIBS) {'ID': '22462', 'Title': 'nvda and reading numbers.', 'Original_post': 'nvda and reading numbers. \" hello.      i\\'ve been using nvda for about 5 years now and cannot find a setting to   read numbers in the uk way. sorry i\\'m not sure what that is called. for   example 2500 would be read as 2 thousand five hundred.      i\\'m bad at maths and writing numbers so if 2500 is not 2 thousand five   hundred i\\'m sorry and hope people understand what i mean.      is there a setting for nvda to read numbers in this way?      if not, how can i set up a ticket to get this feature implomented?      --   thanks for reading, brad. \"', 'Help': 'Help', 'Answer': 'Junk', 'Tag': 'Help'}\n",
      "b0OLGmoBS2JQIYXrWYb-) {'ID': '24782', 'Title': 'nvda reading single numbers', 'Original_post': 'nvda reading single numbers \" hi all,    i was just wondering again today if it is still not possible for nvda to read numbers in groups. i mean like having it read telephone numbers in single digits rather than in a combined manner.  is there any means yet to have this done within nvda?.    many thanks,    paul. \"', 'Help': 'Help', 'Answer': 'Junk', 'Tag': 'Help'}\n",
      "OkOLGmoBS2JQIYXrLn_l) {'ID': '21778', 'Title': 'nvda and dollars and cents', 'Original_post': 'nvda and dollars and cents running nvda 2018-1 on a windows 10 64 bit system.  nvda seems to be inconsistent when it comes to reading numbers that start with the dollar sign.  an example would be reading down a list of such numbers.  on the first number nvda will read it as 150 dollars and 50 cents.  if you arrow down the next number nvda may say 250 dollars and 75 and start to say cents but cuts it off not saying cents.  sighted help says both numbers are formatted in the same way.  arrow down to the next number and nvda will or may not read the dollars and cents completely.  not a big issue but a little strange in what is spoken.', 'Help': 'Help', 'Answer': 'Junk', 'Tag': 'Help'}\n",
      "J0OJGmoBS2JQIYXr-U7A) {'ID': '1061', 'Title': 'about reading numbers in nvda 2017.2 and before nvda developers and experts please help me.', 'Original_post': 'about reading numbers in nvda 2017.2 and before nvda developers and experts please help me. \" hello every one.  i wish that hear number full number in all cases.  but i cant in some cases.  for example: in some numbers which have dot, nvda reads the numbers  digit instead of full!    what should i do in previous versions of nvda about numbers?  for example about version of espeak nvda says: 1. 4 8. 1 5  i wish that hear 1. 48. 15  i mean for numbers have dot, nvda says digit numbers not complete numbers!  1. 6 3 8 9 1  instead of 1. 63891  god bless you all and i pray for you sincerely every day.      --   we have not sent you but as a mercy to the creation.  holy quran, chapter 21, verse 107.  in the very authentic narration is:  imam hosein is the beacon of light and the ark of salvation.  best website for studying islamic book in different languages  al-islam.org \"', 'Help': 'Help', 'Answer': 'Junk', 'Tag': 'Help'}\n",
      "AUOLGmoBS2JQIYXrOIFc) {'ID': '22464', 'Title': 'nvda and reading numbers.', 'Original_post': '\" on 26/08/2016 22:23, peter beasley wrote:   what synthasiser are you using?  i use elloquence and it is pronounced twenty five hundred using either   the american english or the british voices.  -----original message----- from: brad ...  sent: friday, august 26, 2016 9:21 pm  to: nvda@nvda.groups.io  subject:  nvda  nvda and reading numbers.    hello.      i\\'ve been using nvda for about 5 years now and cannot find a setting to  read numbers in the uk way. sorry i\\'m not sure what that is called. for  example 2500 would be read as 2 thousand five hundred.      i\\'m bad at maths and writing numbers so if 2500 is not 2 thousand five  hundred i\\'m sorry and hope people understand what i mean.      is there a setting for nvda to read numbers in this way?      if not, how can i set up a ticket to get this feature implomented?     hello.      i\\'m using elloquence.      i\\'ve just tried it with e-speak and it says two thousand five hundred.      i have used eloquence for 5 years and didn\\'t phocus on e-speak as i   didn\\'t think it would say it differently.      i will look at other synthasisers the next time  i have a question like this.      thanks for your help.      --   thanks for reading, brad. \"', 'Help': 'Help', 'Answer': 'Junk', 'Tag': 'Help'}\n",
      "tEOKGmoBS2JQIYXr_3bZ) {'ID': '17993', 'Title': 'making suggestions for future nvda', 'Original_post': '\"  ha!   i should have read the other thread on number reading before replying this morning - or even checked the nvda build i\\'m running this morning!     as noted in the other thread, in the latest \\'next\\' build, under voice settings is the ability to set how numbers are read.    regards      quentin.       \"', 'Help': 'Junk', 'Answer': 'Answer', 'Tag': 'Answer'}\n",
      "KEOJGmoBS2JQIYXr-U7F) {'ID': '1062', 'Title': 'about reading numbers in nvda 2017.2 and before nvda developers and experts please help me.', 'Original_post': '\"  i meant to cover this in my last message. the reason nvda doesn\\'t try to do too much number processing like that, is there are so many different ways of writing numbers and people would like different numbers read differently.     for instance, phone numbers are often easier to take in as individual digits (5 5 5 6 7 8 9 0), but the number of sales made last month makes more sense read as a whole number: 55567890.      as a human, reading text, it is easy to tell which type a number is and how you would prefer it read, but without a lot of computing power, it\\'s not so easy for nvda.      this is the same reasoning why words such as \\'live mail\\', \\'read\\', \\'wind\\' and \\'lead\\' are always pronounced the same, even though each has two meanings, each pronounced differently. for the logophiles in the audience, these are called heteronyms or heterophones.      now i\\'ve exhausted my dictionary, i\\'ll leave it there (and i never even got to non-english languages or other cultural ways of writing numbers).      regards      quentin.       \"', 'Help': 'Help', 'Answer': 'Answer', 'Tag': 'Answer'}\n",
      "PUOLGmoBS2JQIYXropMn) {'ID': '30069', 'Title': 'reading of numbers', 'Original_post': 'reading of numbers \" while testing earlier, just noticed that nvda reports the set of number 1.49.1  instead of saying this proper by, 1 point 49 point 1    normally, this is happening when the first one number occurs. or, i may say the one\\'s place value of digit after the period, as stated above mentioned sample.  is there a way to correct it to the speech settings to make it more precise of readings numbers. i appreciate your advice. or, perhaps someone could replicate this case. otherwise, this is a sort of a fix that i would needed to one users or primarily errors in nvda. again, i\\'m using the latest version of release of 2017.1 to my windows 10 pro machine.      --   robert mendoza \"', 'Help': 'Help', 'Answer': 'Junk', 'Tag': 'Help'}\n",
      "g0OLGmoBS2JQIYXrO4Gd) {'ID': '22670', 'Title': 'nvda and the password', 'Original_post': '\"          yes it use to happen on logon screen!          arguing with a woman is reading software license agreement.  at the end, you have to ignore everything and clic i agree.  you can contact me via gmail:  inamuddin09@...  inamuddin.ronaque@...  microsoft outlook:  inam092@...  yahoo:  inamuddin2010@...  add my skype id:  charlsdarwin1  meet me on facebook:  www.facebook.com/inamuddin786  follow me on my twitter id:  www.twitter.com/charlsdarwin1  call me on my cell numbers:  +92-300-2227598  +92-334-3348409             \"', 'Help': 'Help', 'Answer': 'Answer', 'Tag': 'Answer'}\n",
      "wUOLGmoBS2JQIYXrIXyN) {'ID': '20631', 'Title': 'number processing', 'Original_post': 'number processing \" after installing nvda v.2017.4, espeak started to read numbers digit by  digit, instead of reading the whole number. i\\'m using the norwegian  version. the number 2017 was prevously read, translated to english, two  thousand and seventeen, and now it\\'s read as two zero one seven.    can this change be reverted, or is there plans to implement an option to  choose which method to use?    lars \"', 'Help': 'Help', 'Answer': 'Junk', 'Tag': 'Help'}\n"
     ]
    }
   ],
   "source": [
    "from elasticsearch import Elasticsearch\n",
    " \n",
    "es = Elasticsearch()\n",
    "\n",
    "search_qry = \"reading numbers\"\n",
    "\n",
    "res = es.search(index=\"test\", body={\"query\": {\"match\": {'Original_post':search_qry}}})\n",
    "\n",
    "print(\"%d documents found\" % res['hits']['total'])\n",
    "for doc in res['hits']['hits']:\n",
    "    print(\"%s) %s\" % (doc['_id'], doc['_source']))"
   ]
  },
  {
   "cell_type": "code",
   "execution_count": 213,
   "metadata": {},
   "outputs": [],
   "source": [
    "from elasticsearch import Elasticsearch\n",
    "from itertools import chain\n",
    "from nltk.corpus import wordnet\n",
    "\n",
    "SW_LIST = ['firefox', 'chrome', 'microsoft edge', 'opera', 'internet explorer', 'waterfox', 'microsoft office',\n",
    "           'microsoft word', 'microsoft excel', 'microsoft powerpoint', 'browser']\n",
    "\n",
    "def return_conversions_for_query(query):\n",
    "    es = Elasticsearch()\n",
    "    \n",
    "#     sw_name = []\n",
    "#     other_words = []\n",
    "#     for word in query.split():\n",
    "#         if word in SW_LIST:\n",
    "#             sw_name.append(word)\n",
    "#         else:\n",
    "#             synonyms = wordnet.synsets(word)\n",
    "#             lemmas = list(set(chain.from_iterable([w.lemma_names() for w in synonyms])))[:5]\n",
    "#             other_words.extend(lemmas)\n",
    "#             #other_words.extend(word)\n",
    "    \n",
    "#     sw_name = ' '.join(sw_name)\n",
    "#     other_words = ' '.join(other_words)\n",
    "    #print(sw_name)\n",
    "    #print(other_words)\n",
    "    res = es.search(index=\"test\", body={\"query\": {\"match\": {'Original_post': {\"query\": query,\n",
    "                                                    }}}})\n",
    "    \n",
    "#     res = es.search(index=\"test\", body={\"query\": {\n",
    "#                                     'bool': {\n",
    "#                                           'must': {\n",
    "#                                             'match': {'Post': sw_name}\n",
    "#                                           },\n",
    "#                                           'should': {\n",
    "#                                             'term': {'Post': other_words}\n",
    "#                                           }\n",
    "#                                         }}})\n",
    "    \n",
    "    print(\"%d documents found\" % res['hits']['total'])\n",
    "    \n",
    "    conversation =[]\n",
    "    \n",
    "    #for doc in res['hits']['hits']:\n",
    "    for doc in res['hits']['hits']:\n",
    "        print(\"%s) %s\" % (doc['_id'], doc['_source']))\n",
    "        conversation.append(doc['_source'])\n",
    "        \n",
    "    print(len(conversation))\n",
    "    return conversation"
   ]
  },
  {
   "cell_type": "code",
   "execution_count": 210,
   "metadata": {},
   "outputs": [
    {
     "name": "stdout",
     "output_type": "stream",
     "text": [
      "35 documents found\n",
      "L0P7GGoBS2JQIYXr8kvT) {'ID': '4576', 'Title': 'break copyright. re nvda microsoft word with nvda by nv access now available', 'Original_post': 'break copyright. re nvda microsoft microsoft word with nvda by nv access now available \" this is really a useful documentation.  i will buy it during these days, i have a question:  if i translate the document in italian, do you think i will break copyright?  i really don\\'t want to make things that can create problems to me or nvaccess, but this kind of document is very useful, what do you think about this, translating in other languages?          il 13/09/2016 09:14, quentin christensen ha scritto:   nv access is very pleased to announce the release of \\'microsoft microsoft word  with nvda\\', the official training material for microsoft microsoft word with nvda.  it covers concepts from getting started with microsoft word through to use of  advanced features such as customising the status ribbon and running macros.    available from:   http://www.nvaccess.org/product/microsoft-microsoft word-training-for-nvda/   initially in ebook formats (braille and audio to follow) for aud $30 (+  $3 gst in australia).      microsoft microsoft word with nvda is the second module in the official set of  training materials for learning to use the free nvda screen reader.  suitable for the new and existing user of microsoft microsoft word wishing to  improve proficiency. this module assumes that the user has completed the        basic training for nvda       module, or has equivalent knowledge.    topics covered include: getting started with microsoft microsoft word,  proofreading, styles, tables, page layout, referencing, inserting,  collaboration and sharing and customising microsoft word options. formats included  in this package: epub, html, microsoft word docx and mobi (kindle).    the purchase price of this product supports the work of nv access and  our ability to provide the nvda screen reading software free of charge.    if you would like to sample the style of the material prior to  purchasing, we have made an extract of the basic training for nvda  module freely available on our website,  http://www.nvaccess.org/ .      --  quentin christensen  training material developer  basic training for nvda e-book now available:  http://www.nvaccess.org/shop/     ph +61 7 3149 3306 &lt;tel:%2b61%207%203149%203306&gt;  direct: +61 413 904 383  www.nvaccess.org &lt; http://www.nvaccess.org/ &gt;  facebook:  http://www.facebook.com/nvaccess   twitter:@nvaccess  \"', 'Help': 'Help', 'Answer': 'Answer', 'Tag': 'Answer'}\n",
      "fEP7GGoBS2JQIYXr9Es_) {'ID': '4695', 'Title': 'browse mode vs focus mode sound', 'Original_post': 'browse mode vs focus mode sound \"  andre,                          and not always in microsoft word, either.     i wonder which version of microsoft word was the first to have this implemented?     i\\'ve already opened a bug report for nvda 2016.1 in combination with microsoft-microsoft microsoft word with regard to the elements list not functioning at all there.                          it seems to work just fine in microsoft microsoft excel and not at all in access 2010.     i\\'ve not tested microsoft outlook or microsoft powerpoint.  brian  \"', 'Help': 'Help', 'Answer': 'Junk', 'Tag': 'Help'}\n",
      "80P7GGoBS2JQIYXr90vO) {'ID': '4879', 'Title': 'bug in text presentation on the web with firefox', 'Original_post': 'bug in text presentation on the web with firefox hi.  i tested this page using both nvda 2017.1 and 2017.2 in firefox.  this line seems to be considered one combined microsoft word not many microsoft word.  desktopscreenreaderuserswillfinditeasiertonavigateiftheydownloadthesamples.  i also have this problem using libre microsoft office 5.3 with nvda in its dialog boxes.  could someone read this bug which i reported and help me?   https://bugs.documentfoundation.org/show_bug.cgi?id=108582   god bless you all.', 'Help': 'Junk', 'Answer': 'Answer', 'Tag': 'Answer'}\n",
      "zkP7GGoBS2JQIYXr8Er4) {'ID': '4382', 'Title': 'braille display cursor routing', 'Original_post': 'braille display cursor routing \" testing with nvda 2017.2, i noticed that if i press a routing button on a  braille display in microsoft microsoft outlook or microsoft microsoft word, the cursor is shown  below the character next to the routing button (i.e., dots 7-8 are displayed) but it turns out that the cursor has not moved at all from its prior location.    in this case, i tested with a freedom scientific focus 40 blue display, grade  ii contracted braille enabled, with computer braille for the microsoft word under the  cursor.    is this a known issue, or can others on the list reproduce it? \"', 'Help': 'Help', 'Answer': 'Junk', 'Tag': 'Help'}\n",
      "ckP7GGoBS2JQIYXr9EsQ) {'ID': '4679', 'Title': 'browse mode re nvda creating a profile', 'Original_post': 'browse mode re nvda creating a profile \"  you\\'re welcome gary!     there is more in the microsoft microsoft word with nvda module available from nv access:     http://www.nvaccess.org/shop/  if you are interested (no pressure, just spruiking it *grin*)      regards      quentin.           \"', 'Help': 'Junk', 'Answer': 'Answer', 'Tag': 'Answer'}\n",
      "d0P7GGoBS2JQIYXr9Esp) {'ID': '4687', 'Title': 'browse mode vs focus mode sound', 'Original_post': 'browse mode vs focus mode sound \"  hello all,                           i am trying to work a bit more with browse mode and focus mode, particularly in the context of an microsoft-microsoft word document, which is giving me more than a bit of trouble as far as wrapping my head around what i should be doing.                           one of the first things i\\'m trying to determine is what mode goes with what cueing sound.     when you hit nvda+space to switch modes, where and when you can switch them, one sound is a chime and the other is an electronic \\'cheep\\' of sorts.     which sound indicates which mode?     i was expecting a verbal cue like \\'browse mode on\\' or \\'focus mode on\\' but that\\'s not what i\\'m getting.                               also, i have a 52-page microsoft-microsoft word document that\\'s chock full of hyperlinks.     when i\\'m in what i believe is browse mode and i hit nvda+f7 i get the announcement regarding the elements list, but no dialog box appears like it does if i\\'m trying the same thing in a webpage.     i thought i would be able to get a set of links showing like i do if i\\'m in chrome or firefox looking at a webpage, but instead listing all the links within the document, but the dialog box never appears even though it\\'s announced.                               i\\'m using nvda 2016.1 and microsoft microsoft microsoft word running on a windows 10 home, 64-bit machine.     any guidance or assistance would be much appreciated.  brian  \"', 'Help': 'Help', 'Answer': 'Junk', 'Tag': 'Help'}\n",
      "e0P7GGoBS2JQIYXr9Es6) {'ID': '4694', 'Title': 'browse mode vs focus mode sound', 'Original_post': 'browse mode vs focus mode sound it is only available in microsoft word unfortunately.', 'Help': 'Junk', 'Answer': 'Answer', 'Tag': 'Answer'}\n",
      "SEP7GGoBS2JQIYXr80tM) {'ID': '4612', 'Title': 'bringing the review cursor to the focused cursor?', 'Original_post': 'bringing the review corsor to the focused cursor? thanks.  it works in microsoft word but not in eudora. is nvda no longer supporting eudora???', 'Help': 'Help', 'Answer': 'Answer', 'Tag': 'Answer'}\n",
      "MEP7GGoBS2JQIYXr8kvY) {'ID': '4579', 'Title': 'break copyright. re nvda microsoft word with nvda by nv access now available', 'Original_post': 'break copyright. re nvda microsoft microsoft word with nvda by nv access now available \"  fantastic, glad you got your order sorted shaun,     re microsoft word, there\\'s actually quite a lot of interesting features that to be honest i hadn\\'t completely explored before i dove into writing the material myself.      microsoft excel is the next module we\\'re working on.     we haven\\'t mapped out a specific plan for exactly what to tackle after that.     we\\'ve definitely talked about both microsoft powerpoint and microsoft outlook.     libre microsoft office has come up a couple of times in this and other threads lately so we might need to evaluate where the most interest and need lies.      regards      quentin.       \"', 'Help': 'Help', 'Answer': 'Answer', 'Tag': 'Answer'}\n",
      "rEP7GGoBS2JQIYXr9UtW) {'ID': '4785', 'Title': 'browsing with edge', 'Original_post': 'browsing with microsoft edge \" the only time i don\\'t use search in 7 is if it doesn\\'t show everything.  one advantage in 10 is its inteligent.  that is after waiting for it to index, searching for stuff and yelling at the stupid computer for a couple days it actually gets it right.  internet explorer if i hit a or the first 2 letters of a microsoft word it actually pops up what i want generally. \"', 'Help': 'Junk', 'Answer': 'Answer', 'Tag': 'Answer'}\n",
      "10\n",
      "10\n",
      "10\n"
     ]
    }
   ],
   "source": [
    "import pandas as pd\n",
    "\n",
    "search_qry = \"word\"\n",
    "res = return_conversions_for_query(search_qry)\n",
    "print(len(res))\n",
    "\n",
    "df_result = pd.DataFrame(res)\n",
    "print(len(df_result))"
   ]
  },
  {
   "cell_type": "code",
   "execution_count": 111,
   "metadata": {},
   "outputs": [
    {
     "data": {
      "text/html": [
       "<div>\n",
       "<style scoped>\n",
       "    .dataframe tbody tr th:only-of-type {\n",
       "        vertical-align: middle;\n",
       "    }\n",
       "\n",
       "    .dataframe tbody tr th {\n",
       "        vertical-align: top;\n",
       "    }\n",
       "\n",
       "    .dataframe thead th {\n",
       "        text-align: right;\n",
       "    }\n",
       "</style>\n",
       "<table border=\"1\" class=\"dataframe\">\n",
       "  <thead>\n",
       "    <tr style=\"text-align: right;\">\n",
       "      <th></th>\n",
       "      <th>Answer</th>\n",
       "      <th>Help</th>\n",
       "      <th>ID</th>\n",
       "      <th>Original_post</th>\n",
       "      <th>Tag</th>\n",
       "      <th>Title</th>\n",
       "    </tr>\n",
       "  </thead>\n",
       "  <tbody>\n",
       "    <tr>\n",
       "      <th>0</th>\n",
       "      <td>Answer</td>\n",
       "      <td>Help</td>\n",
       "      <td>1074</td>\n",
       "      <td>about reading numbers in nvda 2017.2 and befor...</td>\n",
       "      <td>Answer</td>\n",
       "      <td>about reading numbers in nvda 2017.2 and befor...</td>\n",
       "    </tr>\n",
       "    <tr>\n",
       "      <th>1</th>\n",
       "      <td>Answer</td>\n",
       "      <td>Junk</td>\n",
       "      <td>1076</td>\n",
       "      <td>about reading numbers in nvda 2017.2 and befor...</td>\n",
       "      <td>Answer</td>\n",
       "      <td>about reading numbers in nvda 2017.2 and befor...</td>\n",
       "    </tr>\n",
       "    <tr>\n",
       "      <th>2</th>\n",
       "      <td>Answer</td>\n",
       "      <td>Help</td>\n",
       "      <td>1075</td>\n",
       "      <td>about reading numbers in nvda 2017.2 and befor...</td>\n",
       "      <td>Answer</td>\n",
       "      <td>about reading numbers in nvda 2017.2 and befor...</td>\n",
       "    </tr>\n",
       "    <tr>\n",
       "      <th>3</th>\n",
       "      <td>Answer</td>\n",
       "      <td>Help</td>\n",
       "      <td>4734</td>\n",
       "      <td>browsing hierarchical tree of comments \"      ...</td>\n",
       "      <td>Answer</td>\n",
       "      <td>browsing hierarchical tree of comments</td>\n",
       "    </tr>\n",
       "    <tr>\n",
       "      <th>4</th>\n",
       "      <td>Junk</td>\n",
       "      <td>Help</td>\n",
       "      <td>4461</td>\n",
       "      <td>braille how many use it? \"                 per...</td>\n",
       "      <td>Help</td>\n",
       "      <td>braille how many use it?</td>\n",
       "    </tr>\n",
       "  </tbody>\n",
       "</table>\n",
       "</div>"
      ],
      "text/plain": [
       "   Answer  Help    ID                                      Original_post  \\\n",
       "0  Answer  Help  1074  about reading numbers in nvda 2017.2 and befor...   \n",
       "1  Answer  Junk  1076  about reading numbers in nvda 2017.2 and befor...   \n",
       "2  Answer  Help  1075  about reading numbers in nvda 2017.2 and befor...   \n",
       "3  Answer  Help  4734  browsing hierarchical tree of comments \"      ...   \n",
       "4    Junk  Help  4461  braille how many use it? \"                 per...   \n",
       "\n",
       "      Tag                                              Title  \n",
       "0  Answer  about reading numbers in nvda 2017.2 and befor...  \n",
       "1  Answer  about reading numbers in nvda 2017.2 and befor...  \n",
       "2  Answer  about reading numbers in nvda 2017.2 and befor...  \n",
       "3  Answer             browsing hierarchical tree of comments  \n",
       "4    Help                           braille how many use it?  "
      ]
     },
     "execution_count": 111,
     "metadata": {},
     "output_type": "execute_result"
    }
   ],
   "source": [
    "df_result.head()"
   ]
  },
  {
   "cell_type": "code",
   "execution_count": 113,
   "metadata": {},
   "outputs": [],
   "source": [
    "df_result = df_result.sort_values(['Title', 'ID'], ascending=[True, True])"
   ]
  },
  {
   "cell_type": "code",
   "execution_count": 114,
   "metadata": {},
   "outputs": [
    {
     "data": {
      "text/html": [
       "<div>\n",
       "<style scoped>\n",
       "    .dataframe tbody tr th:only-of-type {\n",
       "        vertical-align: middle;\n",
       "    }\n",
       "\n",
       "    .dataframe tbody tr th {\n",
       "        vertical-align: top;\n",
       "    }\n",
       "\n",
       "    .dataframe thead th {\n",
       "        text-align: right;\n",
       "    }\n",
       "</style>\n",
       "<table border=\"1\" class=\"dataframe\">\n",
       "  <thead>\n",
       "    <tr style=\"text-align: right;\">\n",
       "      <th></th>\n",
       "      <th>Answer</th>\n",
       "      <th>Help</th>\n",
       "      <th>ID</th>\n",
       "      <th>Original_post</th>\n",
       "      <th>Tag</th>\n",
       "      <th>Title</th>\n",
       "    </tr>\n",
       "  </thead>\n",
       "  <tbody>\n",
       "    <tr>\n",
       "      <th>0</th>\n",
       "      <td>Answer</td>\n",
       "      <td>Help</td>\n",
       "      <td>1074</td>\n",
       "      <td>about reading numbers in nvda 2017.2 and befor...</td>\n",
       "      <td>Answer</td>\n",
       "      <td>about reading numbers in nvda 2017.2 and befor...</td>\n",
       "    </tr>\n",
       "    <tr>\n",
       "      <th>2</th>\n",
       "      <td>Answer</td>\n",
       "      <td>Help</td>\n",
       "      <td>1075</td>\n",
       "      <td>about reading numbers in nvda 2017.2 and befor...</td>\n",
       "      <td>Answer</td>\n",
       "      <td>about reading numbers in nvda 2017.2 and befor...</td>\n",
       "    </tr>\n",
       "    <tr>\n",
       "      <th>1</th>\n",
       "      <td>Answer</td>\n",
       "      <td>Junk</td>\n",
       "      <td>1076</td>\n",
       "      <td>about reading numbers in nvda 2017.2 and befor...</td>\n",
       "      <td>Answer</td>\n",
       "      <td>about reading numbers in nvda 2017.2 and befor...</td>\n",
       "    </tr>\n",
       "    <tr>\n",
       "      <th>7</th>\n",
       "      <td>Answer</td>\n",
       "      <td>Junk</td>\n",
       "      <td>2218</td>\n",
       "      <td>admin re nvda how much does the eloquence and ...</td>\n",
       "      <td>Answer</td>\n",
       "      <td>admin re nvda how much does the eloquence and ...</td>\n",
       "    </tr>\n",
       "    <tr>\n",
       "      <th>8</th>\n",
       "      <td>Junk</td>\n",
       "      <td>Help</td>\n",
       "      <td>4389</td>\n",
       "      <td>braille display with nvda and openbook 9.0 \"  ...</td>\n",
       "      <td>Help</td>\n",
       "      <td>braille display with nvda and open book 9.0</td>\n",
       "    </tr>\n",
       "  </tbody>\n",
       "</table>\n",
       "</div>"
      ],
      "text/plain": [
       "   Answer  Help    ID                                      Original_post  \\\n",
       "0  Answer  Help  1074  about reading numbers in nvda 2017.2 and befor...   \n",
       "2  Answer  Help  1075  about reading numbers in nvda 2017.2 and befor...   \n",
       "1  Answer  Junk  1076  about reading numbers in nvda 2017.2 and befor...   \n",
       "7  Answer  Junk  2218  admin re nvda how much does the eloquence and ...   \n",
       "8    Junk  Help  4389  braille display with nvda and openbook 9.0 \"  ...   \n",
       "\n",
       "      Tag                                              Title  \n",
       "0  Answer  about reading numbers in nvda 2017.2 and befor...  \n",
       "2  Answer  about reading numbers in nvda 2017.2 and befor...  \n",
       "1  Answer  about reading numbers in nvda 2017.2 and befor...  \n",
       "7  Answer  admin re nvda how much does the eloquence and ...  \n",
       "8    Help        braille display with nvda and open book 9.0  "
      ]
     },
     "execution_count": 114,
     "metadata": {},
     "output_type": "execute_result"
    }
   ],
   "source": [
    "df_result.head()"
   ]
  },
  {
   "cell_type": "code",
   "execution_count": 202,
   "metadata": {},
   "outputs": [
    {
     "name": "stdout",
     "output_type": "stream",
     "text": [
      "defaultdict(<class 'list'>, {})\n"
     ]
    }
   ],
   "source": [
    "from collections import defaultdict\n",
    "\n",
    "d = defaultdict(list)\n",
    "print(d)"
   ]
  },
  {
   "cell_type": "code",
   "execution_count": 203,
   "metadata": {},
   "outputs": [],
   "source": [
    "def assign_to_dict(row):\n",
    "    \n",
    "    \n",
    "    title = row[5]\n",
    "    ind = row[2]\n",
    "    post = row[3]\n",
    "    tag = row[4]\n",
    "    \n",
    "    temp = {}\n",
    "    temp[\"id\"] = ind\n",
    "    temp['post'] = post\n",
    "    temp['tag'] = tag\n",
    "    \n",
    "    d[title].append(temp)"
   ]
  },
  {
   "cell_type": "code",
   "execution_count": 204,
   "metadata": {},
   "outputs": [
    {
     "name": "stdout",
     "output_type": "stream",
     "text": [
      "[{'id': '1074', 'post': 'about reading numbers in nvda 2017.2 and before nvdadevelopers and experts please help me. \"          hi.      it is very important to distinguish that nvda is not, and i repeat not, responsible for the processing of numbers. all this functionality is controlled by the synthesizer of choice. in certain locales and regions, the period (or full stop) symbolizes the decimal point. after it is encountered, numbers are read by single digits by most synthesizers. eloquence, with the american english setting, will pronounce the 0 as an    o    as that is common in north america. i haven   t seen espeak do this any at all.      sent from  mail  for windows 10             \"', 'tag': 'Answer'}, {'id': '1075', 'post': 'about reading numbers in nvda 2017.2 and before nvdadevelopers and experts please help me. \"            hi andre      thanks for this, i tried eloquence with the british english setting and it does indeed read a zero after the decimal point, the problem is the accent is awful so i   ll put up   with the o   s.   regarding espeak, it does read as zero, perhaps i was reading the text after switching synths.              cheers      chris                        \"', 'tag': 'Answer'}, {'id': '1076', 'post': 'about reading numbers in nvda 2017.2 and before nvdadevelopers and experts please help me. \" hi.  i wish that * digits prior to the first period in a number sequence  are spoken as a whole number, digits thereafter also are spoken whole  number.  i dont use any synthesizer other than espeak.  what should i do? \"', 'tag': 'Answer'}]\n"
     ]
    }
   ],
   "source": [
    "df_result.apply(assign_to_dict, axis = 1)\n",
    "\n",
    "print(d['about reading numbers in nvda 2017.2 and before nvdadevelopers and experts please help me.'])"
   ]
  },
  {
   "cell_type": "code",
   "execution_count": 206,
   "metadata": {},
   "outputs": [],
   "source": [
    "import json\n",
    "with open('../FInal Version Code/Data/result.json', 'w') as fp:\n",
    "    json.dump(d, fp)"
   ]
  },
  {
   "cell_type": "code",
   "execution_count": 209,
   "metadata": {},
   "outputs": [
    {
     "name": "stdout",
     "output_type": "stream",
     "text": [
      "[{'id': '1074', 'post': 'about reading numbers in nvda 2017.2 and before nvdadevelopers and experts please help me. \"          hi.      it is very important to distinguish that nvda is not, and i repeat not, responsible for the processing of numbers. all this functionality is controlled by the synthesizer of choice. in certain locales and regions, the period (or full stop) symbolizes the decimal point. after it is encountered, numbers are read by single digits by most synthesizers. eloquence, with the american english setting, will pronounce the 0 as an    o    as that is common in north america. i haven   t seen espeak do this any at all.      sent from  mail  for windows 10             \"', 'tag': 'Answer'}, {'id': '1075', 'post': 'about reading numbers in nvda 2017.2 and before nvdadevelopers and experts please help me. \"            hi andre      thanks for this, i tried eloquence with the british english setting and it does indeed read a zero after the decimal point, the problem is the accent is awful so i   ll put up   with the o   s.   regarding espeak, it does read as zero, perhaps i was reading the text after switching synths.              cheers      chris                        \"', 'tag': 'Answer'}, {'id': '1076', 'post': 'about reading numbers in nvda 2017.2 and before nvdadevelopers and experts please help me. \" hi.  i wish that * digits prior to the first period in a number sequence  are spoken as a whole number, digits thereafter also are spoken whole  number.  i dont use any synthesizer other than espeak.  what should i do? \"', 'tag': 'Answer'}]\n",
      "--\n",
      "[{'id': '2218', 'post': 'admin re nvda how much does the eloquence and vocalized voice pack cost \"                 it appears that you are sending html only versions   but i wouldn   t worry about it unless someone complains.   my e-mail program   reads the messages correctly and since no one has complained, we can assume that   others don\\'t have problems reading your messages.   if anyone complains, we   can address the problem then.              gene     \"', 'tag': 'Answer'}]\n",
      "--\n",
      "[{'id': '4389', 'post': 'braille display with nvda and openbook 9.0 \"              hello,      i am trying to use a pearl scanner to scan documents into openbook 9.0. i am wondering if there is a way to get nvda to output what openbook is reading to my braille display. i have been able to get this working with jaws but i would rather use nvda.      thank you,      michael kanary             \"', 'tag': 'Help'}]\n",
      "--\n",
      "[{'id': '4461', 'post': 'braille how many use it? \"                 perhaps 300 pages a month isn\\'t that much but   it  should have been plenty enough that, if my speed was going to go above   between 180 and 200 words per minute in ten years, it would have.   sighted   children don\\'t start reading enormous amounts of print.   and for all i   know, i may have actually read more like 400 or 500 pages a month.   i read   a science fiction magazine each month, a lot of articles and short stories, from   playboy, and now and then, a book consisting of anywhere from one to two or   perhaps three volumes.   whatever the figure was, reading between 300 and   four hundred pages a month over at least ten years should have caused my braille   speed to increase to more than 200 words per minute if it was going to.   it   didn\\'t.   i believe that there are variations in braille reading speed   because of differences in people\\'s brains.   there are differences in how   fast sighted people read  print but the average print reading speed is, from   what i\\'ve heard, about 300 words per minute.   i\\'d be surprised if the   average braille  reading speed, among those who have read braille since   being children, is more than somewhere between 160 and 180 as a rough   guess.                  i have a blind friend who reads at, my guess would   b e, about 250 words per minute but i don\\'t think i\\'ve known more than one   person who reads at nearly that speed.               gene       \"', 'tag': 'Help'}, {'id': '4464', 'post': 'braille how many use it? \"  there is the voice,  seeingwithsound.com , but it takes months to learn even the basics of sight, and i don\\'t know how it would be for reading.        \"', 'tag': 'Answer'}]\n",
      "--\n",
      "[{'id': '4672', 'post': 'browse mode re nvda creating a profile \" nvda n, p, b, should do it.    js        on 10/8/16 13:21, gary metzler  wrote:   hi gene,    i found the browse settings and the check box wasn      t checked.  i checked  it and now the messages are read to the end.  thanks again.    *from:* gene  *sent:* saturday, october 8, 2016 12:55 pm  *to:* nvda@nvda.groups.io  *subject:* re:  nvda  creating a profile    i doubt this will help but in browse mode settings in nvda, see if the  setting that tells nvda to read page automatically when page loads is  checked.  it is by default but if it isn\\'t checked, checking it may  solve the problem.    gene    *from:* gary metzler  *sent:* saturday, october 08, 2016 11:46 am  *to:* nvda@nvda.groups.io  *subject:* re:  nvda  creating a profile    i am reading in html.    *from:* gene  *sent:* saturday, october 8, 2016 12:15 pm  *to:* nvda@nvda.groups.io  *subject:* re:  nvda  creating a profile    i\\'m not sure.  i don\\'t think you specified what e-mail program you are  using.  also, are you reading mail as plain text or as html.    gene  ----- original message -----  *from:* gary metzler  *sent:* saturday, october 08, 2016 11:10 am  *to:* nvda@nvda.groups.io  *subject:* re:  nvda  creating a profile    hi gene,    when i opened this message it only read the first sentence.  can this be  changed?  thanks,    *from:* gene  *sent:* saturday, october 8, 2016 8:14 am  *to:* nvda@nvda.groups.io  *subject:* re:  nvda  creating a profile    when i open an e-mail message, even though my messages are read  automatically, i manually issue the read to end command before or at the  moment reading starts.  i find this more efficient in starting reading  faster and avoiding material i don\\'t want read.  i have already heard  the subject line.  if i tell the message to be read manually, this  material is not spoken again and the message body starts to be read.  you may have to experiment to see how long to wait before issuing the  command after opening a message.    there are times when getting in the habit of manually issuing a command  is superior to having something done automatically unless you know how  to script a screen-reader to do exactly what you want it to do.  issuing  such a command will become automatic over time.    gene    *from:* rui fontes  *sent:* saturday, october 08, 2016 6:53 am  *to:* nvda@nvda.groups.io  *subject:* re:  nvda  creating a profile    sorry, but windows live mail mail already does that...  and, a profil is only to set different configurations to an app or action...    what you want to achieve, if it is not already done, will need an  appmodule...    rui      -----mensagem original-----  de: gary metzler  data: 8 de outubro de 2016 11:10  para: nvda@nvda.groups.io  assunto:  nvda  creating a profile      hi all,    since i am new to nvda i would like to know if it is possible to create a  profile for windows live mail mail to read the entire message upon opening it?  if so, how is this done?  thanks for any help.regards, gary kn4ox              \"', 'tag': 'Help'}]\n",
      "--\n",
      "[{'id': '4701', 'post': \"browser issue clickable ... nvda p doesn't open preferences.   it sets the   level of symbol reading.   nvda n then p to open preferences.              gene\", 'tag': 'Answer'}]\n",
      "--\n",
      "[{'id': '4734', 'post': 'browsing hierarchical tree of comments \"                 i ask a question in this message and make a few   comments but the second half of the message discusses what might be a related   command, at least in terms of how you would program it.   perhaps if there   is enough interest on the list, the developers will work on it soon.                   the review corsor by default if you are using   object navigation follows the system cursor.   but what i\\'m saying is if you   only want to read the top level comments, then don\\'t you have to move to every   comment and measure the distance?   my question is how that is better than   reading a few words of each comment to see if you want to continue.   but   maybe you have to read enough of each comment that it is slower enough to   matter.                 evidently, the speak position command has more   functions than in the old version of nvda i use.   so you are correct that   to hear the numbers, you have to issue the command twice.         also, the idea of being able to jump to the next   occurrence of text starting a certain point from the left of the screen might be   related to another feature nvda should have.   if you have a page with two   or three columns or more and you want to only read one column, you should be   able to define a start point and an end point farther to the right.   then   you could read and only have that defineed column read.   asap had a read   column feature in jaws.   i seldo had to use it but i would imagine it was   very useful to some people,   consider one use with nvda:      suppose you got a poorly formatted pdf document where   pages didn\\'t decolumnize properly.   rather than have decolumnization occur,   if you could just have the page recognized with no decolumnization and set the   columns yourself, you might be able to read such documents.                 genea distance from the left of the screen           \"', 'tag': 'Answer'}]\n",
      "--\n"
     ]
    }
   ],
   "source": [
    "for k in d.keys():\n",
    "    print(d[k])\n",
    "    print('--')"
   ]
  }
 ],
 "metadata": {
  "kernelspec": {
   "display_name": "Python 3",
   "language": "python",
   "name": "python3"
  },
  "language_info": {
   "codemirror_mode": {
    "name": "ipython",
    "version": 3
   },
   "file_extension": ".py",
   "mimetype": "text/x-python",
   "name": "python",
   "nbconvert_exporter": "python",
   "pygments_lexer": "ipython3",
   "version": "3.6.4"
  }
 },
 "nbformat": 4,
 "nbformat_minor": 2
}
