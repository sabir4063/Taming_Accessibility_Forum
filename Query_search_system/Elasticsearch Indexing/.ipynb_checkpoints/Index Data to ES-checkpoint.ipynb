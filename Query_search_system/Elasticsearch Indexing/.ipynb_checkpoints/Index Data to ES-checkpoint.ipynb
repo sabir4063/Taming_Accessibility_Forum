{
 "cells": [
  {
   "cell_type": "code",
   "execution_count": 11,
   "metadata": {},
   "outputs": [],
   "source": [
    "from elasticsearch import Elasticsearch\n",
    "from datetime import datetime\n",
    "es = Elasticsearch()\n",
    "\n",
    "class tutorial:\n",
    "    # create an instance of elasticsearch and assign it to port 9200\n",
    "    ES_HOST = {\"host\": \"localhost\", \"port\": 9200}\n",
    "    es = Elasticsearch(hosts=[ES_HOST])\n",
    "\n",
    "\n",
    "    def create_index(index_name):\n",
    "        \"\"\"Functionality to create index.\"\"\"\n",
    "        resp = es.indices.create(index=index_name)\n",
    "        print(resp)\n",
    "\n",
    "\n",
    "    def document_add(index_name, doc_type, doc, doc_id=None):\n",
    "        \"\"\"Funtion to add a document by providing index_name,\n",
    "        document type, document contents as doc and document id.\"\"\"\n",
    "        resp = es.index(index=index_name, doc_type=doc_type, body=doc, id=doc_id)\n",
    "        #print(resp)\n",
    "\n",
    "\n",
    "    def document_view(index_name, doc_type, doc_id):\n",
    "        \"\"\"Function to view document.\"\"\"\n",
    "        resp = es.get(index=index_name, doc_type=doc_type, id=doc_id)\n",
    "        document = resp[\"_source\"]['Post']\n",
    "        print(document)\n",
    "\n",
    "\n",
    "    def document_update(index_name, doc_type, doc_id, doc=None, new=None):\n",
    "        \"\"\"Function to edit a document either updating existing fields or adding a new field.\"\"\"\n",
    "        if doc:\n",
    "            resp = es.index(index=index_name, doc_type=doc_type,\n",
    "                            id=doc_id, body=doc)\n",
    "            print(resp)\n",
    "        else:\n",
    "            resp = es.update(index=index_name, doc_type=doc_type,\n",
    "                             id=doc_id, body={\"doc\": new})\n",
    "\n",
    "\n",
    "    def document_delete(index_name, doc_type, doc_id):\n",
    "        \"\"\"Function to delete a specific document.\"\"\"\n",
    "        resp = es.delete(index=index_name, doc_type=doc_type, id=doc_id)\n",
    "        print(resp)\n",
    "\n",
    "\n",
    "    def delete_index(index_name):\n",
    "        \"\"\"Delete an index by specifying the index name\"\"\"\n",
    "        resp = es.indices.delete(index=index_name)\n",
    "        print(resp)"
   ]
  },
  {
   "cell_type": "code",
   "execution_count": 12,
   "metadata": {},
   "outputs": [
    {
     "name": "stdout",
     "output_type": "stream",
     "text": [
      "{'acknowledged': True}\n"
     ]
    }
   ],
   "source": [
    "resp = es.indices.delete(index='test')\n",
    "print(resp)"
   ]
  },
  {
   "cell_type": "code",
   "execution_count": 13,
   "metadata": {},
   "outputs": [
    {
     "name": "stdout",
     "output_type": "stream",
     "text": [
      "{'acknowledged': True, 'shards_acknowledged': True, 'index': 'test'}\n"
     ]
    }
   ],
   "source": [
    "tutorial.create_index('test')"
   ]
  },
  {
   "cell_type": "code",
   "execution_count": 14,
   "metadata": {},
   "outputs": [],
   "source": [
    "import csv\n",
    "import json\n",
    "\n",
    "with open('tagged_data.json') as json_file:  \n",
    "    data = json.load(json_file)\n",
    "    for p in data:\n",
    "        tutorial.document_add('test', 'nvda', p)"
   ]
  },
  {
   "cell_type": "code",
   "execution_count": 29,
   "metadata": {},
   "outputs": [
    {
     "name": "stdout",
     "output_type": "stream",
     "text": [
      "3756 documents found\n",
      "-EJNDWoBS2JQIYXr5mTp) {'id': '21213', 'Link': 'https://nvda.groups.io/g/nvda/message/10638', 'Title': 'how to make nvda say words using laptop', 'Author': '65', 'Date': '11/18/2016', 'Post': 'how to make nvda say word using laptop hi list i have a friend who is borrowing a windows_10 laptop how doe one allow nvda to say word instead of echo charictors thanks any help will be appriciated', 'Title_original': 'How to make NVDA say words using laptop', 'Title_type': 'original', 'Tag': 'Help'}\n",
      "TEJNDWoBS2JQIYXroFvc) {'id': '1665', 'Link': 'https://nvda.groups.io/g/nvda/message/9254', 'Title': 'standard keyboard labels', 'Author': '187', 'Date': '10-04-16', 'Post': 'standard keyboard label hi nvda user i write content article a mean to garner an income and wonder if you might know the specific key on a standard computer keyboard that automatically insert the word registered and trademark thus these word are read in whole but spelling is hidden if using arrow key thanks in advance david russell david sonofhashem character consists of what you do on the third and fourth try james a michener', 'Title_original': 'Standard Keyboard Labels?', 'Title_type': 'original', 'Tag': 'Help'}\n",
      "xkJNDWoBS2JQIYXru17V) {'id': '8802', 'Link': 'https://nvda.groups.io/g/nvda/message/27251', 'Title': 'false spelling errors', 'Author': '385', 'Date': '10-05-17', 'Post': 'false spelling error hi list a strange thing happened a little while ago i wa on facebook using the mobile version of it on chrome and noticed something really nutty every couple word gave me the oops wrong spelling buzz word like new or radio or others that i had to doubletake on to see that they were spelled right it s the first time that ever happened is there some kind of bugg working with nvda chrome and mobile facebook it sure wa weird', 'Title_original': 'false spelling errors?', 'Title_type': 'original', 'Tag': 'Junk'}\n",
      "60JODWoBS2JQIYXrKm4-) {'id': '41065', 'Link': 'https://nvda.groups.io/g/nvda/message/9017', 'Title': 'missing spaces between words in pdf document', 'Author': '117', 'Date': '9/28/2016', 'Post': 'missing space between word in pdf document hi doe anyone know what cause some pdf document to have word that are not separated by a space for example thecitizensboard issuesdocumentsabout organisingevents this line of text should clearly have a space between the word i am using adobe_reader under windows_10 and nvda 2016 3 this is not new and i often find it can anyone explain why it happens or at least what i can do to advise author on how to avoid sending out these badly structured document all the best cearbhall m 353 0 833323487 ph _353 0 1 2864623 e cearbhall omeadhra', 'Title_original': 'Missing spaces between words in PDF document', 'Title_type': 'original', 'Tag': 'Help'}\n",
      "3UJODWoBS2JQIYXrEGrJ) {'id': '33550', 'Link': 'https://nvda.groups.io/g/nvda/message/40498', 'Title': 'does this page sound weird to anybody else', 'Author': '607', 'Date': '5/26/2018', 'Post': 'doe this page sound weird to anybody else when i go to the below page with nvda to me it sound like just part of word are read in the middle of some word symbol such a dollar and percent are being read i ve tried it with internet_explorer and firefox the url is http saintleouniversityparents weebly com my parent access html', 'Title_original': 'Does this page sound weird to anybody else?', 'Title_type': 'original', 'Tag': 'Help'}\n",
      "F0JNDWoBS2JQIYXrrl35) {'id': '5226', 'Link': 'https://nvda.groups.io/g/nvda/message/732', 'Title': 'ergent nvda is sensitive to capital letters', 'Author': '710', 'Date': '03-12-16', 'Post': 'ergent nvda is sensitive to capital letter hi every one how can set nvda not sensitive to capital letter beginning of word with capital letter doe not cause a problem and in most case nvda read the word properly but unfortunately when someone write the word with many capital letter even in the middle and end of the word nvda read the sentence and in many case leter by letter and i could not understand my skype message and email what should i do to solve this problem thanks and god bless you all those who follow the messenger prophet the ummi whom they find written down with them in the taurat and the injeel who enjoins them good and forbids them evil and make lawful to them the good thing and make unlawful to them impure thing and remove from them their burden and the shackle which were upon them so a for those who believe in him and honor him and help him and follow the light which ha been sent down with him these it is that are the successful holy quran chapter 7 verse 157 best website for studying islamic book in different language al islam org', 'Title_original': 'ergent, nvda is sensitive to capital letters:', 'Title_type': 'original', 'Tag': 'Help'}\n",
      "GUJNDWoBS2JQIYXr2mOg) {'id': '17691', 'Link': 'https://nvda.groups.io/g/nvda/message/33873', 'Title': 'echo characters and words', 'Author': '393', 'Date': '1/19/2018', 'Post': 'echo character and word is this possible to do in nvda using the latest email is golden kevin lee', 'Title_original': 'echo characters and words', 'Title_type': 'original', 'Tag': 'Help'}\n",
      "ckJODWoBS2JQIYXrDmo0) {'id': '32521', 'Link': 'https://nvda.groups.io/g/nvda/message/40075', 'Title': 'espeak uk english words', 'Author': '106', 'Date': '5/21/2018', 'Post': 'espeak uk english word hi i have been told that most of the pronunciation that were wrong like for and newsletter etc have been fixed some time ago in the project but from what i can tell in the latest nvda master it still not been transferred over what is the issue is espeak ng now in some other trouble and if so cannot somebody import the fix and leave the main gut the same for u i have gone back to the old espeak a in speech player in espeak again today a it hard to understand some word brian bglists sent via blueyonder please address personal e mail to briang1 putting brian gaff in the display name field', 'Title_original': 'Espeak UK English words', 'Title_type': 'original', 'Tag': 'Junk'}\n",
      "BEJNDWoBS2JQIYXrplyL) {'id': '3032', 'Link': 'https://nvda.groups.io/g/nvda/message/5125', 'Title': 'espeak n g no good it sneezes on some words', 'Author': '551', 'Date': '06-07-16', 'Post': 'espeak n g no good it sneeze on some word a the s line say espeak n g make a buzzing or sneezing sound along with some word not cool at all along with the funny noise the voice flutter this is default espeakng max voice set to en windows_7 x64 pro clean install nvda installed using default setting except for speed set to 100 percent can i replace the espeak n g with the older one by copying the old one over the new one in the program file x86 nvda folder thanks for any help pete', 'Title_original': 'espeak n g no good it sneezes on some words', 'Title_type': 'original', 'Tag': 'Help'}\n",
      "KEJNDWoBS2JQIYXrvl96) {'id': '9589', 'Link': 'https://nvda.groups.io/g/nvda/message/31294', 'Title': 'nvda 2017 4 and the version of espeak ng packaged with it', 'Author': '623', 'Date': '12-06-17', 'Post': 'nvda 2017 4 and the version of espeak ng packaged with it i updated nvda this morning and have been periodically jarred out of my reading by thing being pronounced differently and in my opinion unnecessarily so for example the phrase for the and for a are pronounced with unnecessary emphasis on the first microsoft_word in them the i in possible is annunciated more clearly than i feel it should be the microsoft_word fantasy ha more emphasis on the first syllable than it need and sound slower a a result word like latest sound like they end with ist instead of est i do not understand this one at all a they were pronounced just fine before and word that end with n or an n sound followed by a microsoft_word beginning with a hard c or g sound a if they are being smushed together in game come out sounding like ing game also word like they are and our are more drawn out than they should be it is honestly distracting and i do not think i will ever get used to most of them to be perfectly frank', 'Title_original': 'NVDA 2017.4 and the version of espeak-ng packaged with it', 'Title_type': 'original', 'Tag': 'Junk'}\n"
     ]
    }
   ],
   "source": [
    "from elasticsearch import Elasticsearch\n",
    " \n",
    "es = Elasticsearch()\n",
    "\n",
    "search_qry = \"nvda word\"\n",
    "\n",
    "res = es.search(index=\"test\", body={\"query\": {\"match\": {'Post':search_qry}}})\n",
    "\n",
    "print(\"%d documents found\" % res['hits']['total'])\n",
    "for doc in res['hits']['hits']:\n",
    "    print(\"%s) %s\" % (doc['_id'], doc['_source']))"
   ]
  },
  {
   "cell_type": "code",
   "execution_count": 95,
   "metadata": {},
   "outputs": [],
   "source": [
    "from elasticsearch import Elasticsearch\n",
    "from itertools import chain\n",
    "from nltk.corpus import wordnet\n",
    "\n",
    "SW_LIST = ['firefox', 'chrome', 'microsoft_edge', 'opera', 'internet_explorer', 'waterfox', 'microsoft_office',\n",
    "           'microsoft_word', 'microsoft_excel', 'microsoft_powerpoint', 'browser']\n",
    "\n",
    "def return_conversions_for_query(query):\n",
    "    es = Elasticsearch()\n",
    "    \n",
    "    sw_name = []\n",
    "    other_words = []\n",
    "    for word in query.split():\n",
    "        if word in SW_LIST:\n",
    "            sw_name.append(word)\n",
    "        else:\n",
    "            synonyms = wordnet.synsets(word)\n",
    "            lemmas = list(set(chain.from_iterable([w.lemma_names() for w in synonyms])))[:5]\n",
    "            other_words.extend(lemmas)\n",
    "            #other_words.extend(word)\n",
    "    \n",
    "    sw_name = ' '.join(sw_name)\n",
    "    other_words = ' '.join(other_words)\n",
    "    #print(sw_name)\n",
    "    #print(other_words)\n",
    "    #res = es.search(index=\"test\", body={\"min_score\": 1, \"query\": {\"match\": {'Post': {\"query\": query,\n",
    "    #                                                }}}})\n",
    "    \n",
    "    res = es.search(index=\"test\", body={\"query\": {\n",
    "                                    'bool': {\n",
    "                                          'must': {\n",
    "                                            'match': {'Post': sw_name}\n",
    "                                          },\n",
    "                                          'should': {\n",
    "                                            'term': {'Post': \"best good\"}\n",
    "                                          }\n",
    "                                        }}})\n",
    "    \n",
    "    print(\"%d documents found\" % res['hits']['total'])\n",
    "    \n",
    "    conversation =[]\n",
    "    \n",
    "    for doc in res['hits']['hits']:\n",
    "        print(\"%s) %s\" % (doc['_id'], doc['_source']['Post']))\n",
    "        conversation.append(doc['_source'])\n",
    "    \n",
    "    return conversation"
   ]
  },
  {
   "cell_type": "code",
   "execution_count": 96,
   "metadata": {},
   "outputs": [
    {
     "name": "stdout",
     "output_type": "stream",
     "text": [
      "418 documents found\n",
      "lEJODWoBS2JQIYXrAmiS) chrome browser is the chrome browser accessible with nvda is it worth trying rich de steno\n",
      "VEJODWoBS2JQIYXrB2mh) nvda and chrome i noticed with nvda and chrome that nvda doe not say when or if object are clickable like it doe in firefox is there a way to change this in nvda s behavior i do have report if object are clickable turned on and checked do any of you use chrome a your default browser or do you still prefer internet_explorer or firefox when using nvda is chrome good a a default browser with nvda yet or not sent from thunderbird email client\n",
      "tUJNDWoBS2JQIYXrnFop) chrome and nvda and setting it a the default browser hi i have installed chrome and have tried it out and found that it work much better than it used to now i want to make it my default browser how do i do this with nvda i keep trying to do so using the setting in chrome but pressing the button seems not to take effect any idea thanks dan beaver\n",
      "WUJNDWoBS2JQIYXrv1_f) chrome and combo box hello are you able to manage combo box in chrome especially dinamic combo box are simply impossible to use because the alt down arrow keystroke that in other browser open and block the combo box in chrome ha no effect do you have some solution about this\n",
      "00JNDWoBS2JQIYXr5mQN) chrome and feed rss_reader hello i am using chrome a main browser it is great the unique problem is that in chrome there is no support for rss_reader feed like in firefox do you know an extension that give a good accessibility i tried several but managing feed is quite similar to an adventure\n",
      "fUJNDWoBS2JQIYXr1mJW) help with chrome dealing with clickable graphic hello i did download the latest version of chrome and i have both browser on a windows_7 and a windows_10 machine when i am on a website a radio station one that ha a clickable graphic to click on to listen to when i press enter on it for some reason either nvda or chrome i guess doe not see it when i am using fire fox and i go to the same website and click on the clickable graphic to listen to the radio station no problem the station play in the browser and another window pop up i wa wondering why is this happening cause in the previous version when using chrome nvda and chrome were getting along well and i can listen to the station in chrome what ha changed between chrome and fire fox can some one explain to me what is going on here and are there any work around in dealing with this thank you ____________________________________________________________ we say goodbye to sally field iflperfecttouch com http thirdpartyoffers juno com tgl3131 5a7f21731005c21725890st04vuc\n",
      "3kJNDWoBS2JQIYXrpVti) chrome browser need a beginner guide for the browser please where can i obtain such andrea\n",
      "pkJNDWoBS2JQIYXrz2Ew) google_docs with nvda and firefox esr i have a windows_10 machine with the latest released version of nvda and firefox esr version i am able to read a google document but i can t interact with it that is the arrow key don t talk and i am unable to copy text from the document in order to paste it into duxberry to print it out is there a key or a clue to working better with google_docs in this combination i suppose chrome would work better but i have that s far le than impressed with chrome i don t really feel like learning another web browser if i don t have to besides i get these google doc link in my email and fire fox is my default web browser so even if i wanted to try chrome i m not sure how i would do that given the fact that i m not willing to change my default browser to chrome mary\n",
      "00JNDWoBS2JQIYXrpFvF) browser not keeping password and id hi i have turned off this in my browser in the past but now i want to turn it on again i have been using firefox but am moving to chrome when i open a site and it asks for the id and password i have to enter it each time it doe not prompt me to save them or update them i have turned this on in the browser but it doe not seem to be taking any effect i looked through setting for windows_10 but do not see any setting that would allow or prevent this from happening either i am using the latest update of both firefox and chrome any idea what i can look at to fix this thanks dan beaver\n",
      "u0JNDWoBS2JQIYXr_Wfs) in search of a fast browser for windows_10 hello all i hope this is the best most appropriate list in which to post this firefox and internet_explorer are becoming really slow for me what i am in serch of is a fast and stable browser that i can rely on until microsoft_edge becomes usable thanks so much p what about chrome scott\n",
      "10\n",
      "{'id': '28858', 'Link': 'https://nvda.groups.io/g/nvda/message/37838', 'Title': 'chrome browser', 'Author': '580', 'Date': '3/29/2018', 'Post': 'chrome browser is the chrome browser accessible with nvda is it worth trying rich de steno', 'Title_original': 'Chrome Browser', 'Title_type': 'original', 'Tag': 'Help'}\n",
      "{'id': '30385', 'Link': 'https://nvda.groups.io/g/nvda/message/2865', 'Title': 'nvda and google chrome', 'Author': '365', 'Date': '4/20/2016', 'Post': 'nvda and chrome i noticed with nvda and chrome that nvda doe not say when or if object are clickable like it doe in firefox is there a way to change this in nvda s behavior i do have report if object are clickable turned on and checked do any of you use chrome a your default browser or do you still prefer internet_explorer or firefox when using nvda is chrome good a a default browser with nvda yet or not sent from thunderbird email client', 'Title_original': 'NVDA and google chrome', 'Title_type': 'original', 'Tag': 'Help'}\n",
      "{'id': '648', 'Link': 'https://nvda.groups.io/g/nvda/message/9186', 'Title': 'chrome and nvda and setting it as the default browser', 'Author': '156', 'Date': '10-02-16', 'Post': 'chrome and nvda and setting it a the default browser hi i have installed chrome and have tried it out and found that it work much better than it used to now i want to make it my default browser how do i do this with nvda i keep trying to do so using the setting in chrome but pressing the button seems not to take effect any idea thanks dan beaver', 'Title_original': 'Chrome and NVDA and setting it as the default browser', 'Title_type': 'original', 'Tag': 'Help'}\n",
      "{'id': '9924', 'Link': 'https://nvda.groups.io/g/nvda/message/25599', 'Title': 'google chrome and combo box', 'Author': '635', 'Date': '09-07-17', 'Post': 'chrome and combo box hello are you able to manage combo box in chrome especially dinamic combo box are simply impossible to use because the alt down arrow keystroke that in other browser open and block the combo box in chrome ha no effect do you have some solution about this', 'Title_original': 'google chrome and combo box', 'Title_type': 'original', 'Tag': 'Junk'}\n",
      "{'id': '20996', 'Link': 'https://nvda.groups.io/g/nvda/message/29911', 'Title': 'chrome and feeds rss', 'Author': '635', 'Date': '11/16/2017', 'Post': 'chrome and feed rss_reader hello i am using chrome a main browser it is great the unique problem is that in chrome there is no support for rss_reader feed like in firefox do you know an extension that give a good accessibility i tried several but managing feed is quite similar to an adventure', 'Title_original': 'chrome and feeds/rss', 'Title_type': 'original', 'Tag': 'Help'}\n",
      "{'id': '16468', 'Link': 'https://nvda.groups.io/g/nvda/message/35048', 'Title': 'help with google chrome dealing with clickable graphics', 'Author': '657', 'Date': '02-10-18', 'Post': 'help with chrome dealing with clickable graphic hello i did download the latest version of chrome and i have both browser on a windows_7 and a windows_10 machine when i am on a website a radio station one that ha a clickable graphic to click on to listen to when i press enter on it for some reason either nvda or chrome i guess doe not see it when i am using fire fox and i go to the same website and click on the clickable graphic to listen to the radio station no problem the station play in the browser and another window pop up i wa wondering why is this happening cause in the previous version when using chrome nvda and chrome were getting along well and i can listen to the station in chrome what ha changed between chrome and fire fox can some one explain to me what is going on here and are there any work around in dealing with this thank you ____________________________________________________________ we say goodbye to sally field iflperfecttouch com http thirdpartyoffers juno com tgl3131 5a7f21731005c21725890st04vuc', 'Title_original': 'help with google chrome dealing with clickable graphics', 'Title_type': 'original', 'Tag': 'Help'}\n",
      "{'id': '2712', 'Link': 'https://nvda.groups.io/g/nvda/message/11724', 'Title': 'google chrome browser', 'Author': '45', 'Date': '12-06-16', 'Post': 'chrome browser need a beginner guide for the browser please where can i obtain such andrea', 'Title_original': 'Google Chrome Browser', 'Title_type': 'original', 'Tag': 'Junk'}\n",
      "{'id': '14724', 'Link': 'https://nvda.groups.io/g/nvda/message/36341', 'Title': 'google docs with nvda and firefox esr', 'Author': '470', 'Date': '03-04-18', 'Post': 'google_docs with nvda and firefox esr i have a windows_10 machine with the latest released version of nvda and firefox esr version i am able to read a google document but i can t interact with it that is the arrow key don t talk and i am unable to copy text from the document in order to paste it into duxberry to print it out is there a key or a clue to working better with google_docs in this combination i suppose chrome would work better but i have that s far le than impressed with chrome i don t really feel like learning another web browser if i don t have to besides i get these google doc link in my email and fire fox is my default web browser so even if i wanted to try chrome i m not sure how i would do that given the fact that i m not willing to change my default browser to chrome mary', 'Title_original': 'Google docs with NVDA and Firefox ESR', 'Title_type': 'original', 'Tag': 'Help'}\n",
      "{'id': '2653', 'Link': 'https://nvda.groups.io/g/nvda/message/9306', 'Title': 'browser not keeping passwords and ids', 'Author': '156', 'Date': '10-06-16', 'Post': 'browser not keeping password and id hi i have turned off this in my browser in the past but now i want to turn it on again i have been using firefox but am moving to chrome when i open a site and it asks for the id and password i have to enter it each time it doe not prompt me to save them or update them i have turned this on in the browser but it doe not seem to be taking any effect i looked through setting for windows_10 but do not see any setting that would allow or prevent this from happening either i am using the latest update of both firefox and chrome any idea what i can look at to fix this thanks dan beaver', 'Title_original': 'browser not keeping passwords and ids', 'Title_type': 'original', 'Tag': 'Help'}\n",
      "{'id': '27003', 'Link': 'https://nvda.groups.io/g/nvda/message/963', 'Title': 'in search of a fast browser for windows 10', 'Author': '619', 'Date': '3/17/2016', 'Post': 'in search of a fast browser for windows_10 hello all i hope this is the best most appropriate list in which to post this firefox and internet_explorer are becoming really slow for me what i am in serch of is a fast and stable browser that i can rely on until microsoft_edge becomes usable thanks so much p what about chrome scott', 'Title_original': 'in search of a fast browser for windows 10', 'Title_type': 'original', 'Tag': 'Junk'}\n"
     ]
    }
   ],
   "source": [
    "res = return_conversions_for_query(\"browser best chrome\")\n",
    "print(len(res))\n",
    "for r in res:\n",
    "    print(r)"
   ]
  }
 ],
 "metadata": {
  "kernelspec": {
   "display_name": "Python 3",
   "language": "python",
   "name": "python3"
  },
  "language_info": {
   "codemirror_mode": {
    "name": "ipython",
    "version": 3
   },
   "file_extension": ".py",
   "mimetype": "text/x-python",
   "name": "python",
   "nbconvert_exporter": "python",
   "pygments_lexer": "ipython3",
   "version": "3.6.4"
  }
 },
 "nbformat": 4,
 "nbformat_minor": 2
}
