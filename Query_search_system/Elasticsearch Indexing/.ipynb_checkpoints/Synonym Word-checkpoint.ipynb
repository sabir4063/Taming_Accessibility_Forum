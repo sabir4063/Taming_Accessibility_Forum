{
 "cells": [
  {
   "cell_type": "code",
   "execution_count": 15,
   "metadata": {},
   "outputs": [
    {
     "name": "stdout",
     "output_type": "stream",
     "text": [
      "['well', 'just', 'good', 'intimately', 'respectable']\n"
     ]
    }
   ],
   "source": [
    "from itertools import chain\n",
    "from nltk.corpus import wordnet\n",
    "\n",
    "synonyms = wordnet.synsets('best')\n",
    "lemmas = list(set(chain.from_iterable([word.lemma_names() for word in synonyms])))[:5]\n",
    "\n",
    "print(lemmas)"
   ]
  },
  {
   "cell_type": "code",
   "execution_count": 17,
   "metadata": {},
   "outputs": [
    {
     "name": "stdout",
     "output_type": "stream",
     "text": [
      "best\n",
      "best\n",
      "topper\n",
      "Best\n",
      "C._H._Best\n",
      "Charles_Herbert_Best\n",
      "outdo\n",
      "outflank\n",
      "trump\n",
      "best\n",
      "scoop\n",
      "best\n",
      "better\n",
      "best\n",
      "good\n",
      "full\n",
      "good\n",
      "good\n",
      "estimable\n",
      "good\n",
      "honorable\n",
      "respectable\n",
      "beneficial\n",
      "good\n",
      "good\n",
      "good\n",
      "just\n",
      "upright\n",
      "adept\n",
      "expert\n",
      "good\n",
      "practiced\n",
      "proficient\n",
      "skillful\n",
      "skilful\n",
      "good\n",
      "dear\n",
      "good\n",
      "near\n",
      "dependable\n",
      "good\n",
      "safe\n",
      "secure\n",
      "good\n",
      "right\n",
      "ripe\n",
      "good\n",
      "well\n",
      "effective\n",
      "good\n",
      "in_effect\n",
      "in_force\n",
      "good\n",
      "good\n",
      "serious\n",
      "good\n",
      "sound\n",
      "good\n",
      "salutary\n",
      "good\n",
      "honest\n",
      "good\n",
      "undecomposed\n",
      "unspoiled\n",
      "unspoilt\n",
      "good\n",
      "best\n",
      "best\n",
      "better\n",
      "best\n",
      "well\n",
      "good\n",
      "well\n",
      "well\n",
      "easily\n",
      "well\n",
      "well\n",
      "well\n",
      "well\n",
      "considerably\n",
      "substantially\n",
      "well\n",
      "intimately\n",
      "well\n",
      "well\n",
      "well\n",
      "advantageously\n",
      "well\n",
      "comfortably\n",
      "well\n"
     ]
    }
   ],
   "source": [
    "from nltk.corpus import wordnet\n",
    "\n",
    "for syn in wordnet.synsets(\"best\"):\n",
    "    for name in syn.lemma_names():\n",
    "        print(name)"
   ]
  },
  {
   "cell_type": "code",
   "execution_count": 21,
   "metadata": {},
   "outputs": [
    {
     "ename": "NameError",
     "evalue": "name 'nlp' is not defined",
     "output_type": "error",
     "traceback": [
      "\u001b[1;31m---------------------------------------------------------------------------\u001b[0m",
      "\u001b[1;31mNameError\u001b[0m                                 Traceback (most recent call last)",
      "\u001b[1;32m<ipython-input-21-b5964597388f>\u001b[0m in \u001b[0;36m<module>\u001b[1;34m\u001b[0m\n\u001b[0;32m      3\u001b[0m     \u001b[1;32mreturn\u001b[0m \u001b[1;33m[\u001b[0m\u001b[0mw\u001b[0m\u001b[1;33m.\u001b[0m\u001b[0morth_\u001b[0m \u001b[1;32mfor\u001b[0m \u001b[0mw\u001b[0m \u001b[1;32min\u001b[0m \u001b[0mby_similarity\u001b[0m\u001b[1;33m[\u001b[0m\u001b[1;33m:\u001b[0m\u001b[1;36m10\u001b[0m\u001b[1;33m]\u001b[0m\u001b[1;33m]\u001b[0m\u001b[1;33m\u001b[0m\u001b[0m\n\u001b[0;32m      4\u001b[0m \u001b[1;33m\u001b[0m\u001b[0m\n\u001b[1;32m----> 5\u001b[1;33m \u001b[0mmost_similar\u001b[0m\u001b[1;33m(\u001b[0m\u001b[0mnlp\u001b[0m\u001b[1;33m.\u001b[0m\u001b[0mvocab\u001b[0m\u001b[1;33m[\u001b[0m\u001b[1;34mu'dog'\u001b[0m\u001b[1;33m]\u001b[0m\u001b[1;33m)\u001b[0m\u001b[1;33m\u001b[0m\u001b[0m\n\u001b[0m",
      "\u001b[1;31mNameError\u001b[0m: name 'nlp' is not defined"
     ]
    }
   ],
   "source": [
    "def most_similar(word):\n",
    "    by_similarity = sorted(word.vocab, key=lambda w: word.similarity(w), reverse=True)\n",
    "    return [w.orth_ for w in by_similarity[:10]]\n",
    "\n",
    "most_similar(nlp.vocab[u'dog'])"
   ]
  }
 ],
 "metadata": {
  "kernelspec": {
   "display_name": "Python 3",
   "language": "python",
   "name": "python3"
  },
  "language_info": {
   "codemirror_mode": {
    "name": "ipython",
    "version": 3
   },
   "file_extension": ".py",
   "mimetype": "text/x-python",
   "name": "python",
   "nbconvert_exporter": "python",
   "pygments_lexer": "ipython3",
   "version": "3.6.4"
  }
 },
 "nbformat": 4,
 "nbformat_minor": 2
}
