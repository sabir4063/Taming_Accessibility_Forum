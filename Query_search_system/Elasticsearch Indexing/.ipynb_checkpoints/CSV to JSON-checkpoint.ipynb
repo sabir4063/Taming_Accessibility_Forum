{
 "cells": [
  {
   "cell_type": "code",
   "execution_count": 38,
   "metadata": {},
   "outputs": [],
   "source": [
    "import csv\n",
    "import json"
   ]
  },
  {
   "cell_type": "code",
   "execution_count": 39,
   "metadata": {},
   "outputs": [],
   "source": [
    "#Read CSV File\n",
    "def read_csv(file, json_file, format):\n",
    "    csv_rows = []\n",
    "    with open(file) as csvfile:\n",
    "        reader = csv.DictReader(csvfile)\n",
    "        title = reader.fieldnames\n",
    "        for row in reader:\n",
    "            csv_rows.extend([{title[i]:row[title[i]] for i in range(len(title))}])\n",
    "        write_json(csv_rows, json_file, format)"
   ]
  },
  {
   "cell_type": "code",
   "execution_count": 40,
   "metadata": {},
   "outputs": [],
   "source": [
    "#Convert csv data into json and write it\n",
    "def write_json(data, json_file, format):\n",
    "    with open(json_file, \"w\") as f:\n",
    "        if format == \"pretty\":\n",
    "            f.write(json.dumps(data, sort_keys=False, indent=4, separators=(',', ': ')))\n",
    "        else:\n",
    "            f.write(json.dumps(data))"
   ]
  },
  {
   "cell_type": "code",
   "execution_count": 41,
   "metadata": {},
   "outputs": [],
   "source": [
    "read_csv(\"../FInal Version Code/Data/to_es.csv\", '../FInal Version Code/Data/to_es.json', 'pretty')"
   ]
  }
 ],
 "metadata": {
  "kernelspec": {
   "display_name": "Python 3",
   "language": "python",
   "name": "python3"
  },
  "language_info": {
   "codemirror_mode": {
    "name": "ipython",
    "version": 3
   },
   "file_extension": ".py",
   "mimetype": "text/x-python",
   "name": "python",
   "nbconvert_exporter": "python",
   "pygments_lexer": "ipython3",
   "version": "3.6.4"
  }
 },
 "nbformat": 4,
 "nbformat_minor": 2
}
