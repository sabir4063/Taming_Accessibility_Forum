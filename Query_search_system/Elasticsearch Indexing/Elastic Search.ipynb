{
 "cells": [
  {
   "cell_type": "code",
   "execution_count": null,
   "metadata": {},
   "outputs": [],
   "source": [
    "import requests\n",
    "res = requests.get('http://localhost:9200')\n",
    "print(res.content)"
   ]
  },
  {
   "cell_type": "code",
   "execution_count": null,
   "metadata": {},
   "outputs": [],
   "source": [
    "from datetime import datetime\n",
    "from elasticsearch import Elasticsearch\n",
    "es = Elasticsearch()\n",
    "\n",
    "doc = {\n",
    "    'author': 'kimchy',\n",
    "    'text': 'Elasticsearch: cool. bonsai cool.',\n",
    "    'timestamp': datetime.now(),\n",
    "}\n",
    "res = es.index(index=\"test-index\", doc_type='tweet', id=1, body=doc)\n",
    "print(res['result'])\n",
    "\n",
    "res = es.get(index=\"test-index\", doc_type='tweet', id=1)\n",
    "print(res['_source'])\n",
    "\n",
    "es.indices.refresh(index=\"test-index\")\n",
    "\n",
    "res = es.search(index=\"test-index\", body={\"query\": {\"match_all\": {}}})\n",
    "print(\"Got %d Hits:\" % res['hits']['total'])\n",
    "for hit in res['hits']['hits']:\n",
    "    print(\"%(timestamp)s %(author)s: %(text)s\" % hit[\"_source\"])"
   ]
  },
  {
   "cell_type": "code",
   "execution_count": 6,
   "metadata": {},
   "outputs": [],
   "source": [
    "from elasticsearch import Elasticsearch\n",
    "\n",
    "ES_HOST = {\"host\": \"localhost\", \"port\": 9200}\n",
    "es = Elasticsearch(hosts=[ES_HOST])"
   ]
  },
  {
   "cell_type": "code",
   "execution_count": 8,
   "metadata": {},
   "outputs": [
    {
     "name": "stdout",
     "output_type": "stream",
     "text": [
      "{'acknowledged': True, 'shards_acknowledged': True, 'index': 'novels'}\n"
     ]
    }
   ],
   "source": [
    "INDEX_NAME = 'novels' \n",
    "#res = es.indices.delete(index=INDEX_NAME)\n",
    "response = es.indices.create(index=INDEX_NAME)\n",
    "print(response)"
   ]
  },
  {
   "cell_type": "code",
   "execution_count": 10,
   "metadata": {},
   "outputs": [
    {
     "name": "stdout",
     "output_type": "stream",
     "text": [
      "{'_index': 'novels', '_type': 'authors', '_id': '1', '_version': 2, 'result': 'updated', '_shards': {'total': 2, 'successful': 1, 'failed': 0}, '_seq_no': 1, '_primary_term': 1}\n"
     ]
    }
   ],
   "source": [
    "author1 = {\"name\": \"bald\", \"novels_count\": 18}\n",
    "resp1 = es.index(index=INDEX_NAME, doc_type=\"authors\", body=author1, id=1)\n",
    "print(resp1)"
   ]
  },
  {
   "cell_type": "code",
   "execution_count": 11,
   "metadata": {},
   "outputs": [
    {
     "name": "stdout",
     "output_type": "stream",
     "text": [
      "{'_index': 'novels', '_type': 'authors', '_id': '2', '_version': 1, 'result': 'created', '_shards': {'total': 2, 'successful': 1, 'failed': 0}, '_seq_no': 0, '_primary_term': 1}\n"
     ]
    }
   ],
   "source": [
    "author2 = {\"name\": \"blend\", \"novels_count\": 16}\n",
    "resp2 = es.index(index=INDEX_NAME, doc_type=\"authors\", body=author2, id=2)\n",
    "print(resp2)"
   ]
  },
  {
   "cell_type": "code",
   "execution_count": 12,
   "metadata": {},
   "outputs": [
    {
     "name": "stdout",
     "output_type": "stream",
     "text": [
      "{'_index': 'novels', '_type': 'authors', '_id': '3', '_version': 1, 'result': 'created', '_shards': {'total': 2, 'successful': 1, 'failed': 0}, '_seq_no': 0, '_primary_term': 1}\n"
     ]
    }
   ],
   "source": [
    "author3 = {\"name\": \"bend\", \"novels_count\": 16}\n",
    "resp3 = es.index(index=INDEX_NAME, doc_type=\"authors\", body=author3, id=3)\n",
    "print(resp3)"
   ]
  },
  {
   "cell_type": "code",
   "execution_count": 13,
   "metadata": {},
   "outputs": [
    {
     "name": "stdout",
     "output_type": "stream",
     "text": [
      "{'_index': 'novels', '_type': 'authors', '_id': '4', '_version': 1, 'result': 'created', '_shards': {'total': 2, 'successful': 1, 'failed': 0}, '_seq_no': 1, '_primary_term': 1}\n"
     ]
    }
   ],
   "source": [
    "author4 = {\"name\": \"bold\", \"novels_count\": 16}\n",
    "resp4 = es.index(index=INDEX_NAME, doc_type=\"authors\", body=author4, id=4)\n",
    "print(resp4)"
   ]
  },
  {
   "cell_type": "code",
   "execution_count": 14,
   "metadata": {},
   "outputs": [
    {
     "name": "stdout",
     "output_type": "stream",
     "text": [
      "{'_index': 'novels', '_type': 'authors', '_id': '1', '_version': 2, '_seq_no': 1, '_primary_term': 1, 'found': True, '_source': {'name': 'bald', 'novels_count': 18}}\n"
     ]
    }
   ],
   "source": [
    "resp = es.get(index=INDEX_NAME, doc_type=\"authors\", id=1)\n",
    "print(resp)"
   ]
  },
  {
   "cell_type": "code",
   "execution_count": null,
   "metadata": {},
   "outputs": [],
   "source": [
    "resp = es.get(index=INDEX_NAME, doc_type=\"authors\", id=2)\n",
    "print(resp[\"_source\"])"
   ]
  },
  {
   "cell_type": "code",
   "execution_count": 26,
   "metadata": {},
   "outputs": [
    {
     "name": "stdout",
     "output_type": "stream",
     "text": [
      "0 documents found\n"
     ]
    }
   ],
   "source": [
    "from elasticsearch import Elasticsearch\n",
    " \n",
    "es = Elasticsearch()\n",
    "\n",
    "res = es.search(index=INDEX_NAME, body={\"suggest\": \n",
    "   { \"my-suggestion\": { \"text\": \"bold\", \n",
    "      \"term\": { \"field\":\"name\"}\n",
    "  }\n",
    " }})\n",
    "\n",
    "print(\"%d documents found\" % res['hits']['total'])\n",
    "for doc in res['hits']['hits']:\n",
    "    print(\"%s) %s\" % (doc['_id'], doc['_source']))"
   ]
  },
  {
   "cell_type": "code",
   "execution_count": 22,
   "metadata": {},
   "outputs": [
    {
     "name": "stdout",
     "output_type": "stream",
     "text": [
      "1 documents found\n",
      "4) {'name': 'bold', 'novels_count': 16}\n"
     ]
    }
   ],
   "source": [
    "from elasticsearch import Elasticsearch\n",
    " \n",
    "es = Elasticsearch()\n",
    "\n",
    "res = es.search(index=INDEX_NAME, body={\"query\": {\"match\": {'name':'bold'}}})\n",
    "\n",
    "print(\"%d documents found\" % res['hits']['total'])\n",
    "for doc in res['hits']['hits']:\n",
    "    print(\"%s) %s\" % (doc['_id'], doc['_source']))"
   ]
  },
  {
   "cell_type": "code",
   "execution_count": 11,
   "metadata": {},
   "outputs": [],
   "source": [
    "from elasticsearch import Elasticsearch\n",
    "from datetime import datetime\n",
    "es = Elasticsearch()\n",
    "\n",
    "class tutorial:\n",
    "    # create an instance of elasticsearch and assign it to port 9200\n",
    "    ES_HOST = {\"host\": \"localhost\", \"port\": 9200}\n",
    "    es = Elasticsearch(hosts=[ES_HOST])\n",
    "\n",
    "\n",
    "    def create_index(index_name):\n",
    "        \"\"\"Functionality to create index.\"\"\"\n",
    "        resp = es.indices.create(index=index_name)\n",
    "        print(resp)\n",
    "\n",
    "\n",
    "    def document_add(index_name, doc_type, doc, doc_id=None):\n",
    "        \"\"\"Funtion to add a document by providing index_name,\n",
    "        document type, document contents as doc and document id.\"\"\"\n",
    "        resp = es.index(index=index_name, doc_type=doc_type, body=doc, id=doc_id)\n",
    "        print(resp)\n",
    "\n",
    "\n",
    "    def document_view(index_name, doc_type, doc_id):\n",
    "        \"\"\"Function to view document.\"\"\"\n",
    "        resp = es.get(index=index_name, doc_type=doc_type, id=doc_id)\n",
    "        document = resp[\"_source\"]['Post']\n",
    "        print(document)\n",
    "\n",
    "\n",
    "    def document_update(index_name, doc_type, doc_id, doc=None, new=None):\n",
    "        \"\"\"Function to edit a document either updating existing fields or adding a new field.\"\"\"\n",
    "        if doc:\n",
    "            resp = es.index(index=index_name, doc_type=doc_type,\n",
    "                            id=doc_id, body=doc)\n",
    "            print(resp)\n",
    "        else:\n",
    "            resp = es.update(index=index_name, doc_type=doc_type,\n",
    "                             id=doc_id, body={\"doc\": new})\n",
    "\n",
    "\n",
    "    def document_delete(index_name, doc_type, doc_id):\n",
    "        \"\"\"Function to delete a specific document.\"\"\"\n",
    "        resp = es.delete(index=index_name, doc_type=doc_type, id=doc_id)\n",
    "        print(resp)\n",
    "\n",
    "\n",
    "    def delete_index(index_name):\n",
    "        \"\"\"Delete an index by specifying the index name\"\"\"\n",
    "        resp = es.indices.delete(index=index_name)\n",
    "        print(resp)"
   ]
  },
  {
   "cell_type": "code",
   "execution_count": 4,
   "metadata": {},
   "outputs": [],
   "source": [
    "# resp = es.indices.delete(index='test')\n",
    "# print(resp)"
   ]
  },
  {
   "cell_type": "code",
   "execution_count": 5,
   "metadata": {},
   "outputs": [
    {
     "name": "stdout",
     "output_type": "stream",
     "text": [
      "{'acknowledged': True, 'shards_acknowledged': True, 'index': 'test'}\n"
     ]
    }
   ],
   "source": [
    "tutorial.create_index('test')"
   ]
  },
  {
   "cell_type": "code",
   "execution_count": 6,
   "metadata": {},
   "outputs": [
    {
     "name": "stdout",
     "output_type": "stream",
     "text": [
      "{'_index': 'test', '_type': 'nvda', '_id': '1', '_version': 1, 'result': 'created', '_shards': {'total': 2, 'successful': 1, 'failed': 0}, '_seq_no': 0, '_primary_term': 1}\n"
     ]
    }
   ],
   "source": [
    "tutorial.document_add('test', 'nvda', {\n",
    "        \"id\": \"5\",\n",
    "        \"Link\": \"https://nvda.groups.io/g/nvda/message/59\",\n",
    "        \"Title\": \"just a quick test for access\",\n",
    "        \"Author\": \"454\",\n",
    "        \"Date\": \"03-01-16\",\n",
    "        \"Post\": \"just a quick test for access contact marion_woods38 a proud member of the rose forum the only person you are destined to become is the person you decide to be ralph waldo emerson\",\n",
    "        \"Title_original\": \"Just a quick test for access\",\n",
    "        \"Title_type\": \"original\",\n",
    "        \"Tag\": \"Junk\"\n",
    "    }, 1)"
   ]
  },
  {
   "cell_type": "code",
   "execution_count": 35,
   "metadata": {},
   "outputs": [
    {
     "name": "stdout",
     "output_type": "stream",
     "text": [
      "{'_index': 'test', '_type': 'nvda', '_id': '2', '_version': 1, 'result': 'created', '_shards': {'total': 2, 'successful': 1, 'failed': 0}, '_seq_no': 0, '_primary_term': 1}\n"
     ]
    }
   ],
   "source": [
    "tutorial.document_add('test', 'nvda', {\n",
    "        \"id\": \"6\",\n",
    "        \"Link\": \"https://nvda.groups.io/g/nvda/message/51\",\n",
    "        \"Title\": \"mbrolax\",\n",
    "        \"Author\": \"476\",\n",
    "        \"Date\": \"03-01-16\",\n",
    "        \"Post\": \"mbrolax anyone tryed it\",\n",
    "        \"Title_original\": \"mbrolax\",\n",
    "        \"Title_type\": \"original\",\n",
    "        \"Tag\": \"Junk\"\n",
    "    }, 2)"
   ]
  },
  {
   "cell_type": "code",
   "execution_count": 36,
   "metadata": {},
   "outputs": [
    {
     "name": "stdout",
     "output_type": "stream",
     "text": [
      "{'_index': 'test', '_type': 'nvda', '_id': '3', '_version': 1, 'result': 'created', '_shards': {'total': 2, 'successful': 1, 'failed': 0}, '_seq_no': 0, '_primary_term': 1}\n"
     ]
    }
   ],
   "source": [
    "tutorial.document_add('test', 'nvda', {\n",
    "        \"id\": \"12\",\n",
    "        \"Link\": \"https://nvda.groups.io/g/nvda/message/1886\",\n",
    "        \"Title\": \"does anyone read groups io via the web interface\",\n",
    "        \"Author\": \"105\",\n",
    "        \"Date\": \"04-01-16\",\n",
    "        \"Post\": \"doe anyone read group io via the web interface hello all it seems that the vast majority of participant interact with these forum in good old fashioned e mail i however use the web interface and am in the process of trying to teach myself how to efficiently navigate any given group io page particularly the main message page thing are not behaving a i would expect they should might when i am using nvda some of that is almost certainly ignorance regarding nvda feature a i am much newer to nvda than i am to jaw but some of it is also the fact that i do not use a screen reader for my primary access and i think the actual page are structured in a way that i would not expect or do not understand here s one example when i try brute force tabbing to try to navigate to the link column on the upper left of the page containing the control block of link for home message post calender hangout and subscription i do not land in these directly after the dropdown that announces my name and would give me the option of editing my profile or logging out i would have expected these to be the logical nexts in page traversal but they are not or i am doing something wrong when i begin reading message i also have not yet figured out how to jump forward to the next message in the forum with ease and given that bottom quoting can be quite extensive that is something that anyone reading a forum such a this one would need to be able to do there are feature of the web interface that simply are not available in the e mail format but i can see how the web interface might not be something that would be easily adopted if it is a complicated for full time screen reader user a it is proving to be for me this conversation could be useful to others who might like to try using the group io web interface to interact with their subscribed group since i know that there are a number of folk using gmail s web interface i have to believe that this one is le complicated just because of how it appears but i could be entirely wrong brian\",\n",
    "        \"Title_original\": \"Does anyone read Groups.io via the Web Interface?\",\n",
    "        \"Title_type\": \"original\",\n",
    "        \"Tag\": \"Junk\"\n",
    "    }, 3)"
   ]
  },
  {
   "cell_type": "code",
   "execution_count": 38,
   "metadata": {},
   "outputs": [
    {
     "name": "stdout",
     "output_type": "stream",
     "text": [
      "doe anyone read group io via the web interface hello all it seems that the vast majority of participant interact with these forum in good old fashioned e mail i however use the web interface and am in the process of trying to teach myself how to efficiently navigate any given group io page particularly the main message page thing are not behaving a i would expect they should might when i am using nvda some of that is almost certainly ignorance regarding nvda feature a i am much newer to nvda than i am to jaw but some of it is also the fact that i do not use a screen reader for my primary access and i think the actual page are structured in a way that i would not expect or do not understand here s one example when i try brute force tabbing to try to navigate to the link column on the upper left of the page containing the control block of link for home message post calender hangout and subscription i do not land in these directly after the dropdown that announces my name and would give me the option of editing my profile or logging out i would have expected these to be the logical nexts in page traversal but they are not or i am doing something wrong when i begin reading message i also have not yet figured out how to jump forward to the next message in the forum with ease and given that bottom quoting can be quite extensive that is something that anyone reading a forum such a this one would need to be able to do there are feature of the web interface that simply are not available in the e mail format but i can see how the web interface might not be something that would be easily adopted if it is a complicated for full time screen reader user a it is proving to be for me this conversation could be useful to others who might like to try using the group io web interface to interact with their subscribed group since i know that there are a number of folk using gmail s web interface i have to believe that this one is le complicated just because of how it appears but i could be entirely wrong brian\n"
     ]
    }
   ],
   "source": [
    "tutorial.document_view(index_name='test', doc_type='nvda', doc_id=3)"
   ]
  },
  {
   "cell_type": "code",
   "execution_count": 12,
   "metadata": {},
   "outputs": [
    {
     "name": "stdout",
     "output_type": "stream",
     "text": [
      "just a quick test for access contact marion_woods38 a proud member of the rose forum the only person you are destined to become is the person you decide to be ralph waldo emerson\n"
     ]
    }
   ],
   "source": [
    "res = tutorial.document_view(index_name='test', doc_type='nvda', doc_id=1)"
   ]
  },
  {
   "cell_type": "code",
   "execution_count": null,
   "metadata": {},
   "outputs": [],
   "source": [
    "resp = tutorial.document_delete(index_name='novels', doc_type=\"authors\", doc_id=1)\n",
    "print(resp)"
   ]
  },
  {
   "cell_type": "code",
   "execution_count": 15,
   "metadata": {},
   "outputs": [
    {
     "name": "stderr",
     "output_type": "stream",
     "text": [
      "GET http://localhost:9200/test/_search [status:404 request:0.003s]\n"
     ]
    },
    {
     "ename": "NotFoundError",
     "evalue": "NotFoundError(404, 'index_not_found_exception', 'no such index')",
     "output_type": "error",
     "traceback": [
      "\u001b[1;31m---------------------------------------------------------------------------\u001b[0m",
      "\u001b[1;31mNotFoundError\u001b[0m                             Traceback (most recent call last)",
      "\u001b[1;32m<ipython-input-15-2595b7ea4f44>\u001b[0m in \u001b[0;36m<module>\u001b[1;34m\u001b[0m\n\u001b[0;32m      3\u001b[0m \u001b[0mes\u001b[0m \u001b[1;33m=\u001b[0m \u001b[0mElasticsearch\u001b[0m\u001b[1;33m(\u001b[0m\u001b[1;33m)\u001b[0m\u001b[1;33m\u001b[0m\u001b[0m\n\u001b[0;32m      4\u001b[0m \u001b[1;33m\u001b[0m\u001b[0m\n\u001b[1;32m----> 5\u001b[1;33m \u001b[0mres\u001b[0m \u001b[1;33m=\u001b[0m \u001b[0mes\u001b[0m\u001b[1;33m.\u001b[0m\u001b[0msearch\u001b[0m\u001b[1;33m(\u001b[0m\u001b[0mindex\u001b[0m\u001b[1;33m=\u001b[0m\u001b[1;34m\"test\"\u001b[0m\u001b[1;33m,\u001b[0m \u001b[0mbody\u001b[0m\u001b[1;33m=\u001b[0m\u001b[1;33m{\u001b[0m\u001b[1;34m\"query\"\u001b[0m\u001b[1;33m:\u001b[0m \u001b[1;33m{\u001b[0m\u001b[1;34m\"match\"\u001b[0m\u001b[1;33m:\u001b[0m \u001b[1;33m{\u001b[0m\u001b[1;34m'Post'\u001b[0m\u001b[1;33m:\u001b[0m\u001b[1;34m'just'\u001b[0m\u001b[1;33m}\u001b[0m\u001b[1;33m}\u001b[0m\u001b[1;33m}\u001b[0m\u001b[1;33m)\u001b[0m\u001b[1;33m\u001b[0m\u001b[0m\n\u001b[0m\u001b[0;32m      6\u001b[0m \u001b[1;33m\u001b[0m\u001b[0m\n\u001b[0;32m      7\u001b[0m \u001b[0mprint\u001b[0m\u001b[1;33m(\u001b[0m\u001b[1;34m\"%d documents found\"\u001b[0m \u001b[1;33m%\u001b[0m \u001b[0mres\u001b[0m\u001b[1;33m[\u001b[0m\u001b[1;34m'hits'\u001b[0m\u001b[1;33m]\u001b[0m\u001b[1;33m[\u001b[0m\u001b[1;34m'total'\u001b[0m\u001b[1;33m]\u001b[0m\u001b[1;33m)\u001b[0m\u001b[1;33m\u001b[0m\u001b[0m\n",
      "\u001b[1;32m~\\Anaconda3\\lib\\site-packages\\elasticsearch\\client\\utils.py\u001b[0m in \u001b[0;36m_wrapped\u001b[1;34m(*args, **kwargs)\u001b[0m\n\u001b[0;32m     74\u001b[0m                 \u001b[1;32mif\u001b[0m \u001b[0mp\u001b[0m \u001b[1;32min\u001b[0m \u001b[0mkwargs\u001b[0m\u001b[1;33m:\u001b[0m\u001b[1;33m\u001b[0m\u001b[0m\n\u001b[0;32m     75\u001b[0m                     \u001b[0mparams\u001b[0m\u001b[1;33m[\u001b[0m\u001b[0mp\u001b[0m\u001b[1;33m]\u001b[0m \u001b[1;33m=\u001b[0m \u001b[0mkwargs\u001b[0m\u001b[1;33m.\u001b[0m\u001b[0mpop\u001b[0m\u001b[1;33m(\u001b[0m\u001b[0mp\u001b[0m\u001b[1;33m)\u001b[0m\u001b[1;33m\u001b[0m\u001b[0m\n\u001b[1;32m---> 76\u001b[1;33m             \u001b[1;32mreturn\u001b[0m \u001b[0mfunc\u001b[0m\u001b[1;33m(\u001b[0m\u001b[1;33m*\u001b[0m\u001b[0margs\u001b[0m\u001b[1;33m,\u001b[0m \u001b[0mparams\u001b[0m\u001b[1;33m=\u001b[0m\u001b[0mparams\u001b[0m\u001b[1;33m,\u001b[0m \u001b[1;33m**\u001b[0m\u001b[0mkwargs\u001b[0m\u001b[1;33m)\u001b[0m\u001b[1;33m\u001b[0m\u001b[0m\n\u001b[0m\u001b[0;32m     77\u001b[0m         \u001b[1;32mreturn\u001b[0m \u001b[0m_wrapped\u001b[0m\u001b[1;33m\u001b[0m\u001b[0m\n\u001b[0;32m     78\u001b[0m     \u001b[1;32mreturn\u001b[0m \u001b[0m_wrapper\u001b[0m\u001b[1;33m\u001b[0m\u001b[0m\n",
      "\u001b[1;32m~\\Anaconda3\\lib\\site-packages\\elasticsearch\\client\\__init__.py\u001b[0m in \u001b[0;36msearch\u001b[1;34m(self, index, doc_type, body, params)\u001b[0m\n\u001b[0;32m    658\u001b[0m             \u001b[0mindex\u001b[0m \u001b[1;33m=\u001b[0m \u001b[1;34m'_all'\u001b[0m\u001b[1;33m\u001b[0m\u001b[0m\n\u001b[0;32m    659\u001b[0m         return self.transport.perform_request('GET', _make_path(index,\n\u001b[1;32m--> 660\u001b[1;33m             doc_type, '_search'), params=params, body=body)\n\u001b[0m\u001b[0;32m    661\u001b[0m \u001b[1;33m\u001b[0m\u001b[0m\n\u001b[0;32m    662\u001b[0m     @query_params('_source', '_source_exclude', '_source_include',\n",
      "\u001b[1;32m~\\Anaconda3\\lib\\site-packages\\elasticsearch\\transport.py\u001b[0m in \u001b[0;36mperform_request\u001b[1;34m(self, method, url, headers, params, body)\u001b[0m\n\u001b[0;32m    316\u001b[0m                 \u001b[0mdelay\u001b[0m \u001b[1;33m=\u001b[0m \u001b[1;36m2\u001b[0m\u001b[1;33m**\u001b[0m\u001b[0mattempt\u001b[0m \u001b[1;33m-\u001b[0m \u001b[1;36m1\u001b[0m\u001b[1;33m\u001b[0m\u001b[0m\n\u001b[0;32m    317\u001b[0m                 \u001b[0mtime\u001b[0m\u001b[1;33m.\u001b[0m\u001b[0msleep\u001b[0m\u001b[1;33m(\u001b[0m\u001b[0mdelay\u001b[0m\u001b[1;33m)\u001b[0m\u001b[1;33m\u001b[0m\u001b[0m\n\u001b[1;32m--> 318\u001b[1;33m                 \u001b[0mstatus\u001b[0m\u001b[1;33m,\u001b[0m \u001b[0mheaders_response\u001b[0m\u001b[1;33m,\u001b[0m \u001b[0mdata\u001b[0m \u001b[1;33m=\u001b[0m \u001b[0mconnection\u001b[0m\u001b[1;33m.\u001b[0m\u001b[0mperform_request\u001b[0m\u001b[1;33m(\u001b[0m\u001b[0mmethod\u001b[0m\u001b[1;33m,\u001b[0m \u001b[0murl\u001b[0m\u001b[1;33m,\u001b[0m \u001b[0mparams\u001b[0m\u001b[1;33m,\u001b[0m \u001b[0mbody\u001b[0m\u001b[1;33m,\u001b[0m \u001b[0mheaders\u001b[0m\u001b[1;33m=\u001b[0m\u001b[0mheaders\u001b[0m\u001b[1;33m,\u001b[0m \u001b[0mignore\u001b[0m\u001b[1;33m=\u001b[0m\u001b[0mignore\u001b[0m\u001b[1;33m,\u001b[0m \u001b[0mtimeout\u001b[0m\u001b[1;33m=\u001b[0m\u001b[0mtimeout\u001b[0m\u001b[1;33m)\u001b[0m\u001b[1;33m\u001b[0m\u001b[0m\n\u001b[0m\u001b[0;32m    319\u001b[0m \u001b[1;33m\u001b[0m\u001b[0m\n\u001b[0;32m    320\u001b[0m             \u001b[1;32mexcept\u001b[0m \u001b[0mTransportError\u001b[0m \u001b[1;32mas\u001b[0m \u001b[0me\u001b[0m\u001b[1;33m:\u001b[0m\u001b[1;33m\u001b[0m\u001b[0m\n",
      "\u001b[1;32m~\\Anaconda3\\lib\\site-packages\\elasticsearch\\connection\\http_urllib3.py\u001b[0m in \u001b[0;36mperform_request\u001b[1;34m(self, method, url, params, body, timeout, ignore, headers)\u001b[0m\n\u001b[0;32m    184\u001b[0m         \u001b[1;32mif\u001b[0m \u001b[1;32mnot\u001b[0m \u001b[1;33m(\u001b[0m\u001b[1;36m200\u001b[0m \u001b[1;33m<=\u001b[0m \u001b[0mresponse\u001b[0m\u001b[1;33m.\u001b[0m\u001b[0mstatus\u001b[0m \u001b[1;33m<\u001b[0m \u001b[1;36m300\u001b[0m\u001b[1;33m)\u001b[0m \u001b[1;32mand\u001b[0m \u001b[0mresponse\u001b[0m\u001b[1;33m.\u001b[0m\u001b[0mstatus\u001b[0m \u001b[1;32mnot\u001b[0m \u001b[1;32min\u001b[0m \u001b[0mignore\u001b[0m\u001b[1;33m:\u001b[0m\u001b[1;33m\u001b[0m\u001b[0m\n\u001b[0;32m    185\u001b[0m             \u001b[0mself\u001b[0m\u001b[1;33m.\u001b[0m\u001b[0mlog_request_fail\u001b[0m\u001b[1;33m(\u001b[0m\u001b[0mmethod\u001b[0m\u001b[1;33m,\u001b[0m \u001b[0mfull_url\u001b[0m\u001b[1;33m,\u001b[0m \u001b[0murl\u001b[0m\u001b[1;33m,\u001b[0m \u001b[0mbody\u001b[0m\u001b[1;33m,\u001b[0m \u001b[0mduration\u001b[0m\u001b[1;33m,\u001b[0m \u001b[0mresponse\u001b[0m\u001b[1;33m.\u001b[0m\u001b[0mstatus\u001b[0m\u001b[1;33m,\u001b[0m \u001b[0mraw_data\u001b[0m\u001b[1;33m)\u001b[0m\u001b[1;33m\u001b[0m\u001b[0m\n\u001b[1;32m--> 186\u001b[1;33m             \u001b[0mself\u001b[0m\u001b[1;33m.\u001b[0m\u001b[0m_raise_error\u001b[0m\u001b[1;33m(\u001b[0m\u001b[0mresponse\u001b[0m\u001b[1;33m.\u001b[0m\u001b[0mstatus\u001b[0m\u001b[1;33m,\u001b[0m \u001b[0mraw_data\u001b[0m\u001b[1;33m)\u001b[0m\u001b[1;33m\u001b[0m\u001b[0m\n\u001b[0m\u001b[0;32m    187\u001b[0m \u001b[1;33m\u001b[0m\u001b[0m\n\u001b[0;32m    188\u001b[0m         self.log_request_success(method, full_url, url, body, response.status,\n",
      "\u001b[1;32m~\\Anaconda3\\lib\\site-packages\\elasticsearch\\connection\\base.py\u001b[0m in \u001b[0;36m_raise_error\u001b[1;34m(self, status_code, raw_data)\u001b[0m\n\u001b[0;32m    123\u001b[0m             \u001b[0mlogger\u001b[0m\u001b[1;33m.\u001b[0m\u001b[0mwarning\u001b[0m\u001b[1;33m(\u001b[0m\u001b[1;34m'Undecodable raw error response from server: %s'\u001b[0m\u001b[1;33m,\u001b[0m \u001b[0merr\u001b[0m\u001b[1;33m)\u001b[0m\u001b[1;33m\u001b[0m\u001b[0m\n\u001b[0;32m    124\u001b[0m \u001b[1;33m\u001b[0m\u001b[0m\n\u001b[1;32m--> 125\u001b[1;33m         \u001b[1;32mraise\u001b[0m \u001b[0mHTTP_EXCEPTIONS\u001b[0m\u001b[1;33m.\u001b[0m\u001b[0mget\u001b[0m\u001b[1;33m(\u001b[0m\u001b[0mstatus_code\u001b[0m\u001b[1;33m,\u001b[0m \u001b[0mTransportError\u001b[0m\u001b[1;33m)\u001b[0m\u001b[1;33m(\u001b[0m\u001b[0mstatus_code\u001b[0m\u001b[1;33m,\u001b[0m \u001b[0merror_message\u001b[0m\u001b[1;33m,\u001b[0m \u001b[0madditional_info\u001b[0m\u001b[1;33m)\u001b[0m\u001b[1;33m\u001b[0m\u001b[0m\n\u001b[0m\u001b[0;32m    126\u001b[0m \u001b[1;33m\u001b[0m\u001b[0m\n\u001b[0;32m    127\u001b[0m \u001b[1;33m\u001b[0m\u001b[0m\n",
      "\u001b[1;31mNotFoundError\u001b[0m: NotFoundError(404, 'index_not_found_exception', 'no such index')"
     ]
    }
   ],
   "source": [
    "from elasticsearch import Elasticsearch\n",
    " \n",
    "es = Elasticsearch()\n",
    "\n",
    "res = es.search(index=\"test\", body={\"query\": {\"match\": {'Post':'just'}}})\n",
    "\n",
    "print(\"%d documents found\" % res['hits']['total'])\n",
    "for doc in res['hits']['hits']:\n",
    "    print(\"%s) %s\" % (doc['_id'], doc['_source']['Post']))"
   ]
  },
  {
   "cell_type": "code",
   "execution_count": null,
   "metadata": {},
   "outputs": [],
   "source": []
  }
 ],
 "metadata": {
  "kernelspec": {
   "display_name": "Python 3",
   "language": "python",
   "name": "python3"
  },
  "language_info": {
   "codemirror_mode": {
    "name": "ipython",
    "version": 3
   },
   "file_extension": ".py",
   "mimetype": "text/x-python",
   "name": "python",
   "nbconvert_exporter": "python",
   "pygments_lexer": "ipython3",
   "version": "3.6.4"
  }
 },
 "nbformat": 4,
 "nbformat_minor": 2
}
