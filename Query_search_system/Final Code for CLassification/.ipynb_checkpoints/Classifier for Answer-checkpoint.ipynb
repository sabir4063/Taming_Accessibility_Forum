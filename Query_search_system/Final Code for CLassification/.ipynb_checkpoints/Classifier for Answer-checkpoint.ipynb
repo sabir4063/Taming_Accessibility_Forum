{
 "cells": [
  {
   "cell_type": "code",
   "execution_count": null,
   "metadata": {},
   "outputs": [],
   "source": [
    "from sklearn import model_selection, preprocessing, linear_model, naive_bayes, metrics, svm\n",
    "from sklearn.feature_extraction.text import TfidfVectorizer, CountVectorizer\n",
    "from sklearn import decomposition, ensemble\n",
    "from sklearn.model_selection import train_test_split\n",
    "import pandas, xgboost, numpy, textblob, string\n",
    "from sklearn.base import BaseEstimator, TransformerMixin\n",
    "from sklearn.preprocessing import StandardScaler\n",
    "from sklearn.linear_model import SGDClassifier\n",
    "from matplotlib import pyplot\n",
    "from sklearn.preprocessing import LabelBinarizer\n",
    "import matplotlib.pyplot as plt\n",
    "from tqdm._tqdm_notebook import tqdm_notebook\n",
    "import pandas as pd\n",
    "tqdm_notebook.pandas()\n",
    "from sklearn.decomposition import TruncatedSVD\n",
    "import nltk\n",
    "import string\n",
    "import numpy as np\n",
    "import pandas as pd\n",
    "from nltk.corpus import stopwords\n",
    "from nltk.stem import SnowballStemmer\n",
    "import re\n",
    "from sklearn.manifold import TSNE\n",
    "from sklearn.ensemble import RandomForestClassifier\n",
    "import seaborn as sns\n",
    "from sklearn.preprocessing import LabelBinarizer\n",
    "import sklearn.datasets as skds\n",
    "import re\n",
    "from nltk.corpus import stopwords\n",
    "from nltk.stem.snowball import SnowballStemmer\n",
    "from nltk.stem import WordNetLemmatizer\n",
    "\n",
    "wordnet_lemmatizer = WordNetLemmatizer()\n",
    "stemmer = SnowballStemmer(\"english\")\n",
    "stopWords = set(stopwords.words('english'))"
   ]
  },
  {
   "cell_type": "code",
   "execution_count": 6,
   "metadata": {},
   "outputs": [],
   "source": [
    "df = pd.read_csv('./Data/ready_for_classification_5000.csv')"
   ]
  },
  {
   "cell_type": "code",
   "execution_count": 7,
   "metadata": {},
   "outputs": [
    {
     "data": {
      "text/html": [
       "<div>\n",
       "<style scoped>\n",
       "    .dataframe tbody tr th:only-of-type {\n",
       "        vertical-align: middle;\n",
       "    }\n",
       "\n",
       "    .dataframe tbody tr th {\n",
       "        vertical-align: top;\n",
       "    }\n",
       "\n",
       "    .dataframe thead th {\n",
       "        text-align: right;\n",
       "    }\n",
       "</style>\n",
       "<table border=\"1\" class=\"dataframe\">\n",
       "  <thead>\n",
       "    <tr style=\"text-align: right;\">\n",
       "      <th></th>\n",
       "      <th>ID</th>\n",
       "      <th>Title</th>\n",
       "      <th>Post</th>\n",
       "      <th>Type</th>\n",
       "      <th>Tag1</th>\n",
       "      <th>Help</th>\n",
       "      <th>Problem</th>\n",
       "      <th>Answer</th>\n",
       "      <th>Clarification</th>\n",
       "      <th>Elaboration</th>\n",
       "      <th>...</th>\n",
       "      <th>VBN</th>\n",
       "      <th>VBP</th>\n",
       "      <th>VBZ</th>\n",
       "      <th>JJ</th>\n",
       "      <th>JJR</th>\n",
       "      <th>JJS</th>\n",
       "      <th>RB</th>\n",
       "      <th>RBR</th>\n",
       "      <th>RBS</th>\n",
       "      <th>WRB</th>\n",
       "    </tr>\n",
       "  </thead>\n",
       "  <tbody>\n",
       "    <tr>\n",
       "      <th>0</th>\n",
       "      <td>1</td>\n",
       "      <td>2017.2</td>\n",
       "      <td>2017 2 hello see announcement 2017 2 out machi...</td>\n",
       "      <td>original</td>\n",
       "      <td>tagged</td>\n",
       "      <td>Help</td>\n",
       "      <td>undefined</td>\n",
       "      <td>undefined</td>\n",
       "      <td>undefined</td>\n",
       "      <td>undefined</td>\n",
       "      <td>...</td>\n",
       "      <td>0</td>\n",
       "      <td>1</td>\n",
       "      <td>0</td>\n",
       "      <td>2</td>\n",
       "      <td>0</td>\n",
       "      <td>0</td>\n",
       "      <td>0</td>\n",
       "      <td>0</td>\n",
       "      <td>0</td>\n",
       "      <td>0</td>\n",
       "    </tr>\n",
       "    <tr>\n",
       "      <th>1</th>\n",
       "      <td>2</td>\n",
       "      <td>2017.2</td>\n",
       "      <td>2017 2 hi dave yes update available got it ros...</td>\n",
       "      <td>following</td>\n",
       "      <td>tagged</td>\n",
       "      <td>undefined</td>\n",
       "      <td>undefined</td>\n",
       "      <td>Answer</td>\n",
       "      <td>undefined</td>\n",
       "      <td>undefined</td>\n",
       "      <td>...</td>\n",
       "      <td>0</td>\n",
       "      <td>0</td>\n",
       "      <td>0</td>\n",
       "      <td>2</td>\n",
       "      <td>0</td>\n",
       "      <td>0</td>\n",
       "      <td>0</td>\n",
       "      <td>0</td>\n",
       "      <td>0</td>\n",
       "      <td>0</td>\n",
       "    </tr>\n",
       "    <tr>\n",
       "      <th>2</th>\n",
       "      <td>3</td>\n",
       "      <td>2017.2</td>\n",
       "      <td>2017 2 change suspect release candidate canada...</td>\n",
       "      <td>following</td>\n",
       "      <td>tagged</td>\n",
       "      <td>undefined</td>\n",
       "      <td>undefined</td>\n",
       "      <td>Answer</td>\n",
       "      <td>undefined</td>\n",
       "      <td>Elaboration</td>\n",
       "      <td>...</td>\n",
       "      <td>0</td>\n",
       "      <td>0</td>\n",
       "      <td>0</td>\n",
       "      <td>1</td>\n",
       "      <td>0</td>\n",
       "      <td>0</td>\n",
       "      <td>0</td>\n",
       "      <td>0</td>\n",
       "      <td>0</td>\n",
       "      <td>0</td>\n",
       "    </tr>\n",
       "    <tr>\n",
       "      <th>3</th>\n",
       "      <td>4</td>\n",
       "      <td>2017.2</td>\n",
       "      <td>2017 2 hi also updated latest nvda version hel...</td>\n",
       "      <td>following</td>\n",
       "      <td>tagged</td>\n",
       "      <td>undefined</td>\n",
       "      <td>undefined</td>\n",
       "      <td>undefined</td>\n",
       "      <td>undefined</td>\n",
       "      <td>undefined</td>\n",
       "      <td>...</td>\n",
       "      <td>0</td>\n",
       "      <td>1</td>\n",
       "      <td>0</td>\n",
       "      <td>8</td>\n",
       "      <td>0</td>\n",
       "      <td>2</td>\n",
       "      <td>4</td>\n",
       "      <td>0</td>\n",
       "      <td>0</td>\n",
       "      <td>0</td>\n",
       "    </tr>\n",
       "    <tr>\n",
       "      <th>4</th>\n",
       "      <td>5</td>\n",
       "      <td>2017.2</td>\n",
       "      <td>2017 2 sorry folk mick jamie working later las...</td>\n",
       "      <td>following</td>\n",
       "      <td>tagged</td>\n",
       "      <td>undefined</td>\n",
       "      <td>undefined</td>\n",
       "      <td>Answer</td>\n",
       "      <td>undefined</td>\n",
       "      <td>Elaboration</td>\n",
       "      <td>...</td>\n",
       "      <td>0</td>\n",
       "      <td>0</td>\n",
       "      <td>0</td>\n",
       "      <td>7</td>\n",
       "      <td>0</td>\n",
       "      <td>0</td>\n",
       "      <td>3</td>\n",
       "      <td>0</td>\n",
       "      <td>0</td>\n",
       "      <td>0</td>\n",
       "    </tr>\n",
       "  </tbody>\n",
       "</table>\n",
       "<p>5 rows × 41 columns</p>\n",
       "</div>"
      ],
      "text/plain": [
       "   ID   Title                                               Post       Type  \\\n",
       "0   1  2017.2  2017 2 hello see announcement 2017 2 out machi...   original   \n",
       "1   2  2017.2  2017 2 hi dave yes update available got it ros...  following   \n",
       "2   3  2017.2  2017 2 change suspect release candidate canada...  following   \n",
       "3   4  2017.2  2017 2 hi also updated latest nvda version hel...  following   \n",
       "4   5  2017.2  2017 2 sorry folk mick jamie working later las...  following   \n",
       "\n",
       "     Tag1       Help    Problem     Answer Clarification  Elaboration ...   \\\n",
       "0  tagged       Help  undefined  undefined     undefined    undefined ...    \n",
       "1  tagged  undefined  undefined     Answer     undefined    undefined ...    \n",
       "2  tagged  undefined  undefined     Answer     undefined  Elaboration ...    \n",
       "3  tagged  undefined  undefined  undefined     undefined    undefined ...    \n",
       "4  tagged  undefined  undefined     Answer     undefined  Elaboration ...    \n",
       "\n",
       "  VBN VBP  VBZ  JJ JJR  JJS  RB  RBR  RBS  WRB  \n",
       "0   0   1    0   2   0    0   0    0    0    0  \n",
       "1   0   0    0   2   0    0   0    0    0    0  \n",
       "2   0   0    0   1   0    0   0    0    0    0  \n",
       "3   0   1    0   8   0    2   4    0    0    0  \n",
       "4   0   0    0   7   0    0   3    0    0    0  \n",
       "\n",
       "[5 rows x 41 columns]"
      ]
     },
     "execution_count": 7,
     "metadata": {},
     "output_type": "execute_result"
    }
   ],
   "source": [
    "df.head()"
   ]
  },
  {
   "cell_type": "code",
   "execution_count": 8,
   "metadata": {},
   "outputs": [],
   "source": [
    "CANDIDATE = \"Help\""
   ]
  },
  {
   "cell_type": "code",
   "execution_count": 9,
   "metadata": {},
   "outputs": [],
   "source": [
    "def assign_tag(row):\n",
    "    h, p, a, c, e, j = row[5], row[6], row[7], row[8], row[9], row[10]\n",
    "    if CANDIDATE == 'Help':\n",
    "        if h == 'Help' or p == 'Problem':\n",
    "            return 'Help'\n",
    "        else:\n",
    "            return 'None'"
   ]
  },
  {
   "cell_type": "code",
   "execution_count": 10,
   "metadata": {},
   "outputs": [
    {
     "data": {
      "application/vnd.jupyter.widget-view+json": {
       "model_id": "9777e83baf5144f1bf5f6f62e6f0a14d",
       "version_major": 2,
       "version_minor": 0
      },
      "text/html": [
       "<p>Failed to display Jupyter Widget of type <code>HBox</code>.</p>\n",
       "<p>\n",
       "  If you're reading this message in the Jupyter Notebook or JupyterLab Notebook, it may mean\n",
       "  that the widgets JavaScript is still loading. If this message persists, it\n",
       "  likely means that the widgets JavaScript library is either not installed or\n",
       "  not enabled. See the <a href=\"https://ipywidgets.readthedocs.io/en/stable/user_install.html\">Jupyter\n",
       "  Widgets Documentation</a> for setup instructions.\n",
       "</p>\n",
       "<p>\n",
       "  If you're reading this message in another frontend (for example, a static\n",
       "  rendering on GitHub or <a href=\"https://nbviewer.jupyter.org/\">NBViewer</a>),\n",
       "  it may mean that your frontend doesn't currently support widgets.\n",
       "</p>\n"
      ],
      "text/plain": [
       "HBox(children=(IntProgress(value=0, max=5000), HTML(value='')))"
      ]
     },
     "metadata": {},
     "output_type": "display_data"
    },
    {
     "name": "stdout",
     "output_type": "stream",
     "text": [
      "\n"
     ]
    }
   ],
   "source": [
    "df['Tag'] = df.progress_apply(assign_tag, axis=1)"
   ]
  },
  {
   "cell_type": "code",
   "execution_count": 11,
   "metadata": {},
   "outputs": [],
   "source": [
    "df['Last_Tag'] = df['Last_Tag'].fillna(\"NA\")\n",
    "df['Post'] = df['Post'].fillna(\"NA\")"
   ]
  },
  {
   "cell_type": "code",
   "execution_count": 12,
   "metadata": {},
   "outputs": [],
   "source": [
    "#df_filtered['Author'] = le.fit_transform(df_filtered.Author.values)\n",
    "from sklearn import preprocessing\n",
    "\n",
    "le = preprocessing.LabelEncoder()\n",
    "df['Tag'] = le.fit_transform(df['Tag'].values)\n",
    "df['Type'] = le.fit_transform(df['Type'].values)\n",
    "df['Last_Tag'] = le.fit_transform(df['Last_Tag'].values)"
   ]
  },
  {
   "cell_type": "code",
   "execution_count": 13,
   "metadata": {},
   "outputs": [],
   "source": [
    "features= [c for c in df.columns.values if c  not in ['Tag2', \\\n",
    "                                                      'date_feature', 'commas','stemmed', \\\n",
    "                                                       'Help','Problem','Answer','Clarification','Elaboration','Junk']]\n",
    "                                                               #'is_help','is_problem','is_announcement']]\n",
    "                                                               #'length','words','words_not_stopword','avg_word_length']]"
   ]
  },
  {
   "cell_type": "code",
   "execution_count": 14,
   "metadata": {},
   "outputs": [
    {
     "data": {
      "text/plain": [
       "['ID',\n",
       " 'Title',\n",
       " 'Post',\n",
       " 'Type',\n",
       " 'Tag1',\n",
       " 'Original_post',\n",
       " 'count_post',\n",
       " 'Position',\n",
       " 'Last_Tag',\n",
       " 'count_help',\n",
       " 'count_wh',\n",
       " 'count_other',\n",
       " 'length',\n",
       " 'words_not_stopword',\n",
       " 'NN',\n",
       " 'NNS',\n",
       " 'NNP',\n",
       " 'NNPS',\n",
       " 'PRP',\n",
       " 'PRP$',\n",
       " 'WP',\n",
       " 'WP$',\n",
       " 'VB',\n",
       " 'VBD',\n",
       " 'VBG',\n",
       " 'VBN',\n",
       " 'VBP',\n",
       " 'VBZ',\n",
       " 'JJ',\n",
       " 'JJR',\n",
       " 'JJS',\n",
       " 'RB',\n",
       " 'RBR',\n",
       " 'RBS',\n",
       " 'WRB',\n",
       " 'Tag']"
      ]
     },
     "execution_count": 14,
     "metadata": {},
     "output_type": "execute_result"
    }
   ],
   "source": [
    "features"
   ]
  },
  {
   "cell_type": "code",
   "execution_count": 15,
   "metadata": {},
   "outputs": [],
   "source": [
    "df = df[features]"
   ]
  },
  {
   "cell_type": "code",
   "execution_count": 16,
   "metadata": {},
   "outputs": [
    {
     "data": {
      "text/plain": [
       "Index(['ID', 'Title', 'Post', 'Type', 'Tag1', 'Original_post', 'count_post',\n",
       "       'Position', 'Last_Tag', 'count_help', 'count_wh', 'count_other',\n",
       "       'length', 'words_not_stopword', 'NN', 'NNS', 'NNP', 'NNPS', 'PRP',\n",
       "       'PRP$', 'WP', 'WP$', 'VB', 'VBD', 'VBG', 'VBN', 'VBP', 'VBZ', 'JJ',\n",
       "       'JJR', 'JJS', 'RB', 'RBR', 'RBS', 'WRB', 'Tag'],\n",
       "      dtype='object')"
      ]
     },
     "execution_count": 16,
     "metadata": {},
     "output_type": "execute_result"
    }
   ],
   "source": [
    "df.columns"
   ]
  },
  {
   "cell_type": "code",
   "execution_count": 17,
   "metadata": {},
   "outputs": [
    {
     "data": {
      "text/html": [
       "<div>\n",
       "<style scoped>\n",
       "    .dataframe tbody tr th:only-of-type {\n",
       "        vertical-align: middle;\n",
       "    }\n",
       "\n",
       "    .dataframe tbody tr th {\n",
       "        vertical-align: top;\n",
       "    }\n",
       "\n",
       "    .dataframe thead th {\n",
       "        text-align: right;\n",
       "    }\n",
       "</style>\n",
       "<table border=\"1\" class=\"dataframe\">\n",
       "  <thead>\n",
       "    <tr style=\"text-align: right;\">\n",
       "      <th></th>\n",
       "      <th>ID</th>\n",
       "      <th>Title</th>\n",
       "      <th>Post</th>\n",
       "      <th>Type</th>\n",
       "      <th>Tag1</th>\n",
       "      <th>Original_post</th>\n",
       "      <th>count_post</th>\n",
       "      <th>Position</th>\n",
       "      <th>Last_Tag</th>\n",
       "      <th>count_help</th>\n",
       "      <th>...</th>\n",
       "      <th>VBP</th>\n",
       "      <th>VBZ</th>\n",
       "      <th>JJ</th>\n",
       "      <th>JJR</th>\n",
       "      <th>JJS</th>\n",
       "      <th>RB</th>\n",
       "      <th>RBR</th>\n",
       "      <th>RBS</th>\n",
       "      <th>WRB</th>\n",
       "      <th>Tag</th>\n",
       "    </tr>\n",
       "  </thead>\n",
       "  <tbody>\n",
       "    <tr>\n",
       "      <th>0</th>\n",
       "      <td>1</td>\n",
       "      <td>2017.2</td>\n",
       "      <td>2017 2 hello see announcement 2017 2 out machi...</td>\n",
       "      <td>1</td>\n",
       "      <td>tagged</td>\n",
       "      <td>2017.2 \" hello,    i didn't see any announceme...</td>\n",
       "      <td>7</td>\n",
       "      <td>1</td>\n",
       "      <td>6</td>\n",
       "      <td>0</td>\n",
       "      <td>...</td>\n",
       "      <td>1</td>\n",
       "      <td>0</td>\n",
       "      <td>2</td>\n",
       "      <td>0</td>\n",
       "      <td>0</td>\n",
       "      <td>0</td>\n",
       "      <td>0</td>\n",
       "      <td>0</td>\n",
       "      <td>0</td>\n",
       "      <td>0</td>\n",
       "    </tr>\n",
       "    <tr>\n",
       "      <th>1</th>\n",
       "      <td>2</td>\n",
       "      <td>2017.2</td>\n",
       "      <td>2017 2 hi dave yes update available got it ros...</td>\n",
       "      <td>0</td>\n",
       "      <td>tagged</td>\n",
       "      <td>2017.2 \" hi, dave,    yes, the update is avail...</td>\n",
       "      <td>7</td>\n",
       "      <td>2</td>\n",
       "      <td>3</td>\n",
       "      <td>0</td>\n",
       "      <td>...</td>\n",
       "      <td>0</td>\n",
       "      <td>0</td>\n",
       "      <td>2</td>\n",
       "      <td>0</td>\n",
       "      <td>0</td>\n",
       "      <td>0</td>\n",
       "      <td>0</td>\n",
       "      <td>0</td>\n",
       "      <td>0</td>\n",
       "      <td>1</td>\n",
       "    </tr>\n",
       "    <tr>\n",
       "      <th>2</th>\n",
       "      <td>3</td>\n",
       "      <td>2017.2</td>\n",
       "      <td>2017 2 change suspect release candidate canada...</td>\n",
       "      <td>0</td>\n",
       "      <td>tagged</td>\n",
       "      <td>2017.2 it is out no change i suspect from the ...</td>\n",
       "      <td>7</td>\n",
       "      <td>4</td>\n",
       "      <td>0</td>\n",
       "      <td>0</td>\n",
       "      <td>...</td>\n",
       "      <td>0</td>\n",
       "      <td>0</td>\n",
       "      <td>1</td>\n",
       "      <td>0</td>\n",
       "      <td>0</td>\n",
       "      <td>0</td>\n",
       "      <td>0</td>\n",
       "      <td>0</td>\n",
       "      <td>0</td>\n",
       "      <td>1</td>\n",
       "    </tr>\n",
       "    <tr>\n",
       "      <th>3</th>\n",
       "      <td>4</td>\n",
       "      <td>2017.2</td>\n",
       "      <td>2017 2 hi also updated latest nvda version hel...</td>\n",
       "      <td>0</td>\n",
       "      <td>tagged</td>\n",
       "      <td>2017.2 \" hi!    i also updated to the latest n...</td>\n",
       "      <td>7</td>\n",
       "      <td>5</td>\n",
       "      <td>0</td>\n",
       "      <td>1</td>\n",
       "      <td>...</td>\n",
       "      <td>1</td>\n",
       "      <td>0</td>\n",
       "      <td>8</td>\n",
       "      <td>0</td>\n",
       "      <td>2</td>\n",
       "      <td>4</td>\n",
       "      <td>0</td>\n",
       "      <td>0</td>\n",
       "      <td>0</td>\n",
       "      <td>1</td>\n",
       "    </tr>\n",
       "    <tr>\n",
       "      <th>4</th>\n",
       "      <td>5</td>\n",
       "      <td>2017.2</td>\n",
       "      <td>2017 2 sorry folk mick jamie working later las...</td>\n",
       "      <td>0</td>\n",
       "      <td>tagged</td>\n",
       "      <td>2017.2 \"  sorry folks, mick and jamie were wor...</td>\n",
       "      <td>7</td>\n",
       "      <td>7</td>\n",
       "      <td>4</td>\n",
       "      <td>0</td>\n",
       "      <td>...</td>\n",
       "      <td>0</td>\n",
       "      <td>0</td>\n",
       "      <td>7</td>\n",
       "      <td>0</td>\n",
       "      <td>0</td>\n",
       "      <td>3</td>\n",
       "      <td>0</td>\n",
       "      <td>0</td>\n",
       "      <td>0</td>\n",
       "      <td>1</td>\n",
       "    </tr>\n",
       "  </tbody>\n",
       "</table>\n",
       "<p>5 rows × 36 columns</p>\n",
       "</div>"
      ],
      "text/plain": [
       "   ID   Title                                               Post  Type  \\\n",
       "0   1  2017.2  2017 2 hello see announcement 2017 2 out machi...     1   \n",
       "1   2  2017.2  2017 2 hi dave yes update available got it ros...     0   \n",
       "2   3  2017.2  2017 2 change suspect release candidate canada...     0   \n",
       "3   4  2017.2  2017 2 hi also updated latest nvda version hel...     0   \n",
       "4   5  2017.2  2017 2 sorry folk mick jamie working later las...     0   \n",
       "\n",
       "     Tag1                                      Original_post  count_post  \\\n",
       "0  tagged  2017.2 \" hello,    i didn't see any announceme...           7   \n",
       "1  tagged  2017.2 \" hi, dave,    yes, the update is avail...           7   \n",
       "2  tagged  2017.2 it is out no change i suspect from the ...           7   \n",
       "3  tagged  2017.2 \" hi!    i also updated to the latest n...           7   \n",
       "4  tagged  2017.2 \"  sorry folks, mick and jamie were wor...           7   \n",
       "\n",
       "   Position  Last_Tag  count_help ...   VBP  VBZ  JJ  JJR  JJS  RB  RBR  RBS  \\\n",
       "0         1         6           0 ...     1    0   2    0    0   0    0    0   \n",
       "1         2         3           0 ...     0    0   2    0    0   0    0    0   \n",
       "2         4         0           0 ...     0    0   1    0    0   0    0    0   \n",
       "3         5         0           1 ...     1    0   8    0    2   4    0    0   \n",
       "4         7         4           0 ...     0    0   7    0    0   3    0    0   \n",
       "\n",
       "   WRB  Tag  \n",
       "0    0    0  \n",
       "1    0    1  \n",
       "2    0    1  \n",
       "3    0    1  \n",
       "4    0    1  \n",
       "\n",
       "[5 rows x 36 columns]"
      ]
     },
     "execution_count": 17,
     "metadata": {},
     "output_type": "execute_result"
    }
   ],
   "source": [
    "df.head()"
   ]
  },
  {
   "cell_type": "code",
   "execution_count": 18,
   "metadata": {},
   "outputs": [],
   "source": [
    "from sklearn.base import BaseEstimator, TransformerMixin\n",
    "\n",
    "class TextSelector(BaseEstimator, TransformerMixin):\n",
    "    \"\"\"\n",
    "    Transformer to select a single column from the data frame to perform additional transformations on\n",
    "    Use on text columns in the data\n",
    "    \"\"\"\n",
    "    def __init__(self, key):\n",
    "        self.key = key\n",
    "\n",
    "    def fit(self, X, y=None):\n",
    "        return self\n",
    "\n",
    "    def transform(self, X):\n",
    "        return X[self.key]"
   ]
  },
  {
   "cell_type": "code",
   "execution_count": 19,
   "metadata": {},
   "outputs": [],
   "source": [
    "class NumberSelector(BaseEstimator, TransformerMixin):\n",
    "    \"\"\"\n",
    "    Transformer to select a single column from the data frame to perform additional transformations on\n",
    "    Use on numeric columns in the data\n",
    "    \"\"\"\n",
    "    def __init__(self, key):\n",
    "        self.key = key\n",
    "\n",
    "    def fit(self, X, y=None):\n",
    "        return self\n",
    "\n",
    "    def transform(self, X):\n",
    "        return X[[self.key]]"
   ]
  },
  {
   "cell_type": "code",
   "execution_count": 20,
   "metadata": {},
   "outputs": [],
   "source": [
    "class ListSelector(BaseEstimator, TransformerMixin):\n",
    "    \"\"\"\n",
    "    Transformer to select a single column from the data frame to perform additional transformations on\n",
    "    Use on numeric columns in the data\n",
    "    \"\"\"\n",
    "    def __init__(self, key):\n",
    "        self.key = key\n",
    "\n",
    "    def fit(self, X, y=None):\n",
    "        return self\n",
    "\n",
    "    def transform(self, X):\n",
    "        return X[self.key].values"
   ]
  },
  {
   "cell_type": "code",
   "execution_count": 21,
   "metadata": {},
   "outputs": [],
   "source": [
    "class BinarySelector(BaseEstimator, TransformerMixin):\n",
    "    \"\"\"\n",
    "    Transformer to select a single column from the data frame to perform additional transformations on\n",
    "    Use on numeric columns in the data\n",
    "    \"\"\"\n",
    "    def __init__(self, key):\n",
    "        self.key = key\n",
    "\n",
    "    def fit(self, X, y=None):\n",
    "        return self\n",
    "\n",
    "    def transform(self, X):\n",
    "        return X[[self.key]]"
   ]
  },
  {
   "cell_type": "code",
   "execution_count": 22,
   "metadata": {},
   "outputs": [],
   "source": [
    "class DateSelector(BaseEstimator, TransformerMixin):\n",
    "    \"\"\"\n",
    "    Transformer to select a single column from the data frame to perform additional transformations on\n",
    "    Use on numeric columns in the data\n",
    "    \"\"\"\n",
    "    def __init__(self, key):\n",
    "        self.key = key\n",
    "\n",
    "    def fit(self, X, y=None):\n",
    "        return self\n",
    "\n",
    "    def transform(self, X):\n",
    "        return X[[self.key]]"
   ]
  },
  {
   "cell_type": "code",
   "execution_count": 23,
   "metadata": {},
   "outputs": [
    {
     "data": {
      "text/plain": [
       "<5000x13799 sparse matrix of type '<class 'numpy.int64'>'\n",
       "\twith 224566 stored elements in Compressed Sparse Row format>"
      ]
     },
     "execution_count": 23,
     "metadata": {},
     "output_type": "execute_result"
    }
   ],
   "source": [
    "from sklearn.pipeline import Pipeline\n",
    "from sklearn.feature_extraction.text import TfidfVectorizer, CountVectorizer\n",
    "\n",
    "Post = Pipeline([\n",
    "                ('selector', TextSelector(key='Post')),\n",
    "                ('cnt', CountVectorizer()), #stop_words='english' \n",
    "                #('tf_idf', TfidfVectorizer(smooth_idf=False, sublinear_tf=False, norm=None, analyzer='word')),\n",
    "            ])\n",
    "\n",
    "Post.fit_transform(df)"
   ]
  },
  {
   "cell_type": "code",
   "execution_count": 24,
   "metadata": {},
   "outputs": [],
   "source": [
    "# from sklearn.pipeline import Pipeline\n",
    "# from sklearn.feature_extraction.text import TfidfVectorizer, CountVectorizer\n",
    "\n",
    "# Post_tf_idf = Pipeline([\n",
    "#                 ('selector', TextSelector(key='Post')),\n",
    "#                 #('cnt', CountVectorizer()), #stop_words='english' \n",
    "#                 ('tf_idf', TfidfVectorizer(smooth_idf=False, sublinear_tf=False, norm=None, analyzer='word')),\n",
    "#             ])\n",
    "\n",
    "# Post_tf_idf.fit_transform(X_data)"
   ]
  },
  {
   "cell_type": "code",
   "execution_count": 25,
   "metadata": {},
   "outputs": [
    {
     "name": "stdout",
     "output_type": "stream",
     "text": [
      "Done\n"
     ]
    }
   ],
   "source": [
    "count_other =  Pipeline([\n",
    "                ('selector', NumberSelector(key='count_other')),\n",
    "            ])\n",
    "count_help =  Pipeline([\n",
    "                ('selector', NumberSelector(key='count_help')),\n",
    "            ])\n",
    "count_wh =  Pipeline([\n",
    "                ('selector', NumberSelector(key='count_wh')),\n",
    "            ])\n",
    "\n",
    "count_other.fit_transform(df)\n",
    "count_help.fit_transform(df)\n",
    "count_wh.fit_transform(df)\n",
    "print('Done')"
   ]
  },
  {
   "cell_type": "code",
   "execution_count": 26,
   "metadata": {},
   "outputs": [
    {
     "name": "stdout",
     "output_type": "stream",
     "text": [
      "Done\n"
     ]
    }
   ],
   "source": [
    "from sklearn.preprocessing import StandardScaler\n",
    "\n",
    "position =  Pipeline([\n",
    "                ('selector', NumberSelector(key='Position')),\n",
    "                ('standard', StandardScaler())\n",
    "            ])\n",
    "\n",
    "last_tag =  Pipeline([\n",
    "                ('selector', NumberSelector(key='Last_Tag')),\n",
    "            ])\n",
    "\n",
    "typee =  Pipeline([\n",
    "                ('selector', NumberSelector(key='Type')),\n",
    "            ])\n",
    "\n",
    "position.fit_transform(df)\n",
    "last_tag.fit_transform(df)\n",
    "typee.fit_transform(df)\n",
    "print('Done')"
   ]
  },
  {
   "cell_type": "code",
   "execution_count": 27,
   "metadata": {},
   "outputs": [
    {
     "name": "stdout",
     "output_type": "stream",
     "text": [
      "Done\n"
     ]
    }
   ],
   "source": [
    "length =  Pipeline([\n",
    "                ('selector', NumberSelector(key='length')),\n",
    "                ('standard', StandardScaler())\n",
    "            ])\n",
    "length.fit_transform(df)\n",
    "print('Done')"
   ]
  },
  {
   "cell_type": "code",
   "execution_count": 28,
   "metadata": {},
   "outputs": [
    {
     "name": "stdout",
     "output_type": "stream",
     "text": [
      "Done\n"
     ]
    }
   ],
   "source": [
    "RB_count =  Pipeline([\n",
    "                ('selector', NumberSelector(key='RB')),\n",
    "                ('standard', StandardScaler())\n",
    "            ])\n",
    "\n",
    "RBR_count =  Pipeline([\n",
    "                ('selector', NumberSelector(key='RBR')),\n",
    "                ('standard', StandardScaler())\n",
    "            ])\n",
    "\n",
    "RBS_count =  Pipeline([\n",
    "                ('selector', NumberSelector(key='RBS')),\n",
    "                ('standard', StandardScaler())\n",
    "            ])\n",
    "\n",
    "WRB_count =  Pipeline([\n",
    "                ('selector', NumberSelector(key='WRB')),\n",
    "                ('standard', StandardScaler())\n",
    "            ])\n",
    "\n",
    "RB_count.fit_transform(df)\n",
    "RBR_count.fit_transform(df)\n",
    "RBS_count.fit_transform(df)\n",
    "WRB_count.fit_transform(df)\n",
    "print('Done')"
   ]
  },
  {
   "cell_type": "code",
   "execution_count": 29,
   "metadata": {},
   "outputs": [
    {
     "name": "stdout",
     "output_type": "stream",
     "text": [
      "Done\n"
     ]
    }
   ],
   "source": [
    "JJ_count =  Pipeline([\n",
    "                ('selector', NumberSelector(key='JJ')),\n",
    "                ('standard', StandardScaler())\n",
    "            ])\n",
    "\n",
    "JJR_count =  Pipeline([\n",
    "                ('selector', NumberSelector(key='JJR')),\n",
    "                ('standard', StandardScaler())\n",
    "            ])\n",
    "\n",
    "JJS_count =  Pipeline([\n",
    "                ('selector', NumberSelector(key='JJS')),\n",
    "                ('standard', StandardScaler())\n",
    "            ])\n",
    "\n",
    "JJ_count.fit_transform(df)\n",
    "JJR_count.fit_transform(df)\n",
    "JJS_count.fit_transform(df)\n",
    "print('Done')"
   ]
  },
  {
   "cell_type": "code",
   "execution_count": 30,
   "metadata": {},
   "outputs": [
    {
     "name": "stdout",
     "output_type": "stream",
     "text": [
      "Done\n"
     ]
    }
   ],
   "source": [
    "VB_count =  Pipeline([\n",
    "                ('selector', NumberSelector(key='VB')),\n",
    "                ('standard', StandardScaler())\n",
    "            ])\n",
    "\n",
    "VBD_count =  Pipeline([\n",
    "                ('selector', NumberSelector(key='VBD')),\n",
    "                ('standard', StandardScaler())\n",
    "            ])\n",
    "\n",
    "VBG_count =  Pipeline([\n",
    "                ('selector', NumberSelector(key='VBG')),\n",
    "                ('standard', StandardScaler())\n",
    "            ])\n",
    "\n",
    "VBN_count =  Pipeline([\n",
    "                ('selector', NumberSelector(key='VBN')),\n",
    "                ('standard', StandardScaler())\n",
    "            ])\n",
    "\n",
    "VBP_count =  Pipeline([\n",
    "                ('selector', NumberSelector(key='VBP')),\n",
    "                ('standard', StandardScaler())\n",
    "            ])\n",
    "\n",
    "VBZ_count =  Pipeline([\n",
    "                ('selector', NumberSelector(key='VBZ')),\n",
    "                ('standard', StandardScaler())\n",
    "            ])\n",
    "\n",
    "VB_count.fit_transform(df)\n",
    "VBD_count.fit_transform(df)\n",
    "VBG_count.fit_transform(df)\n",
    "VBN_count.fit_transform(df)\n",
    "VBP_count.fit_transform(df)\n",
    "VBZ_count.fit_transform(df)\n",
    "print('Done')"
   ]
  },
  {
   "cell_type": "code",
   "execution_count": 31,
   "metadata": {},
   "outputs": [
    {
     "name": "stdout",
     "output_type": "stream",
     "text": [
      "Done\n"
     ]
    }
   ],
   "source": [
    "NN_count =  Pipeline([\n",
    "                ('selector', NumberSelector(key='NN')),\n",
    "                ('standard', StandardScaler())\n",
    "            ])\n",
    "\n",
    "NNS_count =  Pipeline([\n",
    "                ('selector', NumberSelector(key='NNS')),\n",
    "                ('standard', StandardScaler())\n",
    "            ])\n",
    "\n",
    "NNP_count =  Pipeline([\n",
    "                ('selector', NumberSelector(key='NNP')),\n",
    "                ('standard', StandardScaler())\n",
    "            ])\n",
    "\n",
    "NNPS_count =  Pipeline([\n",
    "                ('selector', NumberSelector(key='NNPS')),\n",
    "                ('standard', StandardScaler())\n",
    "            ])\n",
    "\n",
    "NN_count.fit_transform(df)\n",
    "NNS_count.fit_transform(df)\n",
    "NNP_count.fit_transform(df)\n",
    "NNPS_count.fit_transform(df)\n",
    "print('Done')"
   ]
  },
  {
   "cell_type": "code",
   "execution_count": 32,
   "metadata": {},
   "outputs": [
    {
     "name": "stdout",
     "output_type": "stream",
     "text": [
      "Done\n"
     ]
    }
   ],
   "source": [
    "PRP_count =  Pipeline([\n",
    "                ('selector', NumberSelector(key='PRP')),\n",
    "                ('standard', StandardScaler())\n",
    "            ])\n",
    "\n",
    "PRP__count =  Pipeline([\n",
    "                ('selector', NumberSelector(key='PRP$')),\n",
    "                ('standard', StandardScaler())\n",
    "            ])\n",
    "\n",
    "WP_count =  Pipeline([\n",
    "                ('selector', NumberSelector(key='WP')),\n",
    "                ('standard', StandardScaler())\n",
    "            ])\n",
    "\n",
    "WP__count =  Pipeline([\n",
    "                ('selector', NumberSelector(key='WP$')),\n",
    "                ('standard', StandardScaler())\n",
    "            ])\n",
    "\n",
    "PRP_count.fit_transform(df)\n",
    "PRP__count.fit_transform(df)\n",
    "WP_count.fit_transform(df)\n",
    "WP__count.fit_transform(df)\n",
    "print('Done')"
   ]
  },
  {
   "cell_type": "code",
   "execution_count": 33,
   "metadata": {},
   "outputs": [
    {
     "data": {
      "text/plain": [
       "<5000x13827 sparse matrix of type '<class 'numpy.float64'>'\n",
       "\twith 342926 stored elements in Compressed Sparse Row format>"
      ]
     },
     "execution_count": 33,
     "metadata": {},
     "output_type": "execute_result"
    }
   ],
   "source": [
    "from sklearn.pipeline import FeatureUnion\n",
    "\n",
    "feats = FeatureUnion([('Post', Post), \n",
    "#                      ('Post_tf_idf', Post),\n",
    "                      ('length', length),\n",
    "                      ('count_help', count_help),\n",
    "                      ('count_other', count_other),\n",
    "                      ('count_wh', count_wh),\n",
    "#                       ('upper_case_word_count', upper_case_word_count),\n",
    "#                       ('words', words),\n",
    "#                       ('words_not_stopword', words_not_stopword),\n",
    "#                       ('avg_word_length', avg_word_length),\n",
    "#                       ('char_count', char_count),\n",
    "#                       ('word_count', word_count),\n",
    "#                       ('word_density', word_density), \n",
    "                      ('NN_count', NN_count),\n",
    "                      ('NNS_count', NNS_count),\n",
    "                      ('NNP_count', NNP_count),\n",
    "                      ('NNPS_count', NNPS_count),\n",
    "                      ('PRP_count', PRP_count),\n",
    "                      ('PRP$_count', PRP__count),\n",
    "                      ('WP_count', WP_count),\n",
    "                      ('WP$_count', WP__count),\n",
    "                      ('VB_count', VB_count),\n",
    "                      ('VBD_count', VBD_count),\n",
    "                      ('VBG_count', VBG_count),\n",
    "                      ('VBN_count', VBN_count),\n",
    "                      ('VBP_count', VBP_count),\n",
    "                      ('VBZ_count', VBZ_count),\n",
    "                      ('JJ_count', JJ_count),\n",
    "                      ('JJR_count', JJR_count),\n",
    "                      ('JJS_count', JJS_count),\n",
    "                      ('RB_count', RB_count),\n",
    "                      ('RBR_count', RBR_count),\n",
    "                      ('RBS_count', RBS_count),\n",
    "                      ('WRB_count', WRB_count),\n",
    "                      ('position', RBS_count),\n",
    "                      ('last_tag', WRB_count),\n",
    "                      ('Type', typee),\n",
    "                     ],\n",
    "                    # weight components in FeatureUnion\n",
    "            transformer_weights={\n",
    "            'Post': 0.8})\n",
    "                      \n",
    "feature_processing = Pipeline([('feats', feats)])\n",
    "feature_processing.fit_transform(df)"
   ]
  },
  {
   "cell_type": "code",
   "execution_count": 34,
   "metadata": {},
   "outputs": [],
   "source": [
    "def train_test_eq_split(X, y, n_per_class, random_state=None):\n",
    "    if random_state:\n",
    "        np.random.seed(random_state)\n",
    "    sampled = X.groupby(y, sort=False).apply(\n",
    "        lambda frame: frame.sample(n_per_class))\n",
    "    mask = sampled.index.get_level_values(1)\n",
    "\n",
    "    X_train = X.drop(mask)\n",
    "    X_test = X.loc[mask]\n",
    "    y_train = y.drop(mask)\n",
    "    y_test = y.loc[mask]\n",
    "\n",
    "    return X_train, X_test, y_train, y_test"
   ]
  },
  {
   "cell_type": "code",
   "execution_count": 35,
   "metadata": {},
   "outputs": [
    {
     "data": {
      "text/plain": [
       "Index(['ID', 'Title', 'Post', 'Type', 'Tag1', 'Original_post', 'count_post',\n",
       "       'Position', 'Last_Tag', 'count_help', 'count_wh', 'count_other',\n",
       "       'length', 'words_not_stopword', 'NN', 'NNS', 'NNP', 'NNPS', 'PRP',\n",
       "       'PRP$', 'WP', 'WP$', 'VB', 'VBD', 'VBG', 'VBN', 'VBP', 'VBZ', 'JJ',\n",
       "       'JJR', 'JJS', 'RB', 'RBR', 'RBS', 'WRB', 'Tag'],\n",
       "      dtype='object')"
      ]
     },
     "execution_count": 35,
     "metadata": {},
     "output_type": "execute_result"
    }
   ],
   "source": [
    "df.columns"
   ]
  },
  {
   "cell_type": "code",
   "execution_count": 36,
   "metadata": {},
   "outputs": [
    {
     "name": "stdout",
     "output_type": "stream",
     "text": [
      "5000\n",
      "4129\n",
      "871\n"
     ]
    }
   ],
   "source": [
    "print(len(df))\n",
    "df_tagged_data = df[df.Tag1 == 'tagged' ]\n",
    "print(len(df_tagged_data))\n",
    "df_final_data = df[df.Tag1 != 'tagged' ]\n",
    "print(len(df_final_data))"
   ]
  },
  {
   "cell_type": "code",
   "execution_count": 37,
   "metadata": {},
   "outputs": [
    {
     "data": {
      "image/png": "[encoded data removed]",
      "text/plain": [
       "<Figure size 432x288 with 1 Axes>"
      ]
     },
     "metadata": {},
     "output_type": "display_data"
    },
    {
     "data": {
      "text/plain": [
       "<Figure size 1440x720 with 0 Axes>"
      ]
     },
     "metadata": {},
     "output_type": "display_data"
    }
   ],
   "source": [
    "df_tagged_data.groupby('Tag')['Post'].count().plot.bar(ylim=0)\n",
    "plt.figure(figsize=(20,10))\n",
    "plt.show()"
   ]
  },
  {
   "cell_type": "code",
   "execution_count": 38,
   "metadata": {},
   "outputs": [
    {
     "name": "stdout",
     "output_type": "stream",
     "text": [
      "394\n"
     ]
    }
   ],
   "source": [
    "l = len(df_tagged_data.loc[df_tagged_data['Tag']==0])\n",
    "print(l)"
   ]
  },
  {
   "cell_type": "code",
   "execution_count": 39,
   "metadata": {},
   "outputs": [
    {
     "data": {
      "image/png": "[encoded data removed]",
      "text/plain": [
       "<Figure size 432x288 with 1 Axes>"
      ]
     },
     "metadata": {},
     "output_type": "display_data"
    },
    {
     "data": {
      "text/plain": [
       "<Figure size 1440x720 with 0 Axes>"
      ]
     },
     "metadata": {},
     "output_type": "display_data"
    }
   ],
   "source": [
    "df_temp = df_tagged_data.groupby('Tag').head(l)\n",
    "df_tagged_data = df_temp\n",
    "\n",
    "df_tagged_data.groupby('Tag')['Post'].count().plot.bar(ylim=0)\n",
    "plt.figure(figsize=(20,10))\n",
    "plt.show()"
   ]
  },
  {
   "cell_type": "code",
   "execution_count": 40,
   "metadata": {},
   "outputs": [],
   "source": [
    "X_data = df_tagged_data.drop(['Tag', 'Tag1'], axis = 1)\n",
    "y_data = df_tagged_data['Tag']"
   ]
  },
  {
   "cell_type": "code",
   "execution_count": 41,
   "metadata": {},
   "outputs": [],
   "source": [
    "N_PER_CLASS = 60\n",
    "X_train, X_test, y_train, y_test = train_test_eq_split(X_data, y_data, n_per_class=N_PER_CLASS, random_state=42)"
   ]
  },
  {
   "cell_type": "code",
   "execution_count": 42,
   "metadata": {},
   "outputs": [],
   "source": [
    "from sklearn.metrics import accuracy_score, f1_score, precision_score, recall_score, classification_report, confusion_matrix\n",
    "from sklearn.metrics import roc_curve\n",
    "from sklearn.metrics import roc_auc_score\n",
    "\n",
    "def print_scores(y_test, preds):\n",
    "    print(\"F1:\", f1_score(y_test, preds, average=\"macro\"))\n",
    "    print(\"Precision:\", precision_score(y_test, preds, average=\"macro\"))\n",
    "    print(\"Recall:\", recall_score(y_test, preds, average=\"macro\"))   \n",
    "    #print(\"AUC\", roc_auc_score(y_test, preds))"
   ]
  },
  {
   "cell_type": "code",
   "execution_count": 43,
   "metadata": {},
   "outputs": [
    {
     "name": "stdout",
     "output_type": "stream",
     "text": [
      "F1: 0.9080203470141452\n",
      "Precision: 0.9139678963672204\n",
      "Recall: 0.9083333333333333\n"
     ]
    }
   ],
   "source": [
    "from sklearn.ensemble import RandomForestClassifier\n",
    "\n",
    "pipeline = Pipeline([\n",
    "    ('features',feats),\n",
    "    ('classifier', RandomForestClassifier(random_state = 42)),\n",
    "])\n",
    "\n",
    "pipeline.fit(X_train, y_train)\n",
    "preds = pipeline.predict(X_test)\n",
    "score = np.mean(preds == y_test)\n",
    "\n",
    "print_scores(y_test, preds)"
   ]
  },
  {
   "cell_type": "code",
   "execution_count": 44,
   "metadata": {},
   "outputs": [
    {
     "name": "stdout",
     "output_type": "stream",
     "text": [
      "F1: 0.9583072753804461\n",
      "Precision: 0.9594820384294068\n",
      "Recall: 0.9583333333333333\n"
     ]
    }
   ],
   "source": [
    "from sklearn.linear_model import LogisticRegression\n",
    "\n",
    "pipeline = Pipeline([\n",
    "    ('features',feats),\n",
    "    ('classifier', LogisticRegression(random_state = 42)),\n",
    "])\n",
    "\n",
    "pipeline.fit(X_train, y_train)\n",
    "preds = pipeline.predict(X_test)\n",
    "score = np.mean(preds == y_test)\n",
    "\n",
    "print_scores(y_test, preds)"
   ]
  },
  {
   "cell_type": "code",
   "execution_count": 45,
   "metadata": {},
   "outputs": [],
   "source": [
    "# # save model to file\n",
    "import pickle \n",
    "\n",
    "pickle.dump(pipeline, open(\"../Final Version Code/logistirregression.help.pickle.dat\", \"wb\"))"
   ]
  },
  {
   "cell_type": "code",
   "execution_count": 46,
   "metadata": {},
   "outputs": [
    {
     "name": "stdout",
     "output_type": "stream",
     "text": [
      "F1: 0.3693367162015223\n",
      "Precision: 0.7542372881355932\n",
      "Recall: 0.5166666666666667\n"
     ]
    }
   ],
   "source": [
    "from sklearn import svm\n",
    "\n",
    "pipeline = Pipeline([\n",
    "    ('features',feats),\n",
    "    ('classifier',svm.SVC(random_state = 42)),\n",
    "])\n",
    "\n",
    "pipeline.fit(X_train, y_train)\n",
    "preds = pipeline.predict(X_test)\n",
    "score = np.mean(preds == y_test)\n",
    "\n",
    "print_scores(y_test, preds)"
   ]
  },
  {
   "cell_type": "code",
   "execution_count": 47,
   "metadata": {},
   "outputs": [
    {
     "name": "stdout",
     "output_type": "stream",
     "text": [
      "F1: 0.9415652173913043\n",
      "Precision: 0.9447552447552447\n",
      "Recall: 0.9416666666666667\n"
     ]
    }
   ],
   "source": [
    "from sklearn import svm\n",
    "\n",
    "pipeline = Pipeline([\n",
    "    ('features',feats),\n",
    "    ('classifier',svm.LinearSVC(random_state = 42)),\n",
    "])\n",
    "\n",
    "pipeline.fit(X_train, y_train)\n",
    "preds = pipeline.predict(X_test)\n",
    "score = np.mean(preds == y_test)\n",
    "\n",
    "print_scores(y_test, preds)"
   ]
  },
  {
   "cell_type": "code",
   "execution_count": 48,
   "metadata": {},
   "outputs": [
    {
     "name": "stderr",
     "output_type": "stream",
     "text": [
      "C:\\Users\\Sabir Ismail\\Anaconda3\\lib\\site-packages\\sklearn\\preprocessing\\label.py:151: DeprecationWarning: The truth value of an empty array is ambiguous. Returning False, but in future this will result in an error. Use `array.size > 0` to check that an array is not empty.\n",
      "  if diff:\n"
     ]
    },
    {
     "name": "stdout",
     "output_type": "stream",
     "text": [
      "F1: 0.9583072753804461\n",
      "Precision: 0.9594820384294068\n",
      "Recall: 0.9583333333333333\n"
     ]
    }
   ],
   "source": [
    "import xgboost\n",
    "\n",
    "pipeline = Pipeline([\n",
    "    ('features',feats),\n",
    "    ('classifier', xgboost.XGBClassifier(\n",
    "                                         subsample=0.8,\n",
    "                                         scale_pos_weight=1,\n",
    "                                         nthread=15,   \n",
    "                                         n_estimators=100,\n",
    "                                         min_child_weight=1,\n",
    "                                         max_depth=20,                                 \n",
    "                                         learning_rate =0.2,\n",
    "                                         gamma=.5,\n",
    "                                         colsample_bytree=0.5,\n",
    "                                         objective= 'binary:logistic',\n",
    "                                         seed=27,\n",
    "                                         eval_metric = 'error',\n",
    "                                         ))])\n",
    "\n",
    "pipeline.fit(X_train, y_train)\n",
    "\n",
    "preds = pipeline.predict(X_test)\n",
    "score = np.mean(preds == y_test)\n",
    "\n",
    "print_scores(y_test, preds)"
   ]
  },
  {
   "cell_type": "code",
   "execution_count": 49,
   "metadata": {},
   "outputs": [
    {
     "data": {
      "text/plain": [
       "array([0, 1], dtype=int64)"
      ]
     },
     "execution_count": 49,
     "metadata": {},
     "output_type": "execute_result"
    }
   ],
   "source": [
    "from sklearn.metrics import confusion_matrix\n",
    "target = 'Tag'\n",
    "category_id_df = df_tagged_data[[target]].drop_duplicates().sort_values(target)\n",
    "category_id_df[target].values"
   ]
  },
  {
   "cell_type": "code",
   "execution_count": 50,
   "metadata": {},
   "outputs": [
    {
     "name": "stderr",
     "output_type": "stream",
     "text": [
      "C:\\Users\\Sabir Ismail\\Anaconda3\\lib\\site-packages\\sklearn\\preprocessing\\label.py:151: DeprecationWarning: The truth value of an empty array is ambiguous. Returning False, but in future this will result in an error. Use `array.size > 0` to check that an array is not empty.\n",
      "  if diff:\n",
      "C:\\Users\\Sabir Ismail\\Anaconda3\\lib\\site-packages\\sklearn\\preprocessing\\label.py:151: DeprecationWarning: The truth value of an empty array is ambiguous. Returning False, but in future this will result in an error. Use `array.size > 0` to check that an array is not empty.\n",
      "  if diff:\n"
     ]
    },
    {
     "data": {
      "text/plain": [
       "Text(0.5,1,'Accuracy Score: 0.9583333333333334')"
      ]
     },
     "execution_count": 50,
     "metadata": {},
     "output_type": "execute_result"
    },
    {
     "data": {
      "image/png": "[encoded data removed]",
      "text/plain": [
       "<Figure size 648x648 with 2 Axes>"
      ]
     },
     "metadata": {},
     "output_type": "display_data"
    }
   ],
   "source": [
    "from sklearn.metrics import accuracy_score, f1_score, precision_score, recall_score, classification_report, confusion_matrix\n",
    "\n",
    "conf_mat = confusion_matrix(y_test, preds)\n",
    "\n",
    "plt.figure(figsize=(9,9))\n",
    "sns.heatmap(conf_mat, annot=True, fmt=\".3f\", linewidths=.5, square = True, cmap = 'Blues_r', \\\n",
    "           xticklabels=le.inverse_transform(category_id_df[target].values),\n",
    "           yticklabels=le.inverse_transform(category_id_df[target].values))\n",
    "plt.ylabel('Actual label')\n",
    "plt.xlabel('Predicted label')\n",
    "all_sample_title = 'Accuracy Score: {0}'.format(score)\n",
    "plt.title(all_sample_title, size = 15)"
   ]
  },
  {
   "cell_type": "code",
   "execution_count": 51,
   "metadata": {},
   "outputs": [
    {
     "name": "stdout",
     "output_type": "stream",
     "text": [
      "0.9583072753804461\n",
      "0.9594820384294068\n",
      "0.9583333333333333\n"
     ]
    }
   ],
   "source": [
    "from sklearn.metrics import accuracy_score, f1_score, precision_score, recall_score, classification_report, confusion_matrix\n",
    "\n",
    "print(f1_score(y_test, preds, average=\"macro\"))\n",
    "print(precision_score(y_test, preds, average=\"macro\"))\n",
    "print(recall_score(y_test, preds, average=\"macro\"))    "
   ]
  },
  {
   "cell_type": "code",
   "execution_count": 52,
   "metadata": {},
   "outputs": [
    {
     "name": "stderr",
     "output_type": "stream",
     "text": [
      "C:\\Users\\Sabir Ismail\\Anaconda3\\lib\\site-packages\\sklearn\\cross_validation.py:41: DeprecationWarning: This module was deprecated in version 0.18 in favor of the model_selection module into which all the refactored classes and functions are moved. Also note that the interface of the new CV iterators are different from that of this module. This module will be removed in 0.20.\n",
      "  \"This module will be removed in 0.20.\", DeprecationWarning)\n"
     ]
    },
    {
     "name": "stdout",
     "output_type": "stream",
     "text": [
      "[0.86708861 0.84810127 0.96202532 0.88607595 0.92948718]\n",
      "0.8985556637455371\n"
     ]
    }
   ],
   "source": [
    "import warnings\n",
    "from sklearn import cross_validation\n",
    "\n",
    "warnings.filterwarnings(\"ignore\", category=DeprecationWarning) \n",
    "\n",
    "scores = cross_validation.cross_val_score(pipeline, X_data, y_data, cv=5)\n",
    "\n",
    "print(scores)\n",
    "print(scores.mean())"
   ]
  },
  {
   "cell_type": "code",
   "execution_count": 53,
   "metadata": {},
   "outputs": [],
   "source": [
    "param_grid = {\n",
    "        'classifier__learning_rate' : [0.1,0.2,0.05],\n",
    "        'classifier__subsample' : [0.5,0.6,0.7,0.8,0.9],\n",
    "        'classifier__colsample_bytree' : [0.5,0.6,0.7,0.8,0.9],\n",
    "        'classifier__nthread' : [10,12,15,20],\n",
    "        'classifier__scale_pos_weight' : [1,2,3,4,5],\n",
    "        'classifier__max_depth': [6, 10, 15, 1,2,3,4,5],\n",
    "        'classifier__gamma': [0, 0.25, 0.5, 1.0],\n",
    "        'classifier__min_child_weight' : [1,2,3,4,5],\n",
    "        'classifier__n_estimators': [100,200,150]}"
   ]
  },
  {
   "cell_type": "code",
   "execution_count": 54,
   "metadata": {},
   "outputs": [
    {
     "data": {
      "text/plain": [
       "RandomizedSearchCV(cv=None, error_score='raise',\n",
       "          estimator=Pipeline(memory=None,\n",
       "     steps=[('features', FeatureUnion(n_jobs=1,\n",
       "       transformer_list=[('Post', Pipeline(memory=None,\n",
       "     steps=[('selector', TextSelector(key='Post')), ('cnt', CountVectorizer(analyzer='word', binary=False, decode_error='strict',\n",
       "        dtype=<class 'numpy.int64'>, encoding='utf-8', input='content',...\n",
       "       reg_alpha=0, reg_lambda=1, scale_pos_weight=1, seed=27, silent=True,\n",
       "       subsample=0.8))]),\n",
       "          fit_params=None, iid=True, n_iter=10, n_jobs=1,\n",
       "          param_distributions={'classifier__learning_rate': [0.1, 0.2, 0.05], 'classifier__subsample': [0.5, 0.6, 0.7, 0.8, 0.9], 'classifier__colsample_bytree': [0.5, 0.6, 0.7, 0.8, 0.9], 'classifier__nthread': [10, 12, 15, 20], 'classifier__scale_pos_weight': [1, 2, 3, 4, 5], 'classifier__max_depth': [6, 10, 15, 1, 2, 3, 4, 5], 'classifier__gamma': [0, 0.25, 0.5, 1.0], 'classifier__min_child_weight': [1, 2, 3, 4, 5], 'classifier__n_estimators': [100, 200, 150]},\n",
       "          pre_dispatch='2*n_jobs', random_state=None, refit=True,\n",
       "          return_train_score=True, scoring=None, verbose=0)"
      ]
     },
     "execution_count": 54,
     "metadata": {},
     "output_type": "execute_result"
    }
   ],
   "source": [
    "import warnings\n",
    "warnings.filterwarnings(\"ignore\", category=DeprecationWarning) \n",
    "\n",
    "from sklearn.model_selection import RandomizedSearchCV\n",
    "\n",
    "gs = RandomizedSearchCV(pipeline, param_grid, n_jobs=1)  \n",
    "gs.fit(X_train, y_train)  "
   ]
  },
  {
   "cell_type": "code",
   "execution_count": 55,
   "metadata": {},
   "outputs": [
    {
     "data": {
      "text/plain": [
       "{'classifier__subsample': 0.7,\n",
       " 'classifier__scale_pos_weight': 2,\n",
       " 'classifier__nthread': 12,\n",
       " 'classifier__n_estimators': 200,\n",
       " 'classifier__min_child_weight': 4,\n",
       " 'classifier__max_depth': 1,\n",
       " 'classifier__learning_rate': 0.05,\n",
       " 'classifier__gamma': 0,\n",
       " 'classifier__colsample_bytree': 0.6}"
      ]
     },
     "execution_count": 55,
     "metadata": {},
     "output_type": "execute_result"
    }
   ],
   "source": [
    "gs.best_params_"
   ]
  },
  {
   "cell_type": "code",
   "execution_count": 56,
   "metadata": {},
   "outputs": [
    {
     "name": "stdout",
     "output_type": "stream",
     "text": [
      "F1: 0.9583072753804461\n",
      "Precision: 0.9594820384294068\n",
      "Recall: 0.9583333333333333\n"
     ]
    }
   ],
   "source": [
    "gs.predict(X_test)\n",
    "score = np.mean(preds == y_test)\n",
    "print_scores(y_test, preds)"
   ]
  },
  {
   "cell_type": "code",
   "execution_count": 57,
   "metadata": {},
   "outputs": [
    {
     "name": "stdout",
     "output_type": "stream",
     "text": [
      "Pre 0.9166666666666667\n",
      "Re: 0.9\n",
      "f1 0.898989898989899\n",
      "AUC 0.9\n",
      "-----\n",
      "Pre 1.0\n",
      "Re: 1.0\n",
      "f1 1.0\n",
      "AUC 1.0\n",
      "-----\n",
      "Pre 0.9166666666666667\n",
      "Re: 0.9\n",
      "f1 0.898989898989899\n",
      "AUC 0.9\n",
      "-----\n",
      "Pre 1.0\n",
      "Re: 1.0\n",
      "f1 1.0\n",
      "AUC 1.0\n",
      "-----\n",
      "Pre 0.8\n",
      "Re: 0.8\n",
      "f1 0.8000000000000002\n",
      "AUC 0.8\n",
      "-----\n",
      "mean F1:  0.9195959595959596\n",
      "mean Precission:  0.9266666666666667\n",
      "mean Recall:  0.9199999999999999\n",
      "mean auc_roc:  0.9199999999999999\n"
     ]
    }
   ],
   "source": [
    "from sklearn.metrics import roc_curve\n",
    "from sklearn.metrics import roc_auc_score\n",
    "import warnings\n",
    "with warnings.catch_warnings():\n",
    "    warnings.filterwarnings(\"ignore\",category=FutureWarning)\n",
    "    import h5py\n",
    "\n",
    "X = X_data\n",
    "y = y_data\n",
    "\n",
    "scores_f1 = []\n",
    "scores_pre = []\n",
    "scores_rec = []\n",
    "scores_auc = []\n",
    "\n",
    "for i in range(5): \n",
    "    X_train, X_test, y_train, y_test = train_test_eq_split(X_data, y_data, n_per_class=5)\n",
    "    gs.fit(X_train, y_train)\n",
    "\n",
    "    preds = gs.predict(X_test)\n",
    "    #score = np.mean(preds == y_test)\n",
    "    f1 = f1_score(y_test, preds, average=\"macro\")\n",
    "    pr = precision_score(y_test, preds, average=\"macro\")\n",
    "    re = recall_score(y_test, preds, average=\"macro\")\n",
    "    auc = roc_auc_score(y_test, preds)\n",
    "    \n",
    "    scores_f1.append(f1)\n",
    "    scores_pre.append(pr)\n",
    "    scores_rec.append(re)\n",
    "    scores_auc.append(auc)\n",
    "    \n",
    "    print(\"Pre\" , pr)\n",
    "    print(\"Re:\" , re)\n",
    "    print(\"f1\" , f1)\n",
    "    print(\"AUC\" , auc)\n",
    "    print(\"-----\")\n",
    "    \n",
    "print(\"mean F1: \",  np.array(scores_f1).mean())\n",
    "print(\"mean Precission: \",  np.array(scores_pre).mean())\n",
    "print(\"mean Recall: \",  np.array(scores_rec).mean())\n",
    "print(\"mean auc_roc: \", np.array(scores_auc).mean())"
   ]
  },
  {
   "cell_type": "code",
   "execution_count": 58,
   "metadata": {},
   "outputs": [
    {
     "name": "stdout",
     "output_type": "stream",
     "text": [
      "Pre 1.0\n",
      "Re: 1.0\n",
      "f1 1.0\n",
      "AUC 1.0\n",
      "-----\n",
      "Pre 1.0\n",
      "Re: 1.0\n",
      "f1 1.0\n",
      "AUC 1.0\n",
      "-----\n",
      "Pre 0.9166666666666667\n",
      "Re: 0.9\n",
      "f1 0.898989898989899\n",
      "AUC 0.9\n",
      "-----\n",
      "Pre 1.0\n",
      "Re: 1.0\n",
      "f1 1.0\n",
      "AUC 1.0\n",
      "-----\n",
      "Pre 1.0\n",
      "Re: 1.0\n",
      "f1 1.0\n",
      "AUC 1.0\n",
      "-----\n",
      "mean F1:  0.9797979797979798\n",
      "mean Precission:  0.9833333333333334\n",
      "mean Recall:  0.9800000000000001\n",
      "mean auc_roc:  0.9800000000000001\n"
     ]
    }
   ],
   "source": [
    "from sklearn.metrics import roc_curve\n",
    "from sklearn.metrics import roc_auc_score\n",
    "import warnings\n",
    "with warnings.catch_warnings():\n",
    "    warnings.filterwarnings(\"ignore\",category=FutureWarning)\n",
    "    import h5py\n",
    "    \n",
    "from sklearn.svm import LinearSVC\n",
    "from sklearn.datasets import make_classification\n",
    "\n",
    "clf = LinearSVC()\n",
    "X = X_data\n",
    "y = y_data\n",
    "\n",
    "scores_f1 = []\n",
    "scores_pre = []\n",
    "scores_rec = []\n",
    "scores_auc = []\n",
    "\n",
    "for i in range(5): \n",
    "    X_train, X_test, y_train, y_test = train_test_eq_split(X_data, y_data, n_per_class=5)\n",
    "    \n",
    "    pipeline = Pipeline([\n",
    "        ('features',feats),\n",
    "        ('classifier',svm.LinearSVC(random_state = 42)),\n",
    "    ])\n",
    "\n",
    "    pipeline.fit(X_train, y_train)\n",
    "    preds = pipeline.predict(X_test)\n",
    "    \n",
    "    #score = np.mean(preds == y_test)\n",
    "    f1 = f1_score(y_test, preds, average=\"macro\")\n",
    "    pr = precision_score(y_test, preds, average=\"macro\")\n",
    "    re = recall_score(y_test, preds, average=\"macro\")\n",
    "    auc = roc_auc_score(y_test, preds)\n",
    "    \n",
    "    scores_f1.append(f1)\n",
    "    scores_pre.append(pr)\n",
    "    scores_rec.append(re)\n",
    "    scores_auc.append(auc)\n",
    "    \n",
    "    print(\"Pre\" , pr)\n",
    "    print(\"Re:\" , re)\n",
    "    print(\"f1\" , f1)\n",
    "    print(\"AUC\" , auc)\n",
    "    print(\"-----\")\n",
    "    \n",
    "print(\"mean F1: \",  np.array(scores_f1).mean())\n",
    "print(\"mean Precission: \",  np.array(scores_pre).mean())\n",
    "print(\"mean Recall: \",  np.array(scores_rec).mean())\n",
    "print(\"mean auc_roc: \", np.array(scores_auc).mean())"
   ]
  },
  {
   "cell_type": "code",
   "execution_count": 59,
   "metadata": {},
   "outputs": [
    {
     "name": "stdout",
     "output_type": "stream",
     "text": [
      "Pre 1.0\n",
      "Re: 1.0\n",
      "f1 1.0\n",
      "AUC 1.0\n",
      "-----\n",
      "Pre 1.0\n",
      "Re: 1.0\n",
      "f1 1.0\n",
      "AUC 1.0\n",
      "-----\n",
      "Pre 0.8571428571428572\n",
      "Re: 0.8\n",
      "f1 0.7916666666666665\n",
      "AUC 0.8\n",
      "-----\n",
      "Pre 0.9166666666666667\n",
      "Re: 0.9\n",
      "f1 0.898989898989899\n",
      "AUC 0.9\n",
      "-----\n",
      "Pre 1.0\n",
      "Re: 1.0\n",
      "f1 1.0\n",
      "AUC 1.0\n",
      "-----\n",
      "mean F1:  0.9381313131313131\n",
      "mean Precission:  0.9547619047619047\n",
      "mean Recall:  0.9399999999999998\n",
      "mean auc_roc:  0.9399999999999998\n"
     ]
    }
   ],
   "source": [
    "from sklearn.metrics import roc_curve\n",
    "from sklearn.metrics import roc_auc_score\n",
    "import warnings\n",
    "with warnings.catch_warnings():\n",
    "    warnings.filterwarnings(\"ignore\",category=FutureWarning)\n",
    "    import h5py\n",
    "    \n",
    "from sklearn.svm import LinearSVC\n",
    "from sklearn.datasets import make_classification\n",
    "\n",
    "clf = LinearSVC()\n",
    "X = X_data\n",
    "y = y_data\n",
    "\n",
    "scores_f1 = []\n",
    "scores_pre = []\n",
    "scores_rec = []\n",
    "scores_auc = []\n",
    "\n",
    "for i in range(5): \n",
    "    X_train, X_test, y_train, y_test = train_test_eq_split(X_data, y_data, n_per_class=5)\n",
    "    \n",
    "    pipeline = Pipeline([\n",
    "    ('features',feats),\n",
    "    ('classifier', LogisticRegression(random_state = 42)),\n",
    "    ])\n",
    "\n",
    "    pipeline.fit(X_train, y_train)\n",
    "    preds = pipeline.predict(X_test)\n",
    "    \n",
    "    #score = np.mean(preds == y_test)\n",
    "    f1 = f1_score(y_test, preds, average=\"macro\")\n",
    "    pr = precision_score(y_test, preds, average=\"macro\")\n",
    "    re = recall_score(y_test, preds, average=\"macro\")\n",
    "    auc = roc_auc_score(y_test, preds)\n",
    "    \n",
    "    scores_f1.append(f1)\n",
    "    scores_pre.append(pr)\n",
    "    scores_rec.append(re)\n",
    "    scores_auc.append(auc)\n",
    "    \n",
    "    print(\"Pre\" , pr)\n",
    "    print(\"Re:\" , re)\n",
    "    print(\"f1\" , f1)\n",
    "    print(\"AUC\" , auc)\n",
    "    print(\"-----\")\n",
    "    \n",
    "print(\"mean F1: \",  np.array(scores_f1).mean())\n",
    "print(\"mean Precission: \",  np.array(scores_pre).mean())\n",
    "print(\"mean Recall: \",  np.array(scores_rec).mean())\n",
    "print(\"mean auc_roc: \", np.array(scores_auc).mean())"
   ]
  },
  {
   "cell_type": "code",
   "execution_count": 60,
   "metadata": {},
   "outputs": [
    {
     "data": {
      "image/png": "[encoded data removed]",
      "text/plain": [
       "<Figure size 432x288 with 1 Axes>"
      ]
     },
     "metadata": {},
     "output_type": "display_data"
    },
    {
     "name": "stdout",
     "output_type": "stream",
     "text": [
      "1.0\n"
     ]
    }
   ],
   "source": [
    "from sklearn.metrics import roc_curve\n",
    "from sklearn.metrics import roc_auc_score\n",
    "from matplotlib import pyplot\n",
    "\n",
    "fpr, tpr, thresholds = roc_curve(y_test, preds)\n",
    "pyplot.plot([0, 1], [0, 1], linestyle='--')\n",
    "# plot the roc curve for the model\n",
    "pyplot.plot(fpr, tpr, marker='.')\n",
    "# show the plot\n",
    "pyplot.show()\n",
    "print(roc_auc_score(y_test, preds))"
   ]
  },
  {
   "cell_type": "code",
   "execution_count": 61,
   "metadata": {},
   "outputs": [],
   "source": [
    "for i in range(len(y_test)):\n",
    "    ac = list(y_test)[i]\n",
    "    pr = preds[i]\n",
    "    if ac!=pr:\n",
    "        print(ac)\n",
    "        print(X_test.Post.iloc[i])"
   ]
  },
  {
   "cell_type": "code",
   "execution_count": 62,
   "metadata": {},
   "outputs": [
    {
     "name": "stdout",
     "output_type": "stream",
     "text": [
      "[0.86708861 0.8164557  0.91772152 0.85443038 0.94230769]\n",
      "0.8796007789678676\n"
     ]
    }
   ],
   "source": [
    "import warnings\n",
    "warnings.filterwarnings(\"ignore\", category=DeprecationWarning) \n",
    "\n",
    "scores = cross_validation.cross_val_score(pipeline, X_data, y_data, cv=5)\n",
    "\n",
    "print(scores)\n",
    "print(scores.mean())"
   ]
  },
  {
   "cell_type": "code",
   "execution_count": 63,
   "metadata": {},
   "outputs": [
    {
     "name": "stdout",
     "output_type": "stream",
     "text": [
      "0.8796007789678676\n"
     ]
    }
   ],
   "source": [
    "from sklearn.model_selection import StratifiedKFold\n",
    "\n",
    "skf = StratifiedKFold(n_splits=5, random_state=None)\n",
    "# X is the feature set and y is the target\n",
    "X = X_data\n",
    "y = y_data\n",
    "\n",
    "scores = []\n",
    "for train_index, test_index in skf.split(X, y): \n",
    "    X_train, X_test = X.iloc[train_index], X.iloc[test_index] \n",
    "    y_train, y_test = y.iloc[train_index], y.iloc[test_index]\n",
    "    \n",
    "    pipeline.fit(X_train, y_train)\n",
    "\n",
    "    preds = pipeline.predict(X_test)\n",
    "    score = np.mean(preds == y_test)\n",
    "    scores.append(score)\n",
    "\n",
    "print(np.array(scores).mean())"
   ]
  },
  {
   "cell_type": "markdown",
   "metadata": {},
   "source": [
    "### Final Prediction"
   ]
  },
  {
   "cell_type": "code",
   "execution_count": 69,
   "metadata": {},
   "outputs": [],
   "source": [
    "import pickle\n",
    "\n",
    "# load model from file\n",
    "loaded_model = pickle.load(open(\"../FInal Version Code/logistirregression.help.pickle.dat\", \"rb\"))\n",
    "# make predictions for test data\n",
    "y_pred = loaded_model.predict(df_final_data)\n",
    "predictions = [round(value) for value in y_pred]\n",
    "# evaluate predictions"
   ]
  },
  {
   "cell_type": "code",
   "execution_count": 70,
   "metadata": {},
   "outputs": [
    {
     "name": "stdout",
     "output_type": "stream",
     "text": [
      "871\n"
     ]
    }
   ],
   "source": [
    "print(len(predictions))"
   ]
  },
  {
   "cell_type": "code",
   "execution_count": 77,
   "metadata": {},
   "outputs": [
    {
     "data": {
      "text/plain": [
       "[1, 1, 0, 1, 1, 1, 1, 1, 1, 0]"
      ]
     },
     "execution_count": 77,
     "metadata": {},
     "output_type": "execute_result"
    }
   ],
   "source": [
    "predictions[595:605]"
   ]
  },
  {
   "cell_type": "code",
   "execution_count": 78,
   "metadata": {},
   "outputs": [
    {
     "data": {
      "text/plain": [
       "array(['browser question for nvda \" hi.  just in brows mode, deactivate use screen layout when supported or press nvda+v  you dont need to do anything for removing clusters i think!  i sometimes recieve this message and dont anything.  i think its for reader mode. \"',\n",
       "       'browser question for nvda thank u all',\n",
       "       'browsing hierarchical tree of comments \" hi everyone,    many websites have tree-like structure of comments. for  example, reddit, hacker news, and probably a lot more websites are  like this. sometimes i would like to read some comments, but for  example i would like to read only the top-level comments, and not the  deeper levels, because that would be the replies to the top-level  comments, and they are typically not as interesting. is there any way  to achieve this with nvda?    so, for example, i would like to have a key combination to jump to the  next same level comment. right now i can only jump to the next comment  of any level by searching a keyword (\\'up vote\\' or something, that  appears next to every comment), and then i\\'d have to deduce in my mind  what level comment is this. it is very tedious to browse comments this way.    another way that might help me would be to figure out the level of the  current comment. at least i\\'d be able to move down through the  comments without reading them and without trying to deduce its level  from the contents.    i can use firefox, chrome and internet explorer, so i\\'d be happy to find a solution that works in any of these browsers.    any advice would be appreciated!  tony \"',\n",
       "       'browsing hierarchical tree of comments \"           hello tony,          unfortunately i could not find a work around for your problem. the comments are not separated by colors, but by aligments i guess. so, it certainly depends on the screen resolution and screen size as well. in my view, it is not possible to solve this problem by nvda. and from an accessible perspective, you would need a multi line braille display or something like this to easily find the comment you want to read.             apart from that, i doubt that it would improve your user experience if redit collapses all levels automatically. you would have to expand them again and again to find relevant comments.                      best      adriani                  von:    nvda@nvda.groups.io  mailto:nvda@nvda.groups.io   im auftrag von  tony malykh   gesendet:  freitag, 8. dezember 2017 03:41   an:  nvda@nvda.groups.io   betreff:  re:  nvda  browsing hierarchical tree of comments         here are some examples:  200+ comments:   https://news.ycombinator.com/item?id=14477851       90+ comments:   https://www.reddit.com/r/books/comments/7gtm54/the_best_books_of_2017_megalist/       8000+ comments:   https://www.reddit.com/r/askreddit/comments/34m5n6/reddit_what_are_some_must_read_books/       although these days reddit is smart enough to collapse deep branches of replies, it still often shows second-level comments.      tony                         \"',\n",
       "       'browsing hierarchical tree of comments \" i   m interested in this as well, but suspect it requires changes on the site   s end.    bill \"',\n",
       "       \"browsing hierarchical tree of comments i've been playing with nvda and just discovered a simple solution: press insert + numpad delete twice (report review corsor location) and it will tell you the distance from the left microsoft edge of the screen. the greater the distance - the deeper the level of the comment.      i think in theory something can be done on the client side to make the comments more readable for screenreader users.. you can write a browser plugin that would modify a page to include the level of the comment explicitly for example. but this is only in theory: my knowledge of java script/html/css is too poor to write it myself.      tony\",\n",
       "       'browsing hierarchical tree of comments \"                 i haven\\'t tried this but i don\\'t see how using the   cursor location feature would help much.   you would still have to move to   the beginning of each comment and check the distance.   if that would save   you time in not having to read any of the comment, i don\\'t know but having to   move to the next comment and check the distance of each comment would seem to be   cumbersome and perhaps not much easier than reading a bit of each comment to see   if it   s a reply.   but those who try this may explain that i\\'m wrong and   why.                 perhaps what we need, if this can be done, is a   feature or a plugin you can set to look for text that starts a certain distance   from the left side of the screen and then be able to jump to the next text that   starts at the same number of pixels from the left of the screen.   you could   issue a next and a back command to move to these items.   so the idea may   lead to a good solution if such a feature can be developed.              by the way, you don\\'t have to issue the command   twice.   it does the same thing if issued once or more times.              gene     \"',\n",
       "       'browsing hierarchical tree of comments \"            i am an nvda newbie, so i don\\'t know how or why this works, but        it works for me. i tried it on both reddit and hacker news in        chrome and firefox. i don\\'t have to press any extra buttons        to route the review corsor, perhaps the review corsor just follows        the system cursor in my case.                 after your email i tried pressing insert+delete only once, and it        indeed speaks the horizontal offset of current object in (i        assume) pixels. after pressing it twice it speaks the horizontal        offset in percentage of the screen width. so either way can be        used.            i like your idea about nvda add on that would let you jump between        paragraphs with the same offset. i might try to write such a        plugin myself when i have some free time.            tony                    \"',\n",
       "       'browsing hierarchical tree of comments \"          yes, the review corsor does follow the focus by default.  you have to turn that off if you do not want it.  if you go to the review corsor under the preferences menu, the first check box will be to check have review corsor follow the focus. if that is unchecked, you need to check that.  have a great one!  that is why it works for you.  i am so happy you are using nvda. please ask any questions at all about add ons or anything.  david moore  sent from  mail  for windows 10             \"',\n",
       "       'browsing hierarchical tree of comments \"                 i ask a question in this message and make a few   comments but the second half of the message discusses what might be a related   command, at least in terms of how you would program it.   perhaps if there   is enough interest on the list, the developers will work on it soon.                   the review corsor by default if you are using   object navigation follows the system cursor.   but what i\\'m saying is if you   only want to read the top level comments, then don\\'t you have to move to every   comment and measure the distance?   my question is how that is better than   reading a few words of each comment to see if you want to continue.   but   maybe you have to read enough of each comment that it is slower enough to   matter.                 evidently, the speak position command has more   functions than in the old version of nvda i use.   so you are correct that   to hear the numbers, you have to issue the command twice.         also, the idea of being able to jump to the next   occurrence of text starting a certain point from the left of the screen might be   related to another feature nvda should have.   if you have a page with two   or three columns or more and you want to only read one column, you should be   able to define a start point and an end point farther to the right.   then   you could read and only have that defineed column read.   asap had a read   column feature in jaws.   i seldo had to use it but i would imagine it was   very useful to some people,   consider one use with nvda:      suppose you got a poorly formatted pdf document where   pages didn\\'t decolumnize properly.   rather than have decolumnization occur,   if you could just have the page recognized with no decolumnization and set the   columns yourself, you might be able to read such documents.                 genea distance from the left of the screen           \"'],\n",
       "      dtype=object)"
      ]
     },
     "execution_count": 78,
     "metadata": {},
     "output_type": "execute_result"
    }
   ],
   "source": [
    "df_final_data.Original_post.values[595:605]"
   ]
  }
 ],
 "metadata": {
  "kernelspec": {
   "display_name": "Python 3",
   "language": "python",
   "name": "python3"
  },
  "language_info": {
   "codemirror_mode": {
    "name": "ipython",
    "version": 3
   },
   "file_extension": ".py",
   "mimetype": "text/x-python",
   "name": "python",
   "nbconvert_exporter": "python",
   "pygments_lexer": "ipython3",
   "version": "3.6.4"
  }
 },
 "nbformat": 4,
 "nbformat_minor": 2
}
