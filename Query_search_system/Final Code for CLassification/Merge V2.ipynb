{
 "cells": [
  {
   "cell_type": "code",
   "execution_count": 3,
   "metadata": {},
   "outputs": [],
   "source": [
    "import pandas as pd"
   ]
  },
  {
   "cell_type": "code",
   "execution_count": 4,
   "metadata": {},
   "outputs": [
    {
     "name": "stdout",
     "output_type": "stream",
     "text": [
      "3766\n"
     ]
    }
   ],
   "source": [
    "df_help = pd.read_csv('./Data/Help_prediction_v0_jaws.csv')\n",
    "print(len(df_help))"
   ]
  },
  {
   "cell_type": "code",
   "execution_count": 5,
   "metadata": {},
   "outputs": [
    {
     "name": "stdout",
     "output_type": "stream",
     "text": [
      "18079\n",
      "10915\n"
     ]
    }
   ],
   "source": [
    "df_answer = pd.read_csv('./Data/Answer_prediction_v0_jaws.csv')\n",
    "print(len(df_answer))\n",
    "df_answer = df_answer[df_answer.Tag == 'Answer']\n",
    "print(len(df_answer))"
   ]
  },
  {
   "cell_type": "code",
   "execution_count": 6,
   "metadata": {},
   "outputs": [
    {
     "data": {
      "text/html": [
       "<div>\n",
       "<style scoped>\n",
       "    .dataframe tbody tr th:only-of-type {\n",
       "        vertical-align: middle;\n",
       "    }\n",
       "\n",
       "    .dataframe tbody tr th {\n",
       "        vertical-align: top;\n",
       "    }\n",
       "\n",
       "    .dataframe thead th {\n",
       "        text-align: right;\n",
       "    }\n",
       "</style>\n",
       "<table border=\"1\" class=\"dataframe\">\n",
       "  <thead>\n",
       "    <tr style=\"text-align: right;\">\n",
       "      <th></th>\n",
       "      <th>ID</th>\n",
       "      <th>Title</th>\n",
       "      <th>Original_post</th>\n",
       "      <th>Tag</th>\n",
       "    </tr>\n",
       "  </thead>\n",
       "  <tbody>\n",
       "    <tr>\n",
       "      <th>0</th>\n",
       "      <td>1</td>\n",
       "      <td>: a history of jaws and windows, was: training...</td>\n",
       "      <td>: a history of jaws and windows, was: training...</td>\n",
       "      <td>Help</td>\n",
       "    </tr>\n",
       "    <tr>\n",
       "      <th>1</th>\n",
       "      <td>2</td>\n",
       "      <td>?luck with kindle?</td>\n",
       "      <td>?luck with kindle? has anyone had any luck usi...</td>\n",
       "      <td>Junk</td>\n",
       "    </tr>\n",
       "    <tr>\n",
       "      <th>2</th>\n",
       "      <td>3</td>\n",
       "      <td>?luck with kindle?</td>\n",
       "      <td>?luck with kindle? anyone have any luck using ...</td>\n",
       "      <td>Junk</td>\n",
       "    </tr>\n",
       "    <tr>\n",
       "      <th>3</th>\n",
       "      <td>15</td>\n",
       "      <td>?luck with kindle? and codex</td>\n",
       "      <td>?luck with kindle? and codex curtis,   thank y...</td>\n",
       "      <td>Junk</td>\n",
       "    </tr>\n",
       "    <tr>\n",
       "      <th>4</th>\n",
       "      <td>16</td>\n",
       "      <td>1 good person offered to help people on this l...</td>\n",
       "      <td>1 good person offered to help people on this l...</td>\n",
       "      <td>Help</td>\n",
       "    </tr>\n",
       "  </tbody>\n",
       "</table>\n",
       "</div>"
      ],
      "text/plain": [
       "   ID                                              Title  \\\n",
       "0   1  : a history of jaws and windows, was: training...   \n",
       "1   2                                 ?luck with kindle?   \n",
       "2   3                                 ?luck with kindle?   \n",
       "3  15                       ?luck with kindle? and codex   \n",
       "4  16  1 good person offered to help people on this l...   \n",
       "\n",
       "                                       Original_post   Tag  \n",
       "0  : a history of jaws and windows, was: training...  Help  \n",
       "1  ?luck with kindle? has anyone had any luck usi...  Junk  \n",
       "2  ?luck with kindle? anyone have any luck using ...  Junk  \n",
       "3  ?luck with kindle? and codex curtis,   thank y...  Junk  \n",
       "4  1 good person offered to help people on this l...  Help  "
      ]
     },
     "execution_count": 6,
     "metadata": {},
     "output_type": "execute_result"
    }
   ],
   "source": [
    "df_help.head()"
   ]
  },
  {
   "cell_type": "code",
   "execution_count": 7,
   "metadata": {},
   "outputs": [
    {
     "data": {
      "text/html": [
       "<div>\n",
       "<style scoped>\n",
       "    .dataframe tbody tr th:only-of-type {\n",
       "        vertical-align: middle;\n",
       "    }\n",
       "\n",
       "    .dataframe tbody tr th {\n",
       "        vertical-align: top;\n",
       "    }\n",
       "\n",
       "    .dataframe thead th {\n",
       "        text-align: right;\n",
       "    }\n",
       "</style>\n",
       "<table border=\"1\" class=\"dataframe\">\n",
       "  <thead>\n",
       "    <tr style=\"text-align: right;\">\n",
       "      <th></th>\n",
       "      <th>ID</th>\n",
       "      <th>Title</th>\n",
       "      <th>Original_post</th>\n",
       "      <th>Tag</th>\n",
       "    </tr>\n",
       "  </thead>\n",
       "  <tbody>\n",
       "    <tr>\n",
       "      <th>0</th>\n",
       "      <td>4</td>\n",
       "      <td>?luck with kindle?</td>\n",
       "      <td>no i never had any success with the ap for pc!...</td>\n",
       "      <td>Answer</td>\n",
       "    </tr>\n",
       "    <tr>\n",
       "      <th>11</th>\n",
       "      <td>18</td>\n",
       "      <td>19 folders total, but can only view about 8 of...</td>\n",
       "      <td>is your window maximized?          dave  orego...</td>\n",
       "      <td>Answer</td>\n",
       "    </tr>\n",
       "    <tr>\n",
       "      <th>12</th>\n",
       "      <td>19</td>\n",
       "      <td>19 folders total, but can only view about 8 of...</td>\n",
       "      <td>no. it s restored, and i can t seem to maximiz...</td>\n",
       "      <td>Answer</td>\n",
       "    </tr>\n",
       "    <tr>\n",
       "      <th>13</th>\n",
       "      <td>20</td>\n",
       "      <td>19 folders total, but can only view about 8 of...</td>\n",
       "      <td>ashleigh,           you can try to maximize wi...</td>\n",
       "      <td>Answer</td>\n",
       "    </tr>\n",
       "    <tr>\n",
       "      <th>14</th>\n",
       "      <td>21</td>\n",
       "      <td>19 folders total, but can only view about 8 of...</td>\n",
       "      <td>hello;  i hope i m understanding your question...</td>\n",
       "      <td>Answer</td>\n",
       "    </tr>\n",
       "  </tbody>\n",
       "</table>\n",
       "</div>"
      ],
      "text/plain": [
       "    ID                                              Title  \\\n",
       "0    4                                 ?luck with kindle?   \n",
       "11  18  19 folders total, but can only view about 8 of...   \n",
       "12  19  19 folders total, but can only view about 8 of...   \n",
       "13  20  19 folders total, but can only view about 8 of...   \n",
       "14  21  19 folders total, but can only view about 8 of...   \n",
       "\n",
       "                                        Original_post     Tag  \n",
       "0   no i never had any success with the ap for pc!...  Answer  \n",
       "11  is your window maximized?          dave  orego...  Answer  \n",
       "12  no. it s restored, and i can t seem to maximiz...  Answer  \n",
       "13  ashleigh,           you can try to maximize wi...  Answer  \n",
       "14  hello;  i hope i m understanding your question...  Answer  "
      ]
     },
     "execution_count": 7,
     "metadata": {},
     "output_type": "execute_result"
    }
   ],
   "source": [
    "df_answer.head()"
   ]
  },
  {
   "cell_type": "code",
   "execution_count": 8,
   "metadata": {},
   "outputs": [
    {
     "data": {
      "text/plain": [
       "14681"
      ]
     },
     "execution_count": 8,
     "metadata": {},
     "output_type": "execute_result"
    }
   ],
   "source": [
    "df = df_help\n",
    "df = df.append(df_answer, ignore_index=True)\n",
    "df.reset_index(inplace = False) \n",
    "len(df)"
   ]
  },
  {
   "cell_type": "code",
   "execution_count": 9,
   "metadata": {},
   "outputs": [
    {
     "data": {
      "text/html": [
       "<div>\n",
       "<style scoped>\n",
       "    .dataframe tbody tr th:only-of-type {\n",
       "        vertical-align: middle;\n",
       "    }\n",
       "\n",
       "    .dataframe tbody tr th {\n",
       "        vertical-align: top;\n",
       "    }\n",
       "\n",
       "    .dataframe thead th {\n",
       "        text-align: right;\n",
       "    }\n",
       "</style>\n",
       "<table border=\"1\" class=\"dataframe\">\n",
       "  <thead>\n",
       "    <tr style=\"text-align: right;\">\n",
       "      <th></th>\n",
       "      <th>ID</th>\n",
       "      <th>Title</th>\n",
       "      <th>Original_post</th>\n",
       "      <th>Tag</th>\n",
       "    </tr>\n",
       "  </thead>\n",
       "  <tbody>\n",
       "    <tr>\n",
       "      <th>0</th>\n",
       "      <td>1</td>\n",
       "      <td>: a history of jaws and windows, was: training...</td>\n",
       "      <td>: a history of jaws and windows, was: training...</td>\n",
       "      <td>Help</td>\n",
       "    </tr>\n",
       "    <tr>\n",
       "      <th>1</th>\n",
       "      <td>2</td>\n",
       "      <td>?luck with kindle?</td>\n",
       "      <td>?luck with kindle? has anyone had any luck usi...</td>\n",
       "      <td>Junk</td>\n",
       "    </tr>\n",
       "    <tr>\n",
       "      <th>2</th>\n",
       "      <td>3</td>\n",
       "      <td>?luck with kindle?</td>\n",
       "      <td>?luck with kindle? anyone have any luck using ...</td>\n",
       "      <td>Junk</td>\n",
       "    </tr>\n",
       "    <tr>\n",
       "      <th>3766</th>\n",
       "      <td>4</td>\n",
       "      <td>?luck with kindle?</td>\n",
       "      <td>no i never had any success with the ap for pc!...</td>\n",
       "      <td>Answer</td>\n",
       "    </tr>\n",
       "    <tr>\n",
       "      <th>3</th>\n",
       "      <td>15</td>\n",
       "      <td>?luck with kindle? and codex</td>\n",
       "      <td>?luck with kindle? and codex curtis,   thank y...</td>\n",
       "      <td>Junk</td>\n",
       "    </tr>\n",
       "    <tr>\n",
       "      <th>4</th>\n",
       "      <td>16</td>\n",
       "      <td>1 good person offered to help people on this l...</td>\n",
       "      <td>1 good person offered to help people on this l...</td>\n",
       "      <td>Help</td>\n",
       "    </tr>\n",
       "    <tr>\n",
       "      <th>5</th>\n",
       "      <td>17</td>\n",
       "      <td>19 folders total, but can only view about 8 of...</td>\n",
       "      <td>19 folders total, but can only view about 8 of...</td>\n",
       "      <td>Help</td>\n",
       "    </tr>\n",
       "    <tr>\n",
       "      <th>3767</th>\n",
       "      <td>18</td>\n",
       "      <td>19 folders total, but can only view about 8 of...</td>\n",
       "      <td>is your window maximized?          dave  orego...</td>\n",
       "      <td>Answer</td>\n",
       "    </tr>\n",
       "    <tr>\n",
       "      <th>3768</th>\n",
       "      <td>19</td>\n",
       "      <td>19 folders total, but can only view about 8 of...</td>\n",
       "      <td>no. it s restored, and i can t seem to maximiz...</td>\n",
       "      <td>Answer</td>\n",
       "    </tr>\n",
       "    <tr>\n",
       "      <th>3769</th>\n",
       "      <td>20</td>\n",
       "      <td>19 folders total, but can only view about 8 of...</td>\n",
       "      <td>ashleigh,           you can try to maximize wi...</td>\n",
       "      <td>Answer</td>\n",
       "    </tr>\n",
       "  </tbody>\n",
       "</table>\n",
       "</div>"
      ],
      "text/plain": [
       "      ID                                              Title  \\\n",
       "0      1  : a history of jaws and windows, was: training...   \n",
       "1      2                                 ?luck with kindle?   \n",
       "2      3                                 ?luck with kindle?   \n",
       "3766   4                                 ?luck with kindle?   \n",
       "3     15                       ?luck with kindle? and codex   \n",
       "4     16  1 good person offered to help people on this l...   \n",
       "5     17  19 folders total, but can only view about 8 of...   \n",
       "3767  18  19 folders total, but can only view about 8 of...   \n",
       "3768  19  19 folders total, but can only view about 8 of...   \n",
       "3769  20  19 folders total, but can only view about 8 of...   \n",
       "\n",
       "                                          Original_post     Tag  \n",
       "0     : a history of jaws and windows, was: training...    Help  \n",
       "1     ?luck with kindle? has anyone had any luck usi...    Junk  \n",
       "2     ?luck with kindle? anyone have any luck using ...    Junk  \n",
       "3766  no i never had any success with the ap for pc!...  Answer  \n",
       "3     ?luck with kindle? and codex curtis,   thank y...    Junk  \n",
       "4     1 good person offered to help people on this l...    Help  \n",
       "5     19 folders total, but can only view about 8 of...    Help  \n",
       "3767  is your window maximized?          dave  orego...  Answer  \n",
       "3768  no. it s restored, and i can t seem to maximiz...  Answer  \n",
       "3769  ashleigh,           you can try to maximize wi...  Answer  "
      ]
     },
     "execution_count": 9,
     "metadata": {},
     "output_type": "execute_result"
    }
   ],
   "source": [
    "df.sort_values(['ID']).head(10)"
   ]
  },
  {
   "cell_type": "code",
   "execution_count": null,
   "metadata": {},
   "outputs": [],
   "source": [
    "add_help = {}\n",
    "\n",
    "for index, row in df_answer.iterrows():\n",
    "    title = row[1]\n",
    "    add_help[title] = True"
   ]
  },
  {
   "cell_type": "code",
   "execution_count": null,
   "metadata": {},
   "outputs": [],
   "source": [
    "def re_assign_help_tag(row):\n",
    "    title = row[1]\n",
    "    if title in add_help:\n",
    "        return 'Help'"
   ]
  },
  {
   "cell_type": "code",
   "execution_count": null,
   "metadata": {},
   "outputs": [],
   "source": [
    "print(len(df_help[df_help.Tag == 'Help']))\n",
    "df_help['Tag'] = df_help.apply(re_assign_help_tag, axis=1)\n",
    "print(len(df_help[df_help.Tag == 'Help']))"
   ]
  },
  {
   "cell_type": "code",
   "execution_count": 10,
   "metadata": {},
   "outputs": [],
   "source": [
    "df.to_csv('./Data/jaws_all_classified.csv', index=False)"
   ]
  },
  {
   "cell_type": "code",
   "execution_count": null,
   "metadata": {},
   "outputs": [],
   "source": [
    "print(len(df))\n",
    "df = df[df.Tag!='Junk']\n",
    "print(len(df))"
   ]
  },
  {
   "cell_type": "code",
   "execution_count": null,
   "metadata": {},
   "outputs": [],
   "source": [
    "df['Title'] = df['Title'].str.strip()\n",
    "df.Original_post = df.Original_post.replace('\\s+', ' ', regex=True)"
   ]
  },
  {
   "cell_type": "code",
   "execution_count": null,
   "metadata": {},
   "outputs": [],
   "source": [
    "df.tail()"
   ]
  },
  {
   "cell_type": "code",
   "execution_count": null,
   "metadata": {},
   "outputs": [],
   "source": [
    "df.to_csv('./Data/to_es_v4.csv', index=False)"
   ]
  }
 ],
 "metadata": {
  "kernelspec": {
   "display_name": "Python 3",
   "language": "python",
   "name": "python3"
  },
  "language_info": {
   "codemirror_mode": {
    "name": "ipython",
    "version": 3
   },
   "file_extension": ".py",
   "mimetype": "text/x-python",
   "name": "python",
   "nbconvert_exporter": "python",
   "pygments_lexer": "ipython3",
   "version": "3.6.4"
  }
 },
 "nbformat": 4,
 "nbformat_minor": 2
}
