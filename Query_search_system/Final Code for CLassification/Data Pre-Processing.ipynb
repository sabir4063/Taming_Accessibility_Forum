{
 "cells": [
  {
   "cell_type": "code",
   "execution_count": 1,
   "metadata": {},
   "outputs": [],
   "source": [
    "import nltk\n",
    "import string\n",
    "import numpy as np\n",
    "import pandas as pd\n",
    "from nltk.corpus import stopwords\n",
    "from nltk.stem import SnowballStemmer\n",
    "import re\n",
    "from tqdm._tqdm_notebook import tqdm_notebook\n",
    "import pandas as pd\n",
    "tqdm_notebook.pandas()"
   ]
  },
  {
   "cell_type": "code",
   "execution_count": 2,
   "metadata": {},
   "outputs": [
    {
     "name": "stdout",
     "output_type": "stream",
     "text": [
      "483\n"
     ]
    },
    {
     "data": {
      "text/html": [
       "<div>\n",
       "<style scoped>\n",
       "    .dataframe tbody tr th:only-of-type {\n",
       "        vertical-align: middle;\n",
       "    }\n",
       "\n",
       "    .dataframe tbody tr th {\n",
       "        vertical-align: top;\n",
       "    }\n",
       "\n",
       "    .dataframe thead th {\n",
       "        text-align: right;\n",
       "    }\n",
       "</style>\n",
       "<table border=\"1\" class=\"dataframe\">\n",
       "  <thead>\n",
       "    <tr style=\"text-align: right;\">\n",
       "      <th></th>\n",
       "      <th>name</th>\n",
       "      <th>new name</th>\n",
       "      <th>category</th>\n",
       "      <th>len</th>\n",
       "      <th>color</th>\n",
       "    </tr>\n",
       "  </thead>\n",
       "  <tbody>\n",
       "    <tr>\n",
       "      <th>30</th>\n",
       "      <td>windows 10 app essestial add on</td>\n",
       "      <td>windows 10 apps</td>\n",
       "      <td>Desktop Utility</td>\n",
       "      <td>31.0</td>\n",
       "      <td>5</td>\n",
       "    </tr>\n",
       "    <tr>\n",
       "      <th>170</th>\n",
       "      <td>windows10appessestialaddon</td>\n",
       "      <td>windows 10</td>\n",
       "      <td>Operating System</td>\n",
       "      <td>26.0</td>\n",
       "      <td>6</td>\n",
       "    </tr>\n",
       "    <tr>\n",
       "      <th>402</th>\n",
       "      <td>internet explorer 2003</td>\n",
       "      <td>internet explorer</td>\n",
       "      <td>Web Browser</td>\n",
       "      <td>22.0</td>\n",
       "      <td>6</td>\n",
       "    </tr>\n",
       "    <tr>\n",
       "      <th>6</th>\n",
       "      <td>windows 10 calculatore</td>\n",
       "      <td>microsoft calculator</td>\n",
       "      <td>Desktop Utility</td>\n",
       "      <td>22.0</td>\n",
       "      <td>6</td>\n",
       "    </tr>\n",
       "    <tr>\n",
       "      <th>12</th>\n",
       "      <td>microsoft powerpoint</td>\n",
       "      <td>microsoft powerpoint</td>\n",
       "      <td>Desktop Utility</td>\n",
       "      <td>20.0</td>\n",
       "      <td>9</td>\n",
       "    </tr>\n",
       "  </tbody>\n",
       "</table>\n",
       "</div>"
      ],
      "text/plain": [
       "                                name              new name          category  \\\n",
       "30   windows 10 app essestial add on       windows 10 apps   Desktop Utility   \n",
       "170       windows10appessestialaddon            windows 10  Operating System   \n",
       "402           internet explorer 2003     internet explorer       Web Browser   \n",
       "6             windows 10 calculatore  microsoft calculator   Desktop Utility   \n",
       "12              microsoft powerpoint  microsoft powerpoint   Desktop Utility   \n",
       "\n",
       "      len  color  \n",
       "30   31.0      5  \n",
       "170  26.0      6  \n",
       "402  22.0      6  \n",
       "6    22.0      6  \n",
       "12   20.0      9  "
      ]
     },
     "execution_count": 2,
     "metadata": {},
     "output_type": "execute_result"
    }
   ],
   "source": [
    "import pandas as pd\n",
    "df_sw = pd.read_csv('..\\\\Custom List\\\\sw_merged_added_v1.csv', encoding='latin1')\n",
    "print(len(df_sw))\n",
    "df_sw = df_sw.sort_values(by='len', ascending=False)\n",
    "df_sw.head()"
   ]
  },
  {
   "cell_type": "code",
   "execution_count": 3,
   "metadata": {},
   "outputs": [],
   "source": [
    "sw_name = {}\n",
    "\n",
    "def map_sw_name_new(row):\n",
    "    sw = row[0]\n",
    "    sw_new = row[1]\n",
    "    sw_name[sw] = sw_new"
   ]
  },
  {
   "cell_type": "code",
   "execution_count": 4,
   "metadata": {},
   "outputs": [
    {
     "name": "stdout",
     "output_type": "stream",
     "text": [
      "done\n"
     ]
    }
   ],
   "source": [
    "df_sw.apply(map_sw_name_new, axis=1)\n",
    "print(\"done\")"
   ]
  },
  {
   "cell_type": "code",
   "execution_count": 5,
   "metadata": {},
   "outputs": [],
   "source": [
    "import re\n",
    "\n",
    "def replace_sw_name(sentences):\n",
    "    \n",
    "    for sw in sw_name.keys():\n",
    "        sw_new = sw_name[sw]\n",
    "        #print(sw)\n",
    "        reg_ex = re.compile(r'\\b'+sw+'\\\\b')\n",
    "        sentences = re.sub(reg_ex,sw_new,sentences)\n",
    "            \n",
    "    return sentences"
   ]
  },
  {
   "cell_type": "code",
   "execution_count": 6,
   "metadata": {},
   "outputs": [],
   "source": [
    "df = pd.read_csv('../Jaws/jaws_tagged.csv')"
   ]
  },
  {
   "cell_type": "code",
   "execution_count": 7,
   "metadata": {},
   "outputs": [
    {
     "data": {
      "text/plain": [
       "21845"
      ]
     },
     "execution_count": 7,
     "metadata": {},
     "output_type": "execute_result"
    }
   ],
   "source": [
    "len(df)"
   ]
  },
  {
   "cell_type": "code",
   "execution_count": 8,
   "metadata": {},
   "outputs": [],
   "source": [
    "def add_title(row):\n",
    "    if row[3] == 'original':\n",
    "        return str(row[1]) + \" \" + str(row[2])\n",
    "    else:\n",
    "        return row[2]"
   ]
  },
  {
   "cell_type": "code",
   "execution_count": 9,
   "metadata": {},
   "outputs": [
    {
     "data": {
      "application/vnd.jupyter.widget-view+json": {
       "model_id": "c877bba9282447c88cdd595d96e0bcac",
       "version_major": 2,
       "version_minor": 0
      },
      "text/html": [
       "<p>Failed to display Jupyter Widget of type <code>HBox</code>.</p>\n",
       "<p>\n",
       "  If you're reading this message in the Jupyter Notebook or JupyterLab Notebook, it may mean\n",
       "  that the widgets JavaScript is still loading. If this message persists, it\n",
       "  likely means that the widgets JavaScript library is either not installed or\n",
       "  not enabled. See the <a href=\"https://ipywidgets.readthedocs.io/en/stable/user_install.html\">Jupyter\n",
       "  Widgets Documentation</a> for setup instructions.\n",
       "</p>\n",
       "<p>\n",
       "  If you're reading this message in another frontend (for example, a static\n",
       "  rendering on GitHub or <a href=\"https://nbviewer.jupyter.org/\">NBViewer</a>),\n",
       "  it may mean that your frontend doesn't currently support widgets.\n",
       "</p>\n"
      ],
      "text/plain": [
       "HBox(children=(IntProgress(value=0, max=21845), HTML(value='')))"
      ]
     },
     "metadata": {},
     "output_type": "display_data"
    },
    {
     "name": "stdout",
     "output_type": "stream",
     "text": [
      "\n"
     ]
    }
   ],
   "source": [
    "df.Post = df.progress_apply(add_title, axis = 1)\n",
    "# Remove empty rows\n",
    "df = df.replace('\\n',' ', regex=True)\n",
    "df = df.fillna('')"
   ]
  },
  {
   "cell_type": "code",
   "execution_count": 10,
   "metadata": {},
   "outputs": [
    {
     "data": {
      "text/html": [
       "<div>\n",
       "<style scoped>\n",
       "    .dataframe tbody tr th:only-of-type {\n",
       "        vertical-align: middle;\n",
       "    }\n",
       "\n",
       "    .dataframe tbody tr th {\n",
       "        vertical-align: top;\n",
       "    }\n",
       "\n",
       "    .dataframe thead th {\n",
       "        text-align: right;\n",
       "    }\n",
       "</style>\n",
       "<table border=\"1\" class=\"dataframe\">\n",
       "  <thead>\n",
       "    <tr style=\"text-align: right;\">\n",
       "      <th></th>\n",
       "      <th>ID</th>\n",
       "      <th>Title</th>\n",
       "      <th>Post</th>\n",
       "      <th>Type</th>\n",
       "      <th>Tag1</th>\n",
       "      <th>Tag2</th>\n",
       "      <th>Help</th>\n",
       "      <th>Problem</th>\n",
       "      <th>Answer</th>\n",
       "      <th>Clarification</th>\n",
       "      <th>Elaboration</th>\n",
       "      <th>Junk</th>\n",
       "    </tr>\n",
       "  </thead>\n",
       "  <tbody>\n",
       "    <tr>\n",
       "      <th>0</th>\n",
       "      <td>1</td>\n",
       "      <td>: a history of jaws and windows, was: training...</td>\n",
       "      <td>: a history of jaws and windows, was: training...</td>\n",
       "      <td>original</td>\n",
       "      <td>original</td>\n",
       "      <td></td>\n",
       "      <td>undefined</td>\n",
       "      <td>undefined</td>\n",
       "      <td>undefined</td>\n",
       "      <td>Clarification</td>\n",
       "      <td>undefined</td>\n",
       "      <td>undefined</td>\n",
       "    </tr>\n",
       "    <tr>\n",
       "      <th>1</th>\n",
       "      <td>2</td>\n",
       "      <td>?luck with kindle?</td>\n",
       "      <td>?luck with kindle? has anyone had any luck usi...</td>\n",
       "      <td>original</td>\n",
       "      <td>tagged</td>\n",
       "      <td></td>\n",
       "      <td>undefined</td>\n",
       "      <td>undefined</td>\n",
       "      <td>undefined</td>\n",
       "      <td>undefined</td>\n",
       "      <td>undefined</td>\n",
       "      <td>Junk</td>\n",
       "    </tr>\n",
       "    <tr>\n",
       "      <th>2</th>\n",
       "      <td>3</td>\n",
       "      <td>?luck with kindle?</td>\n",
       "      <td>?luck with kindle? anyone have any luck using ...</td>\n",
       "      <td>original</td>\n",
       "      <td>tagged</td>\n",
       "      <td></td>\n",
       "      <td>undefined</td>\n",
       "      <td>undefined</td>\n",
       "      <td>undefined</td>\n",
       "      <td>undefined</td>\n",
       "      <td>undefined</td>\n",
       "      <td>Junk</td>\n",
       "    </tr>\n",
       "    <tr>\n",
       "      <th>3</th>\n",
       "      <td>4</td>\n",
       "      <td>?luck with kindle?</td>\n",
       "      <td>no i never had any success with the ap for pc!...</td>\n",
       "      <td>following</td>\n",
       "      <td>tagged</td>\n",
       "      <td></td>\n",
       "      <td>undefined</td>\n",
       "      <td>undefined</td>\n",
       "      <td>undefined</td>\n",
       "      <td>undefined</td>\n",
       "      <td>undefined</td>\n",
       "      <td>Junk</td>\n",
       "    </tr>\n",
       "    <tr>\n",
       "      <th>4</th>\n",
       "      <td>5</td>\n",
       "      <td>?luck with kindle?</td>\n",
       "      <td>yes you have to download the kindle for pc wit...</td>\n",
       "      <td>following</td>\n",
       "      <td>tagged</td>\n",
       "      <td></td>\n",
       "      <td>undefined</td>\n",
       "      <td>undefined</td>\n",
       "      <td>undefined</td>\n",
       "      <td>undefined</td>\n",
       "      <td>undefined</td>\n",
       "      <td>Junk</td>\n",
       "    </tr>\n",
       "    <tr>\n",
       "      <th>5</th>\n",
       "      <td>6</td>\n",
       "      <td>?luck with kindle?</td>\n",
       "      <td>agreed, the kindle app is not my favorite envi...</td>\n",
       "      <td>following</td>\n",
       "      <td>tagged</td>\n",
       "      <td></td>\n",
       "      <td>undefined</td>\n",
       "      <td>undefined</td>\n",
       "      <td>undefined</td>\n",
       "      <td>undefined</td>\n",
       "      <td>undefined</td>\n",
       "      <td>Junk</td>\n",
       "    </tr>\n",
       "    <tr>\n",
       "      <th>6</th>\n",
       "      <td>7</td>\n",
       "      <td>?luck with kindle?</td>\n",
       "      <td>well i have not had any luck on two of my pcs ...</td>\n",
       "      <td>following</td>\n",
       "      <td>tagged</td>\n",
       "      <td></td>\n",
       "      <td>undefined</td>\n",
       "      <td>undefined</td>\n",
       "      <td>undefined</td>\n",
       "      <td>undefined</td>\n",
       "      <td>undefined</td>\n",
       "      <td>Junk</td>\n",
       "    </tr>\n",
       "    <tr>\n",
       "      <th>7</th>\n",
       "      <td>8</td>\n",
       "      <td>?luck with kindle?</td>\n",
       "      <td>did you do something different in order to get...</td>\n",
       "      <td>following</td>\n",
       "      <td>tagged</td>\n",
       "      <td></td>\n",
       "      <td>undefined</td>\n",
       "      <td>undefined</td>\n",
       "      <td>undefined</td>\n",
       "      <td>undefined</td>\n",
       "      <td>undefined</td>\n",
       "      <td>Junk</td>\n",
       "    </tr>\n",
       "    <tr>\n",
       "      <th>8</th>\n",
       "      <td>9</td>\n",
       "      <td>?luck with kindle?</td>\n",
       "      <td>i downloaded the apps to my phone and pad with...</td>\n",
       "      <td>following</td>\n",
       "      <td>tagged</td>\n",
       "      <td></td>\n",
       "      <td>undefined</td>\n",
       "      <td>undefined</td>\n",
       "      <td>undefined</td>\n",
       "      <td>undefined</td>\n",
       "      <td>undefined</td>\n",
       "      <td>Junk</td>\n",
       "    </tr>\n",
       "    <tr>\n",
       "      <th>9</th>\n",
       "      <td>10</td>\n",
       "      <td>?luck with kindle?</td>\n",
       "      <td>hi,    i am not sure what information you are ...</td>\n",
       "      <td>following</td>\n",
       "      <td>tagged</td>\n",
       "      <td></td>\n",
       "      <td>undefined</td>\n",
       "      <td>undefined</td>\n",
       "      <td>undefined</td>\n",
       "      <td>undefined</td>\n",
       "      <td>undefined</td>\n",
       "      <td>Junk</td>\n",
       "    </tr>\n",
       "  </tbody>\n",
       "</table>\n",
       "</div>"
      ],
      "text/plain": [
       "   ID                                              Title  \\\n",
       "0   1  : a history of jaws and windows, was: training...   \n",
       "1   2                                 ?luck with kindle?   \n",
       "2   3                                 ?luck with kindle?   \n",
       "3   4                                 ?luck with kindle?   \n",
       "4   5                                 ?luck with kindle?   \n",
       "5   6                                 ?luck with kindle?   \n",
       "6   7                                 ?luck with kindle?   \n",
       "7   8                                 ?luck with kindle?   \n",
       "8   9                                 ?luck with kindle?   \n",
       "9  10                                 ?luck with kindle?   \n",
       "\n",
       "                                                Post       Type      Tag1  \\\n",
       "0  : a history of jaws and windows, was: training...   original  original   \n",
       "1  ?luck with kindle? has anyone had any luck usi...   original    tagged   \n",
       "2  ?luck with kindle? anyone have any luck using ...   original    tagged   \n",
       "3  no i never had any success with the ap for pc!...  following    tagged   \n",
       "4  yes you have to download the kindle for pc wit...  following    tagged   \n",
       "5  agreed, the kindle app is not my favorite envi...  following    tagged   \n",
       "6  well i have not had any luck on two of my pcs ...  following    tagged   \n",
       "7  did you do something different in order to get...  following    tagged   \n",
       "8  i downloaded the apps to my phone and pad with...  following    tagged   \n",
       "9  hi,    i am not sure what information you are ...  following    tagged   \n",
       "\n",
       "  Tag2       Help    Problem     Answer  Clarification Elaboration       Junk  \n",
       "0       undefined  undefined  undefined  Clarification   undefined  undefined  \n",
       "1       undefined  undefined  undefined      undefined   undefined       Junk  \n",
       "2       undefined  undefined  undefined      undefined   undefined       Junk  \n",
       "3       undefined  undefined  undefined      undefined   undefined       Junk  \n",
       "4       undefined  undefined  undefined      undefined   undefined       Junk  \n",
       "5       undefined  undefined  undefined      undefined   undefined       Junk  \n",
       "6       undefined  undefined  undefined      undefined   undefined       Junk  \n",
       "7       undefined  undefined  undefined      undefined   undefined       Junk  \n",
       "8       undefined  undefined  undefined      undefined   undefined       Junk  \n",
       "9       undefined  undefined  undefined      undefined   undefined       Junk  "
      ]
     },
     "execution_count": 10,
     "metadata": {},
     "output_type": "execute_result"
    }
   ],
   "source": [
    "df.head(10)"
   ]
  },
  {
   "cell_type": "code",
   "execution_count": 11,
   "metadata": {},
   "outputs": [
    {
     "data": {
      "application/vnd.jupyter.widget-view+json": {
       "model_id": "e914ed027be64c868498cb867726589b",
       "version_major": 2,
       "version_minor": 0
      },
      "text/html": [
       "<p>Failed to display Jupyter Widget of type <code>HBox</code>.</p>\n",
       "<p>\n",
       "  If you're reading this message in the Jupyter Notebook or JupyterLab Notebook, it may mean\n",
       "  that the widgets JavaScript is still loading. If this message persists, it\n",
       "  likely means that the widgets JavaScript library is either not installed or\n",
       "  not enabled. See the <a href=\"https://ipywidgets.readthedocs.io/en/stable/user_install.html\">Jupyter\n",
       "  Widgets Documentation</a> for setup instructions.\n",
       "</p>\n",
       "<p>\n",
       "  If you're reading this message in another frontend (for example, a static\n",
       "  rendering on GitHub or <a href=\"https://nbviewer.jupyter.org/\">NBViewer</a>),\n",
       "  it may mean that your frontend doesn't currently support widgets.\n",
       "</p>\n"
      ],
      "text/plain": [
       "HBox(children=(IntProgress(value=0, max=21845), HTML(value='')))"
      ]
     },
     "metadata": {},
     "output_type": "display_data"
    },
    {
     "name": "stdout",
     "output_type": "stream",
     "text": [
      "\n"
     ]
    }
   ],
   "source": [
    "df[\"Post\"] = df[\"Post\"].progress_apply(replace_sw_name)"
   ]
  },
  {
   "cell_type": "code",
   "execution_count": 12,
   "metadata": {},
   "outputs": [],
   "source": [
    "df.to_csv('./Data/sync_sw_name_jaws.csv', index = None)"
   ]
  },
  {
   "cell_type": "code",
   "execution_count": 13,
   "metadata": {},
   "outputs": [
    {
     "data": {
      "text/plain": [
       "21845"
      ]
     },
     "execution_count": 13,
     "metadata": {},
     "output_type": "execute_result"
    }
   ],
   "source": [
    "len(df)"
   ]
  }
 ],
 "metadata": {
  "kernelspec": {
   "display_name": "Python 3",
   "language": "python",
   "name": "python3"
  },
  "language_info": {
   "codemirror_mode": {
    "name": "ipython",
    "version": 3
   },
   "file_extension": ".py",
   "mimetype": "text/x-python",
   "name": "python",
   "nbconvert_exporter": "python",
   "pygments_lexer": "ipython3",
   "version": "3.6.4"
  }
 },
 "nbformat": 4,
 "nbformat_minor": 2
}
