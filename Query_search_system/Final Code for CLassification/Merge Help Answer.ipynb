{
 "cells": [
  {
   "cell_type": "code",
   "execution_count": 1,
   "metadata": {},
   "outputs": [],
   "source": [
    "import pandas as pd"
   ]
  },
  {
   "cell_type": "code",
   "execution_count": 2,
   "metadata": {},
   "outputs": [
    {
     "name": "stdout",
     "output_type": "stream",
     "text": [
      "5294\n",
      "35965\n"
     ]
    }
   ],
   "source": [
    "df_help = pd.read_csv('./Data/Help_prediction_v2.csv')\n",
    "print(len(df_help))\n",
    "df_answer = pd.read_csv('./Data/Answer_prediction_v2.csv')\n",
    "print(len(df_answer))"
   ]
  },
  {
   "cell_type": "code",
   "execution_count": 3,
   "metadata": {},
   "outputs": [
    {
     "data": {
      "text/html": [
       "<div>\n",
       "<style scoped>\n",
       "    .dataframe tbody tr th:only-of-type {\n",
       "        vertical-align: middle;\n",
       "    }\n",
       "\n",
       "    .dataframe tbody tr th {\n",
       "        vertical-align: top;\n",
       "    }\n",
       "\n",
       "    .dataframe thead th {\n",
       "        text-align: right;\n",
       "    }\n",
       "</style>\n",
       "<table border=\"1\" class=\"dataframe\">\n",
       "  <thead>\n",
       "    <tr style=\"text-align: right;\">\n",
       "      <th></th>\n",
       "      <th>ID</th>\n",
       "      <th>Title</th>\n",
       "      <th>Original_post</th>\n",
       "      <th>Tag</th>\n",
       "    </tr>\n",
       "  </thead>\n",
       "  <tbody>\n",
       "    <tr>\n",
       "      <th>0</th>\n",
       "      <td>1</td>\n",
       "      <td>2017.2</td>\n",
       "      <td>2017.2 \" hello,    i didn't see any announceme...</td>\n",
       "      <td>Help</td>\n",
       "    </tr>\n",
       "    <tr>\n",
       "      <th>1</th>\n",
       "      <td>8</td>\n",
       "      <td>2500</td>\n",
       "      <td>2500 \" hi brad, 2 5 0 0 reads as 2 thousand fi...</td>\n",
       "      <td>Help</td>\n",
       "    </tr>\n",
       "    <tr>\n",
       "      <th>2</th>\n",
       "      <td>9</td>\n",
       "      <td>.pdf readers</td>\n",
       "      <td>.pdf readers \"              is there a pdf rea...</td>\n",
       "      <td>Help</td>\n",
       "    </tr>\n",
       "    <tr>\n",
       "      <th>3</th>\n",
       "      <td>25</td>\n",
       "      <td>10 super efficient ways inbox by gmail saves y...</td>\n",
       "      <td>10 super efficient ways inbox by gmail saves y...</td>\n",
       "      <td>Junk</td>\n",
       "    </tr>\n",
       "    <tr>\n",
       "      <th>4</th>\n",
       "      <td>26</td>\n",
       "      <td>2 22 next install</td>\n",
       "      <td>2 22 next install seems like some changes in t...</td>\n",
       "      <td>Junk</td>\n",
       "    </tr>\n",
       "  </tbody>\n",
       "</table>\n",
       "</div>"
      ],
      "text/plain": [
       "   ID                                              Title  \\\n",
       "0   1                                             2017.2   \n",
       "1   8                                               2500   \n",
       "2   9                                       .pdf readers   \n",
       "3  25  10 super efficient ways inbox by gmail saves y...   \n",
       "4  26                                  2 22 next install   \n",
       "\n",
       "                                       Original_post   Tag  \n",
       "0  2017.2 \" hello,    i didn't see any announceme...  Help  \n",
       "1  2500 \" hi brad, 2 5 0 0 reads as 2 thousand fi...  Help  \n",
       "2  .pdf readers \"              is there a pdf rea...  Help  \n",
       "3  10 super efficient ways inbox by gmail saves y...  Junk  \n",
       "4  2 22 next install seems like some changes in t...  Junk  "
      ]
     },
     "execution_count": 3,
     "metadata": {},
     "output_type": "execute_result"
    }
   ],
   "source": [
    "df_help.head()"
   ]
  },
  {
   "cell_type": "code",
   "execution_count": 4,
   "metadata": {},
   "outputs": [
    {
     "data": {
      "text/html": [
       "<div>\n",
       "<style scoped>\n",
       "    .dataframe tbody tr th:only-of-type {\n",
       "        vertical-align: middle;\n",
       "    }\n",
       "\n",
       "    .dataframe tbody tr th {\n",
       "        vertical-align: top;\n",
       "    }\n",
       "\n",
       "    .dataframe thead th {\n",
       "        text-align: right;\n",
       "    }\n",
       "</style>\n",
       "<table border=\"1\" class=\"dataframe\">\n",
       "  <thead>\n",
       "    <tr style=\"text-align: right;\">\n",
       "      <th></th>\n",
       "      <th>ID</th>\n",
       "      <th>Title</th>\n",
       "      <th>Original_post</th>\n",
       "      <th>Tag</th>\n",
       "    </tr>\n",
       "  </thead>\n",
       "  <tbody>\n",
       "    <tr>\n",
       "      <th>0</th>\n",
       "      <td>2</td>\n",
       "      <td>2017.2</td>\n",
       "      <td>\" hi, dave,    yes, the update is available. i...</td>\n",
       "      <td>Answer</td>\n",
       "    </tr>\n",
       "    <tr>\n",
       "      <th>1</th>\n",
       "      <td>3</td>\n",
       "      <td>2017.2</td>\n",
       "      <td>it is out no change i suspect from the release...</td>\n",
       "      <td>Answer</td>\n",
       "    </tr>\n",
       "    <tr>\n",
       "      <th>2</th>\n",
       "      <td>4</td>\n",
       "      <td>2017.2</td>\n",
       "      <td>\" hi!    i also updated to the latest nvda-ver...</td>\n",
       "      <td>Junk</td>\n",
       "    </tr>\n",
       "    <tr>\n",
       "      <th>3</th>\n",
       "      <td>5</td>\n",
       "      <td>2017.2</td>\n",
       "      <td>\"  sorry folks, mick and jamie were working la...</td>\n",
       "      <td>Answer</td>\n",
       "    </tr>\n",
       "    <tr>\n",
       "      <th>4</th>\n",
       "      <td>6</td>\n",
       "      <td>2017.2</td>\n",
       "      <td>\" yes i've been on master ever since the selec...</td>\n",
       "      <td>Junk</td>\n",
       "    </tr>\n",
       "  </tbody>\n",
       "</table>\n",
       "</div>"
      ],
      "text/plain": [
       "   ID   Title                                      Original_post     Tag\n",
       "0   2  2017.2  \" hi, dave,    yes, the update is available. i...  Answer\n",
       "1   3  2017.2  it is out no change i suspect from the release...  Answer\n",
       "2   4  2017.2  \" hi!    i also updated to the latest nvda-ver...    Junk\n",
       "3   5  2017.2  \"  sorry folks, mick and jamie were working la...  Answer\n",
       "4   6  2017.2  \" yes i've been on master ever since the selec...    Junk"
      ]
     },
     "execution_count": 4,
     "metadata": {},
     "output_type": "execute_result"
    }
   ],
   "source": [
    "df_answer.head()"
   ]
  },
  {
   "cell_type": "code",
   "execution_count": 5,
   "metadata": {},
   "outputs": [],
   "source": [
    "df_combined = df_help\n",
    "df_combined.rename(columns={'Tag': 'Help'}, inplace=True)\n",
    "df_combined['Answer'] = df_answer['Tag']"
   ]
  },
  {
   "cell_type": "code",
   "execution_count": 6,
   "metadata": {},
   "outputs": [
    {
     "data": {
      "text/html": [
       "<div>\n",
       "<style scoped>\n",
       "    .dataframe tbody tr th:only-of-type {\n",
       "        vertical-align: middle;\n",
       "    }\n",
       "\n",
       "    .dataframe tbody tr th {\n",
       "        vertical-align: top;\n",
       "    }\n",
       "\n",
       "    .dataframe thead th {\n",
       "        text-align: right;\n",
       "    }\n",
       "</style>\n",
       "<table border=\"1\" class=\"dataframe\">\n",
       "  <thead>\n",
       "    <tr style=\"text-align: right;\">\n",
       "      <th></th>\n",
       "      <th>ID</th>\n",
       "      <th>Title</th>\n",
       "      <th>Original_post</th>\n",
       "      <th>Help</th>\n",
       "      <th>Answer</th>\n",
       "    </tr>\n",
       "  </thead>\n",
       "  <tbody>\n",
       "    <tr>\n",
       "      <th>0</th>\n",
       "      <td>1</td>\n",
       "      <td>2017.2</td>\n",
       "      <td>2017.2 \" hello,    i didn't see any announceme...</td>\n",
       "      <td>Help</td>\n",
       "      <td>Answer</td>\n",
       "    </tr>\n",
       "    <tr>\n",
       "      <th>1</th>\n",
       "      <td>8</td>\n",
       "      <td>2500</td>\n",
       "      <td>2500 \" hi brad, 2 5 0 0 reads as 2 thousand fi...</td>\n",
       "      <td>Help</td>\n",
       "      <td>Answer</td>\n",
       "    </tr>\n",
       "    <tr>\n",
       "      <th>2</th>\n",
       "      <td>9</td>\n",
       "      <td>.pdf readers</td>\n",
       "      <td>.pdf readers \"              is there a pdf rea...</td>\n",
       "      <td>Help</td>\n",
       "      <td>Junk</td>\n",
       "    </tr>\n",
       "    <tr>\n",
       "      <th>3</th>\n",
       "      <td>25</td>\n",
       "      <td>10 super efficient ways inbox by gmail saves y...</td>\n",
       "      <td>10 super efficient ways inbox by gmail saves y...</td>\n",
       "      <td>Junk</td>\n",
       "      <td>Answer</td>\n",
       "    </tr>\n",
       "    <tr>\n",
       "      <th>4</th>\n",
       "      <td>26</td>\n",
       "      <td>2 22 next install</td>\n",
       "      <td>2 22 next install seems like some changes in t...</td>\n",
       "      <td>Junk</td>\n",
       "      <td>Junk</td>\n",
       "    </tr>\n",
       "    <tr>\n",
       "      <th>5</th>\n",
       "      <td>28</td>\n",
       "      <td>2 instances?</td>\n",
       "      <td>2 instances? \" why do i suddenly have 2 instan...</td>\n",
       "      <td>Help</td>\n",
       "      <td>Junk</td>\n",
       "    </tr>\n",
       "    <tr>\n",
       "      <th>6</th>\n",
       "      <td>34</td>\n",
       "      <td>2 items need help with</td>\n",
       "      <td>2 items need help with \"          good morning...</td>\n",
       "      <td>Help</td>\n",
       "      <td>Answer</td>\n",
       "    </tr>\n",
       "    <tr>\n",
       "      <th>7</th>\n",
       "      <td>38</td>\n",
       "      <td>2 nvda questions</td>\n",
       "      <td>2 nvda questions hello where can i get the lat...</td>\n",
       "      <td>Junk</td>\n",
       "      <td>Answer</td>\n",
       "    </tr>\n",
       "    <tr>\n",
       "      <th>8</th>\n",
       "      <td>40</td>\n",
       "      <td>2 things</td>\n",
       "      <td>2 things \" hi, i was just wondering two things...</td>\n",
       "      <td>Help</td>\n",
       "      <td>Answer</td>\n",
       "    </tr>\n",
       "    <tr>\n",
       "      <th>9</th>\n",
       "      <td>45</td>\n",
       "      <td>2016.2.1</td>\n",
       "      <td>2016.2.1 \" sadly, this new update didn      t ...</td>\n",
       "      <td>Junk</td>\n",
       "      <td>Junk</td>\n",
       "    </tr>\n",
       "  </tbody>\n",
       "</table>\n",
       "</div>"
      ],
      "text/plain": [
       "   ID                                              Title  \\\n",
       "0   1                                             2017.2   \n",
       "1   8                                               2500   \n",
       "2   9                                       .pdf readers   \n",
       "3  25  10 super efficient ways inbox by gmail saves y...   \n",
       "4  26                                  2 22 next install   \n",
       "5  28                                       2 instances?   \n",
       "6  34                             2 items need help with   \n",
       "7  38                                   2 nvda questions   \n",
       "8  40                                           2 things   \n",
       "9  45                                           2016.2.1   \n",
       "\n",
       "                                       Original_post  Help  Answer  \n",
       "0  2017.2 \" hello,    i didn't see any announceme...  Help  Answer  \n",
       "1  2500 \" hi brad, 2 5 0 0 reads as 2 thousand fi...  Help  Answer  \n",
       "2  .pdf readers \"              is there a pdf rea...  Help    Junk  \n",
       "3  10 super efficient ways inbox by gmail saves y...  Junk  Answer  \n",
       "4  2 22 next install seems like some changes in t...  Junk    Junk  \n",
       "5  2 instances? \" why do i suddenly have 2 instan...  Help    Junk  \n",
       "6  2 items need help with \"          good morning...  Help  Answer  \n",
       "7  2 nvda questions hello where can i get the lat...  Junk  Answer  \n",
       "8  2 things \" hi, i was just wondering two things...  Help  Answer  \n",
       "9  2016.2.1 \" sadly, this new update didn      t ...  Junk    Junk  "
      ]
     },
     "execution_count": 6,
     "metadata": {},
     "output_type": "execute_result"
    }
   ],
   "source": [
    "df_combined.head(10)"
   ]
  },
  {
   "cell_type": "code",
   "execution_count": 7,
   "metadata": {},
   "outputs": [],
   "source": [
    "def assign_tag(row):\n",
    "    if row[3] == 'Junk' and row[4] == 'Junk':\n",
    "        return 'Junk'\n",
    "    elif row[3] == 'Help' and row[4] == 'Junk':\n",
    "        return 'Help'\n",
    "    elif row[3] == 'Junk' and row[4] == 'Answer':\n",
    "        return 'Answer'\n",
    "    else:\n",
    "        return 'Answer'"
   ]
  },
  {
   "cell_type": "code",
   "execution_count": 8,
   "metadata": {},
   "outputs": [
    {
     "data": {
      "application/vnd.jupyter.widget-view+json": {
       "model_id": "ca1ef919ffca46be9c25361db54effec",
       "version_major": 2,
       "version_minor": 0
      },
      "text/html": [
       "<p>Failed to display Jupyter Widget of type <code>HBox</code>.</p>\n",
       "<p>\n",
       "  If you're reading this message in the Jupyter Notebook or JupyterLab Notebook, it may mean\n",
       "  that the widgets JavaScript is still loading. If this message persists, it\n",
       "  likely means that the widgets JavaScript library is either not installed or\n",
       "  not enabled. See the <a href=\"https://ipywidgets.readthedocs.io/en/stable/user_install.html\">Jupyter\n",
       "  Widgets Documentation</a> for setup instructions.\n",
       "</p>\n",
       "<p>\n",
       "  If you're reading this message in another frontend (for example, a static\n",
       "  rendering on GitHub or <a href=\"https://nbviewer.jupyter.org/\">NBViewer</a>),\n",
       "  it may mean that your frontend doesn't currently support widgets.\n",
       "</p>\n"
      ],
      "text/plain": [
       "HBox(children=(IntProgress(value=0, max=5294), HTML(value='')))"
      ]
     },
     "metadata": {},
     "output_type": "display_data"
    },
    {
     "name": "stdout",
     "output_type": "stream",
     "text": [
      "\n"
     ]
    }
   ],
   "source": [
    "from tqdm._tqdm_notebook import tqdm_notebook\n",
    "import pandas as pd\n",
    "tqdm_notebook.pandas()\n",
    "\n",
    "df_combined['Tag'] = df_combined.progress_apply(assign_tag,axis=1)"
   ]
  },
  {
   "cell_type": "code",
   "execution_count": 9,
   "metadata": {},
   "outputs": [
    {
     "name": "stdout",
     "output_type": "stream",
     "text": [
      "5294\n",
      "5159\n"
     ]
    }
   ],
   "source": [
    "print(len(df_combined))\n",
    "df_combined = df_combined[df_combined.Tag != 'Junk']\n",
    "print(len(df_combined))"
   ]
  },
  {
   "cell_type": "code",
   "execution_count": 25,
   "metadata": {},
   "outputs": [],
   "source": [
    "df_combined.to_csv('./Data/to_es.csv', index=False)"
   ]
  }
 ],
 "metadata": {
  "kernelspec": {
   "display_name": "Python 3",
   "language": "python",
   "name": "python3"
  },
  "language_info": {
   "codemirror_mode": {
    "name": "ipython",
    "version": 3
   },
   "file_extension": ".py",
   "mimetype": "text/x-python",
   "name": "python",
   "nbconvert_exporter": "python",
   "pygments_lexer": "ipython3",
   "version": "3.6.4"
  }
 },
 "nbformat": 4,
 "nbformat_minor": 2
}
